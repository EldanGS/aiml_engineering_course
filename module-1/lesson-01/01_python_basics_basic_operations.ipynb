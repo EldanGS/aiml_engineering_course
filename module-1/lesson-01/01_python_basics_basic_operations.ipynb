{
 "cells": [
  {
   "cell_type": "markdown",
   "id": "3e795a55-67f0-42ea-ba08-191dd17c8834",
   "metadata": {},
   "source": [
    "# Python Basics\n",
    "Welcome everybody! \n",
    "\n",
    "We're starting our journey with the Python language. \n",
    "\n",
    "For simplicity, we'll initially write all Python programs in Jupyter environment. Hope it's pre-configured and accessible from your browser or IDE. \n",
    "\n",
    "The text you're reading was written in a `\"cell\"`. \n",
    "A \"cell\" is an indivisible unit of text or code that Jupyter executes as a whole.\n",
    "\n",
    "Create a new cell by clicking the `+` button in the toolbar above. \n",
    "\n",
    "Try creating a new cell, clicking inside it (cursor will appear), writing:\n",
    "```python\n",
    "1 + 5\n",
    "```\n",
    "and \"executing\" it with `Ctrl + Enter` or `Shift + Enter`. \n",
    "\n",
    "Below the cell, the number 6 will appear - this result was calculated by Python.\n",
    "\n",
    "Cells allow immediate result viewing - that's their advantage.\n",
    "\n",
    "We'll start with basic language constructs."
   ]
  },
  {
   "cell_type": "code",
   "execution_count": 47,
   "id": "6ffae4af",
   "metadata": {},
   "outputs": [
    {
     "data": {
      "text/plain": [
       "6"
      ]
     },
     "execution_count": 47,
     "metadata": {},
     "output_type": "execute_result"
    }
   ],
   "source": [
    "1 + 5"
   ]
  },
  {
   "cell_type": "markdown",
   "id": "0e565f3b-1e42-4df1-9ed4-6b6750b0998a",
   "metadata": {},
   "source": [
    "## Basic Operations\n",
    "Let's examine fundamental operations every Python programmer uses."
   ]
  },
  {
   "cell_type": "code",
   "execution_count": 48,
   "id": "b0d3526a-8035-4a0b-a42e-f74cf1401c2a",
   "metadata": {
    "ExecuteTime": {
     "end_time": "2021-12-13T17:01:41.135287Z",
     "start_time": "2021-12-13T17:01:41.121870Z"
    }
   },
   "outputs": [],
   "source": [
    "# This is a comment. Python ignores everything after # until end of line\n",
    "# The editor highlights this in gray\n",
    "\n",
    "# Empty lines are also ignored and carry no meaning\n",
    "\n",
    "# The = (equals) sign is assignment. We're asking to store value 5 in variable \"a\"\n",
    "a = 5"
   ]
  },
  {
   "cell_type": "code",
   "execution_count": 49,
   "id": "3c3a7c1b-a07a-4622-81df-dc450113ed24",
   "metadata": {
    "ExecuteTime": {
     "end_time": "2021-12-13T17:02:02.067614Z",
     "start_time": "2021-12-13T17:02:02.034233Z"
    }
   },
   "outputs": [
    {
     "data": {
      "text/plain": [
       "5"
      ]
     },
     "execution_count": 49,
     "metadata": {},
     "output_type": "execute_result"
    }
   ],
   "source": [
    "# Now we can retrieve the value by name \"a\" - currently it's 5. Jupyter will show this\n",
    "a"
   ]
  },
  {
   "cell_type": "code",
   "execution_count": 50,
   "id": "1eebc30c-13c0-49d4-829b-586a63b543be",
   "metadata": {
    "ExecuteTime": {
     "end_time": "2021-12-13T17:02:37.699522Z",
     "start_time": "2021-12-13T17:02:37.694261Z"
    }
   },
   "outputs": [
    {
     "data": {
      "text/plain": [
       "55"
      ]
     },
     "execution_count": 50,
     "metadata": {},
     "output_type": "execute_result"
    }
   ],
   "source": [
    "# Arithmetic operations work with numbers\n",
    "5 * 11"
   ]
  },
  {
   "cell_type": "code",
   "execution_count": 51,
   "id": "8c52c8e8-1e92-45d2-be87-8cc2abc89424",
   "metadata": {
    "ExecuteTime": {
     "end_time": "2021-12-13T17:02:44.126658Z",
     "start_time": "2021-12-13T17:02:44.120077Z"
    }
   },
   "outputs": [
    {
     "data": {
      "text/plain": [
       "55"
      ]
     },
     "execution_count": 51,
     "metadata": {},
     "output_type": "execute_result"
    }
   ],
   "source": [
    "# And with variables\n",
    "11 * a"
   ]
  },
  {
   "cell_type": "code",
   "execution_count": 52,
   "id": "5e75d5e1-5189-4fd1-8df6-dab293bf9d4d",
   "metadata": {
    "ExecuteTime": {
     "end_time": "2021-12-13T17:03:56.789035Z",
     "start_time": "2021-12-13T17:03:56.786264Z"
    }
   },
   "outputs": [
    {
     "name": "stdout",
     "output_type": "stream",
     "text": [
      "5\n"
     ]
    }
   ],
   "source": [
    "# We can explicitly print values using the print function\n",
    "# Like f(x) in math - function f takes argument x and performs actions\n",
    "print(a)  \n",
    "# In our case - prints it"
   ]
  },
  {
   "cell_type": "code",
   "execution_count": 53,
   "id": "c3f926bd-8be4-4d40-98c3-1ddfb1801a39",
   "metadata": {
    "ExecuteTime": {
     "end_time": "2021-12-13T17:05:43.544791Z",
     "start_time": "2021-12-13T17:05:43.541621Z"
    }
   },
   "outputs": [
    {
     "name": "stdout",
     "output_type": "stream",
     "text": [
      "4 1 hello 5\n"
     ]
    }
   ],
   "source": [
    "# print can take any number of arguments (separated by commas)\n",
    "# It will print them all separated by spaces\n",
    "print(4, 1, 'hello', a)"
   ]
  },
  {
   "cell_type": "code",
   "execution_count": 54,
   "id": "f7b4ff0d-10c2-4291-8f81-e04bea47803c",
   "metadata": {
    "ExecuteTime": {
     "end_time": "2021-12-13T17:06:46.850559Z",
     "start_time": "2021-12-13T17:06:46.841477Z"
    }
   },
   "outputs": [
    {
     "data": {
      "text/plain": [
       "2"
      ]
     },
     "execution_count": 54,
     "metadata": {},
     "output_type": "execute_result"
    }
   ],
   "source": [
    "# Integer division discards fractional part\n",
    "5 // 2"
   ]
  },
  {
   "cell_type": "code",
   "execution_count": 55,
   "id": "1509a63d-f8c4-4b63-905a-ea280b3755b5",
   "metadata": {
    "ExecuteTime": {
     "end_time": "2021-12-13T17:07:23.163200Z",
     "start_time": "2021-12-13T17:07:23.157345Z"
    }
   },
   "outputs": [
    {
     "data": {
      "text/plain": [
       "1"
      ]
     },
     "execution_count": 55,
     "metadata": {},
     "output_type": "execute_result"
    }
   ],
   "source": [
    "# Modulo operation uses % symbol\n",
    "5 % 2"
   ]
  },
  {
   "cell_type": "code",
   "execution_count": 56,
   "id": "c2ce8054-5b11-4b56-9a9a-43bd8039121e",
   "metadata": {
    "ExecuteTime": {
     "end_time": "2021-12-13T17:09:03.485664Z",
     "start_time": "2021-12-13T17:09:03.482475Z"
    }
   },
   "outputs": [
    {
     "name": "stdout",
     "output_type": "stream",
     "text": [
      "5.0\n",
      "2.0\n"
     ]
    }
   ],
   "source": [
    "# Variables can change values during execution - hence the name\n",
    "a = 10\n",
    "print(a / 2)\n",
    "a = 4\n",
    "print(a / 2)"
   ]
  },
  {
   "cell_type": "markdown",
   "id": "6c19f52e-73f0-48c8-a0ed-8fed7c71cf3e",
   "metadata": {},
   "source": [
    "From the example above, you can see multiple commands in one cell - Jupyter executes them sequentially. Python expects each command on a new line."
   ]
  },
  {
   "cell_type": "markdown",
   "id": "71631b14-3a35-4802-ae60-3fa16bd914fa",
   "metadata": {},
   "source": [
    "### Why use variables?\n",
    "Variables have two advantages:\n",
    "1. Make logic independent of specific numbers\n",
    "2. Make data transformations readable\n",
    "\n",
    "Example:\n",
    "Calculate investment returns after 5 years from different banks. We have $1000 and two banks with different rates:\n",
    "1. Bank \"Spring\" offers 3% annual interest\n",
    "2. Bank \"Autumn\" offers 2% but is more reliable\n",
    "\n",
    "Calculate final amount after 5 years:"
   ]
  },
  {
   "cell_type": "code",
   "execution_count": 57,
   "id": "81e4668c",
   "metadata": {
    "ExecuteTime": {
     "end_time": "2021-12-13T17:12:43.976458Z",
     "start_time": "2021-12-13T17:12:43.969892Z"
    }
   },
   "outputs": [
    {
     "data": {
      "text/plain": [
       "27"
      ]
     },
     "execution_count": 57,
     "metadata": {},
     "output_type": "execute_result"
    }
   ],
   "source": [
    "3 ** 3  # 3 * 3 * 3"
   ]
  },
  {
   "cell_type": "code",
   "execution_count": 58,
   "id": "8e0932ab-f07b-4e73-b8bf-28b473ec1d67",
   "metadata": {
    "ExecuteTime": {
     "end_time": "2021-12-13T17:13:07.557427Z",
     "start_time": "2021-12-13T17:13:07.551383Z"
    }
   },
   "outputs": [
    {
     "data": {
      "text/plain": [
       "1159.2740743000002"
      ]
     },
     "execution_count": 58,
     "metadata": {},
     "output_type": "execute_result"
    }
   ],
   "source": [
    "# Double asterisk is exponentiation operator\n",
    "# Note parentheses determine operation order\n",
    "1000 * ((100 + 3) / 100)**5"
   ]
  },
  {
   "cell_type": "code",
   "execution_count": 59,
   "id": "65f578cc-09d3-499d-ab2e-2571ee3c0da4",
   "metadata": {
    "ExecuteTime": {
     "end_time": "2021-12-13T17:13:09.277600Z",
     "start_time": "2021-12-13T17:13:09.271538Z"
    }
   },
   "outputs": [
    {
     "data": {
      "text/plain": [
       "1104.0808032"
      ]
     },
     "execution_count": 59,
     "metadata": {},
     "output_type": "execute_result"
    }
   ],
   "source": [
    "# Spaces between operators are ignored\n",
    "1000 * ((100 + 2) / 100) ** 5"
   ]
  },
  {
   "cell_type": "markdown",
   "id": "9dce6726-fc0f-4b0e-816f-a45485d9d0a5",
   "metadata": {},
   "source": [
    "Looking at the code, it's unclear what the first 1000 represents.\n",
    "You need to know the original problem.\n",
    "\n",
    "Let's rewrite using variables:"
   ]
  },
  {
   "cell_type": "code",
   "execution_count": 60,
   "id": "f8145aaf-281c-4b72-8532-5858f0d34eab",
   "metadata": {
    "ExecuteTime": {
     "end_time": "2021-12-13T17:15:09.893509Z",
     "start_time": "2021-12-13T17:15:09.888956Z"
    }
   },
   "outputs": [
    {
     "data": {
      "text/plain": [
       "1159.2740743000002"
      ]
     },
     "execution_count": 60,
     "metadata": {},
     "output_type": "execute_result"
    }
   ],
   "source": [
    "initial_sum = 1000\n",
    "interest_rate = 3\n",
    "years = 5\n",
    "# Now the calculation logic is clear for any input\n",
    "end_sum = initial_sum * ((100 + interest_rate) / 100)**years\n",
    "end_sum"
   ]
  },
  {
   "cell_type": "markdown",
   "id": "040bdc05-d5d7-42db-9a52-5ae7fd9ba56e",
   "metadata": {},
   "source": [
    "Recalculating for different rates is easy - just change the second line setting `interest_rate`."
   ]
  },
  {
   "cell_type": "markdown",
   "id": "0872bd6d-3688-4d25-8c39-5d1f2f956c2f",
   "metadata": {},
   "source": [
    "# NEXT SECTION \n",
    "\n",
    "### Other Variable Types\n",
    "Variables can store more than numbers! There are strings, floating-point numbers (called *float*), and more.\n",
    "#### Strings"
   ]
  },
  {
   "cell_type": "code",
   "execution_count": 61,
   "id": "75a735c9-c3bf-49fa-8b6d-4f70c3d6c2be",
   "metadata": {
    "ExecuteTime": {
     "end_time": "2021-12-13T17:17:18.033429Z",
     "start_time": "2021-12-13T17:17:18.029936Z"
    }
   },
   "outputs": [
    {
     "name": "stdout",
     "output_type": "stream",
     "text": [
      "Gennadiy\n",
      "Golovkin\n"
     ]
    }
   ],
   "source": [
    "# Strings are enclosed in quotes\n",
    "# Double quotes\n",
    "name = \"Gennadiy\"\n",
    "# Or single quotes - no difference\n",
    "surname = 'Golovkin'\n",
    "print(name)\n",
    "print(surname)"
   ]
  },
  {
   "cell_type": "code",
   "execution_count": 62,
   "id": "7cdc2cf7",
   "metadata": {
    "ExecuteTime": {
     "end_time": "2021-12-13T17:19:04.896914Z",
     "start_time": "2021-12-13T17:19:04.891691Z"
    }
   },
   "outputs": [
    {
     "name": "stdout",
     "output_type": "stream",
     "text": [
      "32\n"
     ]
    }
   ],
   "source": [
    "print(2 ** 5)"
   ]
  },
  {
   "cell_type": "markdown",
   "id": "800c3b62-b3f2-44b5-a9bd-eff61d483145",
   "metadata": {},
   "source": [
    "In the cell above, 4 commands executed:\n",
    "1. We stored string `Gennadiy` in variable `name`\n",
    "2. We stored string `Golovkin` in variable `surname`\n",
    "3. We called `print` with variable `name`. Python substituted its value and executed `print(\"Gennadiy\")`\n",
    "4. Same as step 3 but with `surname`"
   ]
  },
  {
   "cell_type": "code",
   "execution_count": 63,
   "id": "305f10e8-7ec1-4c45-99f7-f9af587a3040",
   "metadata": {
    "ExecuteTime": {
     "end_time": "2021-12-13T17:21:56.963489Z",
     "start_time": "2021-12-13T17:21:56.958136Z"
    },
    "scrolled": true
   },
   "outputs": [
    {
     "name": "stdout",
     "output_type": "stream",
     "text": [
      "<class 'str'>\n",
      "hello\n",
      "<class 'int'>\n",
      "2\n"
     ]
    }
   ],
   "source": [
    "# Every variable has a type, Python determines it automatically\n",
    "greeting = 'hello'\n",
    "# Print the type\n",
    "print(type(greeting))\n",
    "print(greeting)\n",
    "\n",
    "# Python even allows changing types dynamically! Not all languages allow this\n",
    "greeting = 2\n",
    "print(type(greeting))\n",
    "print(greeting)"
   ]
  },
  {
   "cell_type": "markdown",
   "id": "0e3840b3",
   "metadata": {},
   "source": [
    "#### Boolean"
   ]
  },
  {
   "cell_type": "code",
   "execution_count": 64,
   "id": "70dc4ea5",
   "metadata": {
    "ExecuteTime": {
     "end_time": "2021-12-13T17:24:54.680152Z",
     "start_time": "2021-12-13T17:24:54.674225Z"
    }
   },
   "outputs": [
    {
     "data": {
      "text/plain": [
       "False"
      ]
     },
     "execution_count": 64,
     "metadata": {},
     "output_type": "execute_result"
    }
   ],
   "source": [
    "# Boolean type represents \"yes\" or \"no\"\n",
    "# Python uses True and False\n",
    "# Used extensively in condition checks\n",
    "my_bool = ('5' == 5)  # False, because comparison considers types\n",
    "my_bool"
   ]
  },
  {
   "cell_type": "code",
   "execution_count": 65,
   "id": "350c42e2",
   "metadata": {
    "ExecuteTime": {
     "end_time": "2021-12-13T17:26:57.942223Z",
     "start_time": "2021-12-13T17:26:57.938141Z"
    }
   },
   "outputs": [
    {
     "data": {
      "text/plain": [
       "True"
      ]
     },
     "execution_count": 65,
     "metadata": {},
     "output_type": "execute_result"
    }
   ],
   "source": [
    "my_bool_2 = ('el' in 'hello')  # True, because \"hello\" contains substring \"el\"\n",
    "my_bool_2"
   ]
  },
  {
   "cell_type": "code",
   "execution_count": 66,
   "id": "73537bd5",
   "metadata": {
    "ExecuteTime": {
     "end_time": "2021-12-13T17:28:29.969713Z",
     "start_time": "2021-12-13T17:28:29.962846Z"
    }
   },
   "outputs": [
    {
     "data": {
      "text/plain": [
       "True"
      ]
     },
     "execution_count": 66,
     "metadata": {},
     "output_type": "execute_result"
    }
   ],
   "source": [
    "# Boolean operators: and, or, not\n",
    "# and requires both values to be True\n",
    "a = 3\n",
    "# == is equality operator (different from assignment!)\n",
    "# checks if left and right values are equal\n",
    "(5 == 5) and (a == 3)"
   ]
  },
  {
   "cell_type": "code",
   "execution_count": 67,
   "id": "c56cc23e",
   "metadata": {
    "ExecuteTime": {
     "end_time": "2021-12-13T17:29:30.116545Z",
     "start_time": "2021-12-13T17:29:30.110565Z"
    }
   },
   "outputs": [
    {
     "data": {
      "text/plain": [
       "True"
      ]
     },
     "execution_count": 67,
     "metadata": {},
     "output_type": "execute_result"
    }
   ],
   "source": [
    "# or requires at least one True value\n",
    "(5 == 3) or (a == 3)"
   ]
  },
  {
   "cell_type": "code",
   "execution_count": 68,
   "id": "ca254034",
   "metadata": {
    "ExecuteTime": {
     "end_time": "2021-12-13T17:30:13.148031Z",
     "start_time": "2021-12-13T17:30:13.140768Z"
    }
   },
   "outputs": [
    {
     "data": {
      "text/plain": [
       "True"
      ]
     },
     "execution_count": 68,
     "metadata": {},
     "output_type": "execute_result"
    }
   ],
   "source": [
    "# not returns the opposite value\n",
    "not (5 == 3)"
   ]
  },
  {
   "cell_type": "code",
   "execution_count": 69,
   "id": "7e9292b3",
   "metadata": {
    "ExecuteTime": {
     "end_time": "2021-12-13T17:31:22.230144Z",
     "start_time": "2021-12-13T17:31:22.225799Z"
    }
   },
   "outputs": [
    {
     "data": {
      "text/plain": [
       "True"
      ]
     },
     "execution_count": 69,
     "metadata": {},
     "output_type": "execute_result"
    }
   ],
   "source": [
    "# Typically used for complex logic\n",
    "my_name = 'Alex'\n",
    "(a == 3) or (my_name == 'James')"
   ]
  },
  {
   "cell_type": "markdown",
   "id": "f093fe36",
   "metadata": {},
   "source": [
    "Evaluation order:\n",
    "\n",
    "1. Parentheses\n",
    "2. `not`\n",
    "3. `and`\n",
    "4. `or`"
   ]
  },
  {
   "cell_type": "code",
   "execution_count": 70,
   "id": "5c3f0ed8",
   "metadata": {
    "ExecuteTime": {
     "end_time": "2021-12-13T17:35:07.025829Z",
     "start_time": "2021-12-13T17:35:07.020450Z"
    }
   },
   "outputs": [
    {
     "name": "stdout",
     "output_type": "stream",
     "text": [
      "True\n",
      "True\n",
      "False\n"
     ]
    },
    {
     "data": {
      "text/plain": [
       "True"
      ]
     },
     "execution_count": 70,
     "metadata": {},
     "output_type": "execute_result"
    }
   ],
   "source": [
    "# Other comparison operators\n",
    "# greater than or equal\n",
    "print(5 >= 2)\n",
    "# strictly greater\n",
    "print(5 > 2)  # boolean values can be passed to functions\n",
    "# less than or equal (= always comes second)\n",
    "print(3 <= 1)\n",
    "# not equal\n",
    "'hi' != 'bye'  # equivalent to not ('hi' == 'bye')"
   ]
  },
  {
   "cell_type": "markdown",
   "id": "9c1b2003-65a2-4878-8388-a12e2f2280fe",
   "metadata": {},
   "source": [
    "## List, tuple, set\n",
    "Often we need to store multiple values in a variable. For example, if we want to analyze internet shop customers from last month, it makes sense to keep them together.\n",
    "\n",
    "Python has several types for data collections:\n",
    "- list\n",
    "- tuple\n",
    "- set\n",
    "\n",
    "Let's explore each.\n",
    "### List\n",
    "A collection that can store, retrieve, and remove objects. Remembers the order of elements."
   ]
  },
  {
   "cell_type": "code",
   "execution_count": 71,
   "id": "9c96da20-e619-43d2-a5f2-0ba8d5df210e",
   "metadata": {
    "ExecuteTime": {
     "end_time": "2021-12-13T17:38:28.935099Z",
     "start_time": "2021-12-13T17:38:28.930291Z"
    }
   },
   "outputs": [
    {
     "data": {
      "text/plain": [
       "[1, 2, 3, 5]"
      ]
     },
     "execution_count": 71,
     "metadata": {},
     "output_type": "execute_result"
    }
   ],
   "source": [
    "# Declared with square brackets, elements separated by commas\n",
    "my_list = [1, 2, 3, 5]\n",
    "my_list"
   ]
  },
  {
   "cell_type": "code",
   "execution_count": 72,
   "id": "97456a2c-dba6-4e74-8efd-b4ac9065ea29",
   "metadata": {
    "ExecuteTime": {
     "end_time": "2021-12-13T17:39:30.896400Z",
     "start_time": "2021-12-13T17:39:30.891402Z"
    }
   },
   "outputs": [
    {
     "data": {
      "text/plain": [
       "2"
      ]
     },
     "execution_count": 72,
     "metadata": {},
     "output_type": "execute_result"
    }
   ],
   "source": [
    "# Access elements by index using square brackets\n",
    "# Note: indexing starts at 0\n",
    "my_list[1]  # second element in list"
   ]
  },
  {
   "cell_type": "code",
   "execution_count": 73,
   "id": "a4d47306-5052-4a37-bf92-275ad2fa317a",
   "metadata": {
    "ExecuteTime": {
     "end_time": "2021-12-13T17:39:51.022934Z",
     "start_time": "2021-12-13T17:39:51.018704Z"
    }
   },
   "outputs": [
    {
     "data": {
      "text/plain": [
       "4"
      ]
     },
     "execution_count": 73,
     "metadata": {},
     "output_type": "execute_result"
    }
   ],
   "source": [
    "len(my_list)  # get length"
   ]
  },
  {
   "cell_type": "code",
   "execution_count": 74,
   "id": "0211e6a0-6db9-4bc9-937a-e90059e11278",
   "metadata": {
    "ExecuteTime": {
     "end_time": "2021-12-13T17:40:35.014035Z",
     "start_time": "2021-12-13T17:40:35.006033Z"
    }
   },
   "outputs": [
    {
     "name": "stdout",
     "output_type": "stream",
     "text": [
      "['a', 1, 3.14, [1, 2]]\n"
     ]
    }
   ],
   "source": [
    "# List elements can be different types\n",
    "# Can even store other lists\n",
    "my_list = ['a', 1, 3.14, [1, 2]]\n",
    "print(my_list)"
   ]
  },
  {
   "cell_type": "code",
   "execution_count": 75,
   "id": "3334055d-ae36-4ab5-bd99-2081b4604127",
   "metadata": {
    "ExecuteTime": {
     "end_time": "2021-12-13T17:41:32.398769Z",
     "start_time": "2021-12-13T17:41:32.389363Z"
    }
   },
   "outputs": [
    {
     "data": {
      "text/plain": [
       "['a', 1, 3.14, [1, 2], 'h', 'e', 'l', 'l', 'o']"
      ]
     },
     "execution_count": 75,
     "metadata": {},
     "output_type": "execute_result"
    }
   ],
   "source": [
    "# Lists can be concatenated\n",
    "new_list = my_list + ['h', 'e', 'l', 'l', 'o']\n",
    "new_list"
   ]
  },
  {
   "cell_type": "code",
   "execution_count": 76,
   "id": "4b2018e0-aa7c-43de-b216-7bd2df4e5baf",
   "metadata": {
    "ExecuteTime": {
     "end_time": "2021-12-13T17:44:40.110496Z",
     "start_time": "2021-12-13T17:44:40.105879Z"
    }
   },
   "outputs": [
    {
     "data": {
      "text/plain": [
       "['a', 1, 3.14, [1, 2], 'h', 'e', 'l', 'l', 'o', 'g']"
      ]
     },
     "execution_count": 76,
     "metadata": {},
     "output_type": "execute_result"
    }
   ],
   "source": [
    "# Add elements with append\n",
    "new_list.append('g')\n",
    "new_list\n",
    "# Execute multiple times - each time appends"
   ]
  },
  {
   "cell_type": "code",
   "execution_count": 77,
   "id": "20624b09-9b5b-4e17-9b37-7b1da6673ab1",
   "metadata": {
    "ExecuteTime": {
     "end_time": "2021-12-13T17:47:42.077190Z",
     "start_time": "2021-12-13T17:47:42.071661Z"
    }
   },
   "outputs": [
    {
     "name": "stdout",
     "output_type": "stream",
     "text": [
      "a\n",
      "g\n"
     ]
    }
   ],
   "source": [
    "# Remove elements by index\n",
    "# Removes first element (position 0)\n",
    "deleted_item = new_list.pop(0)\n",
    "print(deleted_item)\n",
    "# pop() without arguments removes last element\n",
    "print(new_list.pop())\n",
    "# Repeated execution empties the list"
   ]
  },
  {
   "cell_type": "code",
   "execution_count": 78,
   "id": "7f35b2bb",
   "metadata": {
    "ExecuteTime": {
     "end_time": "2021-12-13T17:47:54.290479Z",
     "start_time": "2021-12-13T17:47:54.286563Z"
    }
   },
   "outputs": [
    {
     "data": {
      "text/plain": [
       "[1, 3.14, [1, 2], 'h', 'e', 'l', 'l', 'o']"
      ]
     },
     "execution_count": 78,
     "metadata": {},
     "output_type": "execute_result"
    }
   ],
   "source": [
    "new_list"
   ]
  },
  {
   "cell_type": "code",
   "execution_count": 79,
   "id": "07e49f66-0c88-48c7-b4ac-de98efb10011",
   "metadata": {
    "ExecuteTime": {
     "end_time": "2021-12-13T17:49:08.861682Z",
     "start_time": "2021-12-13T17:49:08.858103Z"
    }
   },
   "outputs": [
    {
     "name": "stdout",
     "output_type": "stream",
     "text": [
      "[1, 3.14, [1, 2], 'h', 'e', 'l', 'l', 'o']\n",
      "[1, 3.14, [1, 2], 'e', 'l', 'l', 'o']\n"
     ]
    }
   ],
   "source": [
    "# Remove by value (raises error if missing)\n",
    "print(new_list)\n",
    "new_list.remove('h')\n",
    "print(new_list)"
   ]
  },
  {
   "cell_type": "markdown",
   "id": "984038ee-82f3-4a7b-961a-d8c0f78745f2",
   "metadata": {},
   "source": [
    "#### When to use\n",
    "When storing multiple data in one logical place. Example: list of a customer's orders.\n",
    "Ideal when you need to add elements, track order, and remove items."
   ]
  },
  {
   "cell_type": "markdown",
   "id": "9717c559-ebcf-46f6-8ce3-4fe712b6455e",
   "metadata": {},
   "source": [
    "### Tuple\n",
    "Similar to `list` but immutable (no `append` or `remove`). Once created, cannot be modified."
   ]
  },
  {
   "cell_type": "code",
   "execution_count": 80,
   "id": "6a93dfcf-6f18-45db-b2b6-dbdabeb61678",
   "metadata": {
    "ExecuteTime": {
     "end_time": "2021-12-13T17:52:51.624453Z",
     "start_time": "2021-12-13T17:52:51.617067Z"
    }
   },
   "outputs": [
    {
     "data": {
      "text/plain": [
       "(1, 2, 3)"
      ]
     },
     "execution_count": 80,
     "metadata": {},
     "output_type": "execute_result"
    }
   ],
   "source": [
    "my_tuple = (1, 2, 3)\n",
    "my_tuple"
   ]
  },
  {
   "cell_type": "code",
   "execution_count": 81,
   "id": "7f1d1574",
   "metadata": {
    "ExecuteTime": {
     "end_time": "2021-12-13T17:53:06.545283Z",
     "start_time": "2021-12-13T17:53:06.535873Z"
    }
   },
   "outputs": [
    {
     "data": {
      "text/plain": [
       "2"
      ]
     },
     "execution_count": 81,
     "metadata": {},
     "output_type": "execute_result"
    }
   ],
   "source": [
    "my_tuple[1]"
   ]
  },
  {
   "cell_type": "code",
   "execution_count": 82,
   "id": "ff1f0b96-e35e-4540-93dc-c3103c44a64d",
   "metadata": {
    "ExecuteTime": {
     "end_time": "2021-12-13T17:53:38.780755Z",
     "start_time": "2021-12-13T17:53:38.773865Z"
    }
   },
   "outputs": [
    {
     "data": {
      "text/plain": [
       "(1, 2, 3, 5, 5)"
      ]
     },
     "execution_count": 82,
     "metadata": {},
     "output_type": "execute_result"
    }
   ],
   "source": [
    "# Can be concatenated like lists\n",
    "# Creates a new tuple\n",
    "my_tuple + (5, 5)"
   ]
  },
  {
   "cell_type": "code",
   "execution_count": 83,
   "id": "fbc0852c-7e2d-4857-a8b0-456f5f05f0d2",
   "metadata": {
    "ExecuteTime": {
     "end_time": "2021-12-13T17:54:15.880142Z",
     "start_time": "2021-12-13T17:54:15.875703Z"
    }
   },
   "outputs": [
    {
     "data": {
      "text/plain": [
       "(5, 5, 1, 2, 3)"
      ]
     },
     "execution_count": 83,
     "metadata": {},
     "output_type": "execute_result"
    }
   ],
   "source": [
    "(5, 5) + my_tuple"
   ]
  },
  {
   "cell_type": "code",
   "execution_count": 84,
   "id": "47cc334e-c115-4223-89e8-f2f2d056b5af",
   "metadata": {
    "ExecuteTime": {
     "end_time": "2021-12-13T17:54:25.610364Z",
     "start_time": "2021-12-13T17:54:25.603220Z"
    }
   },
   "outputs": [
    {
     "data": {
      "text/plain": [
       "6"
      ]
     },
     "execution_count": 84,
     "metadata": {},
     "output_type": "execute_result"
    }
   ],
   "source": [
    "len(my_tuple + (1, 3, 'apple'))"
   ]
  },
  {
   "cell_type": "code",
   "execution_count": 85,
   "id": "080c519f",
   "metadata": {
    "ExecuteTime": {
     "end_time": "2021-12-13T17:54:36.817087Z",
     "start_time": "2021-12-13T17:54:36.812991Z"
    }
   },
   "outputs": [
    {
     "data": {
      "text/plain": [
       "2"
      ]
     },
     "execution_count": 85,
     "metadata": {},
     "output_type": "execute_result"
    }
   ],
   "source": [
    "# Otherwise similar to list\n",
    "my_tuple[1]"
   ]
  },
  {
   "cell_type": "markdown",
   "id": "f811ccea-6f75-47f3-b788-40cdd18ffff0",
   "metadata": {},
   "source": [
    "#### When to use\n",
    "When you need list-like convenience but immutability. We'll discuss this more in Lesson 2."
   ]
  },
  {
   "cell_type": "markdown",
   "id": "c6ad5714-0695-47a3-b587-561737d0d02f",
   "metadata": {},
   "source": [
    "### Set\n",
    "Similar to mathematical sets. Stores unique elements. Doesn't preserve element order."
   ]
  },
  {
   "cell_type": "code",
   "execution_count": 86,
   "id": "1e06881e-0b19-4a70-ac24-fe2a16c74aa2",
   "metadata": {
    "ExecuteTime": {
     "end_time": "2021-12-13T17:56:50.829581Z",
     "start_time": "2021-12-13T17:56:50.825161Z"
    }
   },
   "outputs": [
    {
     "data": {
      "text/plain": [
       "{2, 3.14, 'a'}"
      ]
     },
     "execution_count": 86,
     "metadata": {},
     "output_type": "execute_result"
    }
   ],
   "source": [
    "a = {2, 'a', 3.14} # '{}'\n",
    "a"
   ]
  },
  {
   "cell_type": "code",
   "execution_count": 87,
   "id": "8abd0bd2",
   "metadata": {
    "ExecuteTime": {
     "end_time": "2021-12-13T17:57:25.437124Z",
     "start_time": "2021-12-13T17:57:25.432992Z"
    }
   },
   "outputs": [
    {
     "data": {
      "text/plain": [
       "set()"
      ]
     },
     "execution_count": 87,
     "metadata": {},
     "output_type": "execute_result"
    }
   ],
   "source": [
    "b = set() # {}, empty set\n",
    "b"
   ]
  },
  {
   "cell_type": "code",
   "execution_count": 88,
   "id": "9574739b",
   "metadata": {},
   "outputs": [
    {
     "data": {
      "text/plain": [
       "set"
      ]
     },
     "execution_count": 88,
     "metadata": {},
     "output_type": "execute_result"
    }
   ],
   "source": [
    "type(b)"
   ]
  },
  {
   "cell_type": "code",
   "execution_count": 89,
   "id": "455ce1f5-8ee9-4466-87be-56e81dff26b3",
   "metadata": {
    "ExecuteTime": {
     "end_time": "2021-12-13T17:58:01.547207Z",
     "start_time": "2021-12-13T17:58:01.543284Z"
    }
   },
   "outputs": [
    {
     "data": {
      "text/plain": [
       "{2, 3, 3.14, 'a'}"
      ]
     },
     "execution_count": 89,
     "metadata": {},
     "output_type": "execute_result"
    }
   ],
   "source": [
    "# Add element\n",
    "a.add(3)\n",
    "a"
   ]
  },
  {
   "cell_type": "code",
   "execution_count": 90,
   "id": "6955c09f-ea77-415c-a3c7-b2bbab02e5c6",
   "metadata": {
    "ExecuteTime": {
     "end_time": "2021-11-17T18:21:07.143573Z",
     "start_time": "2021-11-17T18:21:07.139356Z"
    }
   },
   "outputs": [
    {
     "data": {
      "text/plain": [
       "{2, 3, 3.14, 'a'}"
      ]
     },
     "execution_count": 90,
     "metadata": {},
     "output_type": "execute_result"
    }
   ],
   "source": [
    "# Adding again won't duplicate\n",
    "# Sets never contain duplicates\n",
    "a.add(3)\n",
    "a"
   ]
  },
  {
   "cell_type": "code",
   "execution_count": 91,
   "id": "d49d47e3-479d-4bc1-9a69-f2ba4a6b33a8",
   "metadata": {
    "ExecuteTime": {
     "end_time": "2021-12-13T17:59:05.974332Z",
     "start_time": "2021-12-13T17:59:05.963801Z"
    }
   },
   "outputs": [
    {
     "data": {
      "text/plain": [
       "{2, 3, 'a'}"
      ]
     },
     "execution_count": 91,
     "metadata": {},
     "output_type": "execute_result"
    }
   ],
   "source": [
    "# Remove element (raises error if missing)\n",
    "a.remove(3.14)\n",
    "a"
   ]
  },
  {
   "cell_type": "code",
   "execution_count": 92,
   "id": "3218bee3",
   "metadata": {},
   "outputs": [],
   "source": [
    "# a.remove(5)"
   ]
  },
  {
   "cell_type": "code",
   "execution_count": 93,
   "id": "1ef31282",
   "metadata": {},
   "outputs": [],
   "source": [
    "# a[0]  # Not allowed"
   ]
  },
  {
   "attachments": {},
   "cell_type": "markdown",
   "id": "be4f0c80-c3e5-4921-8bd4-f3ca47ddbfc2",
   "metadata": {},
   "source": [
    "Sets can only contain **immutable** objects! This is due to their internal structure. You cannot create a set like `{2, \"hello\", []}` because the third element is a mutable list.\n",
    "\n",
    "Set operations:\n",
    "- `a.intersection(b)`\n",
    "- `a.union(b)`\n",
    "- `a.symmetric_difference(b)`"
   ]
  },
  {
   "cell_type": "code",
   "execution_count": 94,
   "id": "d5b55b3a-f679-4b41-8b66-d27d7ac464a1",
   "metadata": {
    "ExecuteTime": {
     "end_time": "2021-12-13T18:02:05.480886Z",
     "start_time": "2021-12-13T18:02:05.476402Z"
    }
   },
   "outputs": [
    {
     "data": {
      "text/plain": [
       "{(1, 2), 3}"
      ]
     },
     "execution_count": 94,
     "metadata": {},
     "output_type": "execute_result"
    }
   ],
   "source": [
    "a = {'a', (1, 2), 3}\n",
    "b = {3, (1, 2), 'unique'}\n",
    "a.intersection(b)"
   ]
  },
  {
   "cell_type": "code",
   "execution_count": 95,
   "id": "78b30172-2889-48a8-b6bc-e23330fbb5c8",
   "metadata": {
    "ExecuteTime": {
     "end_time": "2021-12-13T18:02:45.560201Z",
     "start_time": "2021-12-13T18:02:45.555876Z"
    }
   },
   "outputs": [
    {
     "data": {
      "text/plain": [
       "{(1, 2), 3, 'a', 'unique'}"
      ]
     },
     "execution_count": 95,
     "metadata": {},
     "output_type": "execute_result"
    }
   ],
   "source": [
    "a.union(b)"
   ]
  },
  {
   "cell_type": "code",
   "execution_count": 96,
   "id": "bb2665d8-5cf8-4f11-8147-8a18d6f26bde",
   "metadata": {
    "ExecuteTime": {
     "end_time": "2021-12-13T18:03:44.781909Z",
     "start_time": "2021-12-13T18:03:44.776932Z"
    }
   },
   "outputs": [
    {
     "data": {
      "text/plain": [
       "{'a', 'unique'}"
      ]
     },
     "execution_count": 96,
     "metadata": {},
     "output_type": "execute_result"
    }
   ],
   "source": [
    "a.symmetric_difference(b)"
   ]
  },
  {
   "cell_type": "code",
   "execution_count": 97,
   "id": "ab18b195",
   "metadata": {
    "ExecuteTime": {
     "end_time": "2021-12-13T18:05:25.178852Z",
     "start_time": "2021-12-13T18:05:25.174812Z"
    }
   },
   "outputs": [
    {
     "data": {
      "text/plain": [
       "{'a'}"
      ]
     },
     "execution_count": 97,
     "metadata": {},
     "output_type": "execute_result"
    }
   ],
   "source": [
    "a - b  # set difference"
   ]
  },
  {
   "cell_type": "code",
   "execution_count": 98,
   "id": "30a5957b",
   "metadata": {
    "ExecuteTime": {
     "end_time": "2021-12-13T18:05:38.896946Z",
     "start_time": "2021-12-13T18:05:38.892952Z"
    }
   },
   "outputs": [
    {
     "data": {
      "text/plain": [
       "{'unique'}"
      ]
     },
     "execution_count": 98,
     "metadata": {},
     "output_type": "execute_result"
    }
   ],
   "source": [
    "b - a"
   ]
  },
  {
   "cell_type": "markdown",
   "id": "ba949ea9-4372-4c06-a3fa-13955d742bc4",
   "metadata": {},
   "source": [
    "#### When to use\n",
    "1. When you need unique elements and order doesn't matter (most common use case)\n",
    "2. For set operations like intersections"
   ]
  },
  {
   "cell_type": "markdown",
   "id": "98cdbc88-b8e8-4ca4-8dc8-8036a6996041",
   "metadata": {},
   "source": [
    "## Dictionary\n",
    "Great, we can store customer lists in variables. But what if we want to store phone numbers for each customer? Like an address book:\n",
    "\n",
    "| Name    | Phone           |\n",
    "|---------|-----------------|\n",
    "| Alex    | +1 123 456-7890 |\n",
    "| Nick    | +44 987 654-321 |\n",
    "\n",
    "Python uses *dictionaries* (dict) for this:"
   ]
  },
  {
   "cell_type": "code",
   "execution_count": 99,
   "id": "ecc6ef24-3112-4bd1-a625-b79d43f23bd7",
   "metadata": {
    "ExecuteTime": {
     "end_time": "2021-12-13T18:09:04.246914Z",
     "start_time": "2021-12-13T18:09:04.243584Z"
    }
   },
   "outputs": [
    {
     "name": "stdout",
     "output_type": "stream",
     "text": [
      "{'Alex': '+1 123 456-7890', 'Nick': '+44 987 654-321'}\n"
     ]
    }
   ],
   "source": [
    "# Keys can be any immutable object (string, int, tuple)\n",
    "name_to_phone = {\n",
    "    'Alex': '+1 123 456-7890',\n",
    "    'Nick': '+44 987 654-321'\n",
    "}\n",
    "\n",
    "dict_struct = {\n",
    "  \"key\": \"something\"\n",
    "}\n",
    "\n",
    "print(name_to_phone)"
   ]
  },
  {
   "cell_type": "code",
   "execution_count": 100,
   "id": "c02b8a40-d663-4fbe-920c-86569bed079c",
   "metadata": {
    "ExecuteTime": {
     "end_time": "2021-12-13T18:09:54.956079Z",
     "start_time": "2021-12-13T18:09:54.948751Z"
    }
   },
   "outputs": [
    {
     "name": "stdout",
     "output_type": "stream",
     "text": [
      "+1 123 456-7890\n",
      "+44 987 654-321\n"
     ]
    }
   ],
   "source": [
    "# Access values by key\n",
    "print(name_to_phone['Alex'])\n",
    "print(name_to_phone['Nick'])"
   ]
  },
  {
   "cell_type": "code",
   "execution_count": 101,
   "id": "eb70e802",
   "metadata": {},
   "outputs": [],
   "source": [
    "# name_to_phone[\"NN\"]"
   ]
  },
  {
   "cell_type": "code",
   "execution_count": 102,
   "id": "ff6be354-df67-4b19-b2de-1c380e17e605",
   "metadata": {
    "ExecuteTime": {
     "end_time": "2021-12-13T18:11:56.326604Z",
     "start_time": "2021-12-13T18:11:56.323326Z"
    }
   },
   "outputs": [
    {
     "name": "stdout",
     "output_type": "stream",
     "text": [
      "+44 987 654-321\n",
      "no info\n"
     ]
    }
   ],
   "source": [
    "# Safe access with default value\n",
    "print(name_to_phone.get('Nick', 'no info'))  # Key exists\n",
    "print(name_to_phone.get('Maria', 'no info'))  # Key missing"
   ]
  },
  {
   "cell_type": "code",
   "execution_count": 103,
   "id": "23d106f6-af97-42cf-b533-2575fa04a25a",
   "metadata": {
    "ExecuteTime": {
     "end_time": "2021-12-13T18:12:58.183143Z",
     "start_time": "2021-12-13T18:12:58.178010Z"
    }
   },
   "outputs": [
    {
     "name": "stdout",
     "output_type": "stream",
     "text": [
      "+1 555 123-4567\n"
     ]
    },
    {
     "data": {
      "text/plain": [
       "True"
      ]
     },
     "execution_count": 103,
     "metadata": {},
     "output_type": "execute_result"
    }
   ],
   "source": [
    "# Add elements with assignment\n",
    "name_to_phone['Sarah'] = '+1 555 123-4567'\n",
    "print(name_to_phone['Sarah'])\n",
    "# Check key existence\n",
    "'Sarah' in name_to_phone"
   ]
  },
  {
   "cell_type": "code",
   "execution_count": 104,
   "id": "67079117",
   "metadata": {
    "ExecuteTime": {
     "end_time": "2021-12-13T18:14:26.483369Z",
     "start_time": "2021-12-13T18:14:26.479619Z"
    }
   },
   "outputs": [
    {
     "data": {
      "text/plain": [
       "{'Alex': '+1 123 456-7890',\n",
       " 'Nick': '+44 987 654-321',\n",
       " 'Sarah': '+1 555 123-4567'}"
      ]
     },
     "execution_count": 104,
     "metadata": {},
     "output_type": "execute_result"
    }
   ],
   "source": [
    "name_to_phone"
   ]
  },
  {
   "cell_type": "code",
   "execution_count": 105,
   "id": "495edbc6-1e5d-4c82-8c5b-10a37a9fa51f",
   "metadata": {
    "ExecuteTime": {
     "end_time": "2021-12-13T18:14:14.184332Z",
     "start_time": "2021-12-13T18:14:14.176871Z"
    }
   },
   "outputs": [
    {
     "data": {
      "text/plain": [
       "'hidden'"
      ]
     },
     "execution_count": 105,
     "metadata": {},
     "output_type": "execute_result"
    }
   ],
   "source": [
    "# Edit existing values\n",
    "name_to_phone['Sarah'] = 'hidden'\n",
    "name_to_phone['Sarah']"
   ]
  },
  {
   "cell_type": "markdown",
   "id": "1ce104c9",
   "metadata": {},
   "source": [
    "Python built-in types: https://docs.python.org/3/library/stdtypes.html\n",
    "\n",
    "# General \n",
    "#### Numeric Types:\n",
    "- int: Integers (whole numbers, positive, negative, or zero).\n",
    "- float: Floating-point numbers (numbers with a decimal point).\n",
    "- complex: Complex numbers (numbers with a real and an imaginary part).\n",
    "\n",
    "#### Sequence Types:\n",
    "- str: Strings (sequences of Unicode characters).\n",
    "- list: Lists (ordered, mutable collections of items).\n",
    "- tuple: Tuples (ordered, immutable collections of items).\n",
    "- range: Represents an immutable sequence of numbers.\n",
    "\n",
    "\n",
    "#### Mapping Type:\n",
    "- dict: Dictionaries (unordered, mutable collections of key-value pairs).\n",
    "\n",
    "#### Set Types:\n",
    "- set: Sets (unordered, mutable collections of unique items).\n",
    "- frozenset: Frozen sets (unordered, immutable collections of unique items).\n",
    "\n",
    "#### Boolean Type:\n",
    "- bool: Booleans (represents truth values, True or False).\n",
    "\n",
    "\n",
    "#### Binary Types:\n",
    "- bytes: Immutable sequences of bytes.\n",
    "- bytearray: Mutable sequences of bytes.\n",
    "- memoryview: Provides a memory-efficient way to access the internal data of an object.\n",
    "\n",
    "#### None Type:\n",
    "- NoneType: Represents the absence of a value. \n",
    "The sole value of this type is None."
   ]
  }
 ],
 "metadata": {
  "kernelspec": {
   "display_name": "base",
   "language": "python",
   "name": "python3"
  },
  "language_info": {
   "codemirror_mode": {
    "name": "ipython",
    "version": 3
   },
   "file_extension": ".py",
   "mimetype": "text/x-python",
   "name": "python",
   "nbconvert_exporter": "python",
   "pygments_lexer": "ipython3",
   "version": "3.12.4"
  },
  "toc": {
   "base_numbering": 1,
   "nav_menu": {},
   "number_sections": true,
   "sideBar": true,
   "skip_h1_title": false,
   "title_cell": "Table of Contents",
   "title_sidebar": "Contents",
   "toc_cell": false,
   "toc_position": {},
   "toc_section_display": true,
   "toc_window_display": false
  },
  "varInspector": {
   "cols": {
    "lenName": 16,
    "lenType": 16,
    "lenVar": 40
   },
   "kernels_config": {
    "python": {
     "delete_cmd_postfix": "",
     "delete_cmd_prefix": "del ",
     "library": "var_list.py",
     "varRefreshCmd": "print(var_dic_list())"
    },
    "r": {
     "delete_cmd_postfix": ") ",
     "delete_cmd_prefix": "rm(",
     "library": "var_list.r",
     "varRefreshCmd": "cat(var_dic_list()) "
    }
   },
   "types_to_exclude": [
    "module",
    "function",
    "builtin_function_or_method",
    "instance",
    "_Feature"
   ],
   "window_display": false
  }
 },
 "nbformat": 4,
 "nbformat_minor": 5
}
