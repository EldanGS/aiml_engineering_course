{
 "cells": [
  {
   "cell_type": "markdown",
   "id": "homework-intro",
   "metadata": {},
   "source": [
    "# Python Homework: Lesson 1\n",
    "\n",
    "Welcome to your first Python homework assignment! \n",
    "\n",
    "These tasks are designed to help you practice the concepts learned in Lesson 1, including basic operations, different variable types (strings, booleans), and fundamental data structures (lists, tuples, sets), as well as control flow (loops and conditionals).\n",
    "\n",
    "Complete the tasks in each section by writing your code in the provided code cells. Good luck!"
   ]
  },
  {
   "cell_type": "markdown",
   "id": "section-1-tasks",
   "metadata": {},
   "source": [
    "## Section 1: Basic Operations Tasks\n",
    "\n",
    "These tasks focus on comments, variable assignment, basic arithmetic, and the `print()` function."
   ]
  },
  {
   "cell_type": "markdown",
   "id": "task-1-1",
   "metadata": {},
   "source": [
    "### Task 1.1: Variable Assignment and Printing\n",
    "Assign the number `15` to a variable named `x` and the string `\"Hello Python\"` to a variable named `message`. Then, print both variables on separate lines."
   ]
  },
  {
   "cell_type": "code",
   "execution_count": null,
   "id": "task-1-1-code",
   "metadata": {},
   "outputs": [],
   "source": []
  },
  {
   "cell_type": "markdown",
   "id": "task-1-2",
   "metadata": {},
   "source": [
    "### Task 1.2: Basic Arithmetic\n",
    "Given two numbers, `num1 = 25` and `num2 = 7`, calculate their sum, difference, product, and quotient. Print each result with a descriptive label (e.g., \"Sum: \")."
   ]
  },
  {
   "cell_type": "code",
   "execution_count": null,
   "id": "task-1-2-code",
   "metadata": {},
   "outputs": [],
   "source": []
  },
  {
   "cell_type": "markdown",
   "id": "task-1-3",
   "metadata": {},
   "source": [
    "### Task 1.3: Using Comments\n",
    "Write a short Python code snippet that calculates the area of a rectangle. Include comments explaining each step (variable assignment, calculation, printing)."
   ]
  },
  {
   "cell_type": "code",
   "execution_count": null,
   "id": "task-1-3-code",
   "metadata": {},
   "outputs": [],
   "source": []
  },
  {
   "cell_type": "markdown",
   "id": "task-1-4",
   "metadata": {},
   "source": [
    "### Task 1.4: Variable Reassignment\n",
    "Assign the value `100` to a variable `score`. Print its value. Then, reassign `score` to `150` and print the new value. Observe how the value changes."
   ]
  },
  {
   "cell_type": "code",
   "execution_count": null,
   "id": "task-1-4-code",
   "metadata": {},
   "outputs": [],
   "source": []
  },
  {
   "cell_type": "markdown",
   "id": "task-1-5",
   "metadata": {},
   "source": [
    "### Task 1.5: Integer Division\n",
    "Calculate the integer division of `29` by `4`. Print the result."
   ]
  },
  {
   "cell_type": "code",
   "execution_count": null,
   "id": "task-1-5-code",
   "metadata": {},
   "outputs": [],
   "source": []
  },
  {
   "cell_type": "markdown",
   "id": "task-1-6",
   "metadata": {},
   "source": [
    "### Task 1.6: Modulo Operation\n",
    "Find the remainder when `50` is divided by `7`. Print the result."
   ]
  },
  {
   "cell_type": "code",
   "execution_count": null,
   "id": "task-1-6-code",
   "metadata": {},
   "outputs": [],
   "source": []
  },
  {
   "cell_type": "markdown",
   "id": "task-1-7",
   "metadata": {},
   "source": [
    "### Task 1.7: Combining Operations\n",
    "Calculate the value of the expression `(10 + 5) * 2 - 1` using Python. Print the result."
   ]
  },
  {
   "cell_type": "code",
   "execution_count": null,
   "id": "task-1-7-code",
   "metadata": {},
   "outputs": [],
   "source": []
  },
  {
   "cell_type": "markdown",
   "id": "task-1-8",
   "metadata": {},
   "source": [
    "### Task 1.8: `print()` with Multiple Arguments\n",
    "Print the numbers `10`, `20`, `30`, and the string `\"End\"` all on a single line, separated by spaces, using a single `print()` statement."
   ]
  },
  {
   "cell_type": "code",
   "execution_count": null,
   "id": "task-1-8-code",
   "metadata": {},
   "outputs": [],
   "source": []
  },
  {
   "cell_type": "markdown",
   "id": "task-1-9",
   "metadata": {},
   "source": [
    "### Task 1.9: Applying Variable Advantages\n",
    "Calculate the simple interest on a principal amount of `$1000` at an annual interest rate of `5%` for `3` years. Use variables for principal, rate, and time to make your calculation clear and easy to modify. The formula for simple interest is `Principal * Rate * Time`."
   ]
  },
  {
   "cell_type": "code",
   "execution_count": null,
   "id": "task-1-9-code",
   "metadata": {},
   "outputs": [],
   "source": []
  },
  {
   "cell_type": "markdown",
   "id": "task-1-10",
   "metadata": {},
   "source": [
    "### Task 1.10: Exponentiation and Order of Operations\n",
    "Calculate the value of `2` raised to the power of `3`, and then add `5` to the result. Print the final value."
   ]
  },
  {
   "cell_type": "code",
   "execution_count": null,
   "id": "task-1-10-code",
   "metadata": {},
   "outputs": [],
   "source": []
  },
  {
   "cell_type": "markdown",
   "id": "section-2-tasks",
   "metadata": {},
   "source": [
    "## Section 2: Other Variable Types Tasks\n",
    "\n",
    "These tasks cover strings, boolean values, and comparison operators."
   ]
  },
  {
   "cell_type": "markdown",
   "id": "task-2-1",
   "metadata": {},
   "source": [
    "### Task 2.1: String Declaration\n",
    "Declare a string variable `city` using double quotes with the value `\"New York\"`. Declare another string variable `country` using single quotes with the value `'USA'`. Print both."
   ]
  },
  {
   "cell_type": "code",
   "execution_count": null,
   "id": "task-2-1-code",
   "metadata": {},
   "outputs": [],
   "source": []
  },
  {
   "cell_type": "markdown",
   "id": "task-2-2",
   "metadata": {},
   "source": [
    "### Task 2.2: Concatenating Strings\n",
    "Combine the string variables `first_name = \"John\"` and `last_name = \"Doe\"` to create a `full_name` variable. Print the `full_name`."
   ]
  },
  {
   "cell_type": "code",
   "execution_count": null,
   "id": "task-2-2-code",
   "metadata": {},
   "outputs": [],
   "source": []
  },
  {
   "cell_type": "markdown",
   "id": "task-2-3",
   "metadata": {},
   "source": [
    "### Task 2.3: Boolean Equality Comparison\n",
    "Check if `10` is equal to `\"10\"`. Assign the result to a variable `is_equal` and print it. Explain why the result is `True` or `False`."
   ]
  },
  {
   "cell_type": "code",
   "execution_count": null,
   "id": "task-2-3-code",
   "metadata": {},
   "outputs": [],
   "source": []
  },
  {
   "cell_type": "markdown",
   "id": "task-2-4",
   "metadata": {},
   "source": [
    "### Task 2.4: Boolean `in` Operator\n",
    "Check if the substring `\"pyt\"` exists in the string `\"Python Programming\"`. Print `True` or `False`."
   ]
  },
  {
   "cell_type": "code",
   "execution_count": null,
   "id": "task-2-4-code",
   "metadata": {},
   "outputs": [],
   "source": []
  },
  {
   "cell_type": "markdown",
   "id": "task-2-5",
   "metadata": {},
   "source": [
    "### Task 2.5: Using `and` Operator\n",
    "Given `age = 25` and `has_license = True`, write a boolean expression that evaluates to `True` if `age` is greater than or equal to `18` AND `has_license` is `True`. Print the result."
   ]
  },
  {
   "cell_type": "code",
   "execution_count": null,
   "id": "task-2-5-code",
   "metadata": {},
   "outputs": [],
   "source": []
  },
  {
   "cell_type": "markdown",
   "id": "task-2-6",
   "metadata": {},
   "source": [
    "### Task 2.6: Using `or` Operator\n",
    "Given `is_weekend = False` and `is_holiday = True`, write a boolean expression that evaluates to `True` if it's a `weekend` OR a `holiday`. Print the result."
   ]
  },
  {
   "cell_type": "code",
   "execution_count": null,
   "id": "task-2-6-code",
   "metadata": {},
   "outputs": [],
   "source": []
  },
  {
   "cell_type": "markdown",
   "id": "task-2-7",
   "metadata": {},
   "source": [
    "### Task 2.7: Using `not` Operator\n",
    "If `is_raining = True`, use the `not` operator to determine if it is *not* raining. Print the result."
   ]
  },
  {
   "cell_type": "code",
   "execution_count": null,
   "id": "task-2-7-code",
   "metadata": {},
   "outputs": [],
   "source": []
  },
  {
   "cell_type": "markdown",
   "id": "task-2-8",
   "metadata": {},
   "source": [
    "### Task 2.8: Combining Boolean Operators\n",
    "Given `temp = 28`, `sunny = True`, `raining = False`. Create a boolean expression that is `True` if the `temp` is greater than `25` AND `sunny` is `True` AND it is `not raining`. Print the result."
   ]
  },
  {
   "cell_type": "code",
   "execution_count": null,
   "id": "task-2-8-code",
   "metadata": {},
   "outputs": [],
   "source": []
  },
  {
   "cell_type": "markdown",
   "id": "task-2-9",
   "metadata": {},
   "source": [
    "### Task 2.9: Other Comparison Operators\n",
    "Compare `num_apples = 10` and `num_oranges = 12`.\n",
    "1.  Is `num_apples` less than `num_oranges`?\n",
    "2.  Is `num_oranges` greater than or equal to `num_apples`?\n",
    "Print both boolean results."
   ]
  },
  {
   "cell_type": "code",
   "execution_count": null,
   "id": "task-2-9-code",
   "metadata": {},
   "outputs": [],
   "source": []
  },
  {
   "cell_type": "markdown",
   "id": "task-2-10",
   "metadata": {},
   "source": [
    "### Task 2.10: Checking Variable Type\n",
    "Assign the value `42` to a variable `answer` and the value `\"Python\"` to a variable `language`. Print the type of each variable using the `type()` function."
   ]
  },
  {
   "cell_type": "code",
   "execution_count": null,
   "id": "task-2-10-code",
   "metadata": {},
   "outputs": [],
   "source": []
  },
  {
   "cell_type": "markdown",
   "id": "section-3-tasks",
   "metadata": {},
   "source": [
    "## Section 3: List, Tuple, Set Tasks\n",
    "\n",
    "These tasks will help you work with Python's collection types: lists, tuples, and sets."
   ]
  },
  {
   "cell_type": "markdown",
   "id": "task-3-1",
   "metadata": {},
   "source": [
    "### Task 3.1: List Declaration and Access\n",
    "Create a list named `colors` containing `\"red\"`, `\"green\"`, `\"blue\"`. Print the entire list, then print the second element (`\"green\"`) using indexing."
   ]
  },
  {
   "cell_type": "code",
   "execution_count": null,
   "id": "task-3-1-code",
   "metadata": {},
   "outputs": [],
   "source": []
  },
  {
   "cell_type": "markdown",
   "id": "task-3-2",
   "metadata": {},
   "source": [
    "### Task 3.2: Appending to a List\n",
    "Start with the list `numbers = [1, 2, 3]`. Add the number `4` to the end of the list using the `append()` method. Then print the updated list."
   ]
  },
  {
   "cell_type": "code",
   "execution_count": null,
   "id": "task-3-2-code",
   "metadata": {},
   "outputs": [],
   "source": []
  },
  {
   "cell_type": "markdown",
   "id": "task-3-3",
   "metadata": {},
   "source": [
    "### Task 3.3: Removing from a List by Index (`pop()`)\n",
    "Given the list `fruits = [\"apple\", \"banana\", \"cherry\", \"date\"]`, remove the element at index `1` (`\"banana\"`) using `pop()`. Print the removed item and the modified list."
   ]
  },
  {
   "cell_type": "code",
   "execution_count": null,
   "id": "task-3-3-code",
   "metadata": {},
   "outputs": [],
   "source": []
  },
  {
   "cell_type": "markdown",
   "id": "task-3-4",
   "metadata": {},
   "source": [
    "### Task 3.4: Removing from a List by Value (`remove()`)\n",
    "Using the list `items = [\"pen\", \"paper\", \"eraser\", \"pencil\"]`, remove the item `\"eraser\"` using the `remove()` method. Print the list after removal."
   ]
  },
  {
   "cell_type": "code",
   "execution_count": null,
   "id": "task-3-4-code",
   "metadata": {},
   "outputs": [],
   "source": []
  },
  {
   "cell_type": "markdown",
   "id": "task-3-5",
   "metadata": {},
   "source": [
    "### Task 3.5: List Concatenation\n",
    "Concatenate `list1 = [10, 20]` and `list2 = [30, 40]` to create a `combined_list`. Print `combined_list`."
   ]
  },
  {
   "cell_type": "code",
   "execution_count": null,
   "id": "task-3-5-code",
   "metadata": {},
   "outputs": [],
   "source": []
  },
  {
   "cell_type": "markdown",
   "id": "task-3-6",
   "metadata": {},
   "source": [
    "### Task 3.6: Tuple Declaration and Access\n",
    "Create a tuple named `coordinates` with values `(latitude, longitude)` like `(34.05, -118.25)`. Print the entire tuple, then access and print the `longitude`."
   ]
  },
  {
   "cell_type": "code",
   "execution_count": null,
   "id": "task-3-6-code",
   "metadata": {},
   "outputs": [],
   "source": []
  },
  {
   "cell_type": "markdown",
   "id": "task-3-7",
   "metadata": {},
   "source": [
    "### Task 3.7: Tuple Concatenation\n",
    "Concatenate `tuple1 = (1, 2)` and `tuple2 = ('a', 'b')` to form a `new_tuple`. Print `new_tuple`."
   ]
  },
  {
   "cell_type": "code",
   "execution_count": null,
   "id": "task-3-7-code",
   "metadata": {},
   "outputs": [],
   "source": []
  },
  {
   "cell_type": "markdown",
   "id": "task-3-8",
   "metadata": {},
   "source": [
    "### Task 3.8: Set Declaration (Unique Elements)\n",
    "Create a set named `unique_numbers` from the following list: `[1, 2, 2, 3, 4, 4, 5]`. Print the set and observe how duplicate elements are handled."
   ]
  },
  {
   "cell_type": "code",
   "execution_count": null,
   "id": "task-3-8-code",
   "metadata": {},
   "outputs": [],
   "source": []
  },
  {
   "cell_type": "markdown",
   "id": "task-3-9",
   "metadata": {},
   "source": [
    "### Task 3.9: Adding to a Set\n",
    "Start with `my_set = {'apple', 'banana'}`. Add `\"orange\"` to the set. Then, try adding `\"apple\"` again. Print the set after both operations to see its content."
   ]
  },
  {
   "cell_type": "code",
   "execution_count": null,
   "id": "task-3-9-code",
   "metadata": {},
   "outputs": [],
   "source": []
  },
  {
   "cell_type": "markdown",
   "id": "task-3-10",
   "metadata": {},
   "source": [
    "### Task 3.10: Set Operations\n",
    "Given `set_a = {1, 2, 3, 4}` and `set_b = {3, 4, 5, 6}`:\n",
    "1.  Find their `intersection`.\n",
    "2.  Find their `union`.\n",
    "3.  Find the `difference` (`set_a - set_b`).\n",
    "Print the result of each operation."
   ]
  },
  {
   "cell_type": "code",
   "execution_count": null,
   "id": "task-3-10-code",
   "metadata": {},
   "outputs": [],
   "source": []
  },
  {
   "cell_type": "markdown",
   "id": "section-4-tasks",
   "metadata": {},
   "source": [
    "## Section 4: Conditions and Loops Tasks\n",
    "\n",
    "These tasks involve using `for` and `while` loops, and `if/elif/else` conditional statements, along with `break` and `continue`."
   ]
  },
  {
   "cell_type": "markdown",
   "id": "task-4-1",
   "metadata": {},
   "source": [
    "### Task 4.1: Simple `for` Loop with `range()`\n",
    "Use a `for` loop to print numbers from `0` to `4` (inclusive)."
   ]
  },
  {
   "cell_type": "code",
   "execution_count": null,
   "id": "task-4-1-code",
   "metadata": {},
   "outputs": [],
   "source": []
  },
  {
   "cell_type": "markdown",
   "id": "task-4-2",
   "metadata": {},
   "source": [
    "### Task 4.2: `for` Loop Iterating Over a List\n",
    "Iterate through the list `fruits = [\"apple\", \"banana\", \"cherry\"]` and print each fruit name."
   ]
  },
  {
   "cell_type": "code",
   "execution_count": null,
   "id": "task-4-2-code",
   "metadata": {},
   "outputs": [],
   "source": []
  },
  {
   "cell_type": "markdown",
   "id": "task-4-3",
   "metadata": {},
   "source": [
    "### Task 4.3: `for` Loop with `range(start, stop)`\n",
    "Print numbers from `5` to `9` (inclusive) using a `for` loop and `range()` with `start` and `stop` arguments."
   ]
  },
  {
   "cell_type": "code",
   "execution_count": null,
   "id": "task-4-3-code",
   "metadata": {},
   "outputs": [],
   "source": []
  },
  {
   "cell_type": "markdown",
   "id": "task-4-4",
   "metadata": {},
   "source": [
    "### Task 4.4: `for` Loop with `range(start, stop, step)`\n",
    "Print even numbers from `0` to `10` (inclusive) using a `for` loop and `range()` with a `step` argument."
   ]
  },
  {
   "cell_type": "code",
   "execution_count": null,
   "id": "task-4-4-code",
   "metadata": {},
   "outputs": [],
   "source": []
  },
  {
   "cell_type": "markdown",
   "id": "task-4-5",
   "metadata": {},
   "source": [
    "### Task 4.5: Simple `while` Loop\n",
    "Write a `while` loop that prints numbers starting from `1` and stops when the number becomes greater than `5`."
   ]
  },
  {
   "cell_type": "code",
   "execution_count": null,
   "id": "task-4-5-code",
   "metadata": {},
   "outputs": [],
   "source": []
  },
  {
   "cell_type": "markdown",
   "id": "task-4-6",
   "metadata": {},
   "source": [
    "### Task 4.6: `if/else` Statement\n",
    "Given a `temperature = 20`, write an `if/else` statement. If the `temperature` is greater than `25`, print `\"It's hot!\"`. Otherwise, print `\"It's not too hot.\"`. Try changing the `temperature` to `30` to test both conditions."
   ]
  },
  {
   "cell_type": "code",
   "execution_count": null,
   "id": "task-4-6-code",
   "metadata": {},
   "outputs": [],
   "source": []
  },
  {
   "cell_type": "markdown",
   "id": "task-4-7",
   "metadata": {},
   "source": [
    "### Task 4.7: `if/elif/else` Statement\n",
    "Ask the user for their `grade` (as an integer input). If the `grade` is `90` or above, print `\"A\"`. If it's between `80` and `89` (inclusive), print `\"B\"`. Otherwise, print `\"C\"`."
   ]
  },
  {
   "cell_type": "code",
   "execution_count": null,
   "id": "task-4-7-code",
   "metadata": {},
   "outputs": [],
   "source": []
  },
  {
   "cell_type": "markdown",
   "id": "task-4-8",
   "metadata": {},
   "source": [
    "### Task 4.8: Using `break` in a Loop\n",
    "Iterate through numbers from `1` to `10`. Print each number. If the number is `7`, use `break` to exit the loop prematurely."
   ]
  },
  {
   "cell_type": "code",
   "execution_count": null,
   "id": "task-4-8-code",
   "metadata": {},
   "outputs": [],
   "source": []
  },
  {
   "cell_type": "markdown",
   "id": "task-4-9",
   "metadata": {},
   "source": [
    "### Task 4.9: Using `continue` in a Loop\n",
    "Iterate through numbers from `1` to `5`. If a number is `3`, use `continue` to skip printing that number, but continue the loop for subsequent numbers."
   ]
  },
  {
   "cell_type": "code",
   "execution_count": null,
   "id": "task-4-9-code",
   "metadata": {},
   "outputs": [],
   "source": []
  },
  {
   "cell_type": "markdown",
   "id": "task-4-10",
   "metadata": {},
   "source": [
    "### Task 4.10: Combining Loops and Conditionals\n",
    "Given a list of `temperatures = [22, 28, 19, 32, 25]`. Write a `for` loop to iterate through the temperatures. Inside the loop, use an `if` statement to print `\"High temperature!\"` if the temperature is above `30`, otherwise print the temperature itself."
   ]
  },
  {
   "cell_type": "code",
   "execution_count": null,
   "id": "task-4-10-code",
   "metadata": {},
   "outputs": [],
   "source": []
  },
  {
   "cell_type": "markdown",
   "id": "homework-end",
   "metadata": {},
   "source": [
    "--- \n",
    "**End of Homework for Lesson 1.**\n",
    "\n",
    "Review your answers and ensure your code runs correctly. Great job!"
   ]
  }
 ],
 "metadata": {
  "kernelspec": {
   "display_name": "Python 3",
   "language": "python",
   "name": "python3"
  },
  "language_info": {
   "codemirror_mode": {
    "name": "ipython",
    "version": 3
   },
   "file_extension": ".py",
   "mimetype": "text/x-python",
   "name": "python",
   "nbconvert_exporter": "python",
   "pygments_lexer": "ipython3",
   "version": "3.10.9"
  }
 },
 "nbformat": 4,
 "nbformat_minor": 4
}
