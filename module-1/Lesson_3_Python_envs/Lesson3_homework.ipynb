{
 "cells": [
  {
   "cell_type": "markdown",
   "id": "homework-header",
   "metadata": {},
   "source": [
    "# Python Libraries Homework\n",
    "Complete the following 10 tasks using Python's built-in libraries. Add your solutions in the code cells below each problem statement."
   ]
  },
  {
   "cell_type": "markdown",
   "id": "problem-1",
   "metadata": {},
   "source": [
    "### 1. Days Until New Year\n",
    "Calculate how many days are left until New Year's Day (January 1) of next year using the `datetime` module."
   ]
  },
  {
   "cell_type": "code",
   "execution_count": null,
   "id": "solution-1",
   "metadata": {},
   "outputs": [],
   "source": [
    "# Your solution for problem 1\n",
    "import datetime\n",
    "\n",
    "today = datetime.date.today()\n",
    "next_year = today.year + 1\n",
    "new_year = datetime.date(next_year, 1, 1)\n",
    "days_left = (new_year - today).days\n",
    "\n",
    "print(f\"Days until New Year: {days_left}\")"
   ]
  },
  {
   "cell_type": "markdown",
   "id": "problem-2",
   "metadata": {},
   "source": [
    "### 2. Defaultdict Word Length Counter\n",
    "Using `defaultdict`, create a dictionary that maps word lengths to lists of words from this sentence: \"Python libraries make data processing efficient and fun\"."
   ]
  },
  {
   "cell_type": "code",
   "execution_count": null,
   "id": "solution-2",
   "metadata": {},
   "outputs": [],
   "source": [
    "# Your solution for problem 2\n",
    "from collections import defaultdict\n",
    "\n",
    "sentence = \"Python libraries make data processing efficient and fun\"\n",
    "words = sentence.split()\n",
    "length_map = defaultdict(list)\n",
    "\n",
    "for word in words:\n",
    "    length_map[len(word)].append(word)\n",
    "\n",
    "print(dict(length_map))"
   ]
  },
  {
   "cell_type": "markdown",
   "id": "problem-3",
   "metadata": {},
   "source": [
    "### 3. Counter for Dice Rolls\n",
    "Simulate 100 dice rolls using the `random` library and count frequency of each result (1-6) using `Counter`."
   ]
  },
  {
   "cell_type": "code",
   "execution_count": null,
   "id": "solution-3",
   "metadata": {},
   "outputs": [],
   "source": [
    "# Your solution for problem 3\n",
    "import random\n",
    "from collections import Counter\n",
    "\n",
    "rolls = [random.randint(1, 6) for _ in range(100)]\n",
    "dice_counter = Counter(rolls)\n",
    "\n",
    "print(\"Dice roll frequencies:\")\n",
    "for number, count in sorted(dice_counter.items()):\n",
    "    print(f\"{number}: {count} times\")"
   ]
  },
  {
   "cell_type": "markdown",
   "id": "problem-4",
   "metadata": {},
   "source": [
    "### 4. JSON Person Data\n",
    "Create a dictionary for a person with name, age, and hobbies. Convert to JSON using the `json` library with indentation."
   ]
  },
  {
   "cell_type": "code",
   "execution_count": null,
   "id": "solution-4",
   "metadata": {},
   "outputs": [],
   "source": [
    "# Your solution for problem 4\n",
    "import json\n",
    "\n",
    "person = {\n",
    "    \"name\": \"Alex\",\n",
    "    \"age\": 28,\n",
    "    \"hobbies\": [\"hiking\", \"coding\", \"gaming\"]\n",
    "}\n",
    "\n",
    "person_json = json.dumps(person, indent=2)\n",
    "print(person_json)"
   ]
  },
  {
   "cell_type": "markdown",
   "id": "problem-5",
   "metadata": {},
   "source": [
    "### 5. Time Difference Calculator\n",
    "Calculate the exact time difference between:\n",
    "- June 15, 2023 09:30:00\n",
    "- Current date/time\n",
    "Output in days, hours, minutes and seconds."
   ]
  },
  {
   "cell_type": "code",
   "execution_count": null,
   "id": "solution-5",
   "metadata": {},
   "outputs": [],
   "source": [
    "# Your solution for problem 5\n",
    "import datetime\n",
    "\n",
    "past_date = datetime.datetime(2023, 6, 15, 9, 30, 0)\n",
    "current = datetime.datetime.now()\n",
    "time_diff = current - past_date\n",
    "\n",
    "print(f\"Total seconds: {time_diff.total_seconds()}\")\n",
    "print(f\"Days: {time_diff.days}\")\n",
    "print(f\"Hours: {time_diff.seconds // 3600}\")\n",
    "print(f\"Minutes: {(time_diff.seconds % 3600) // 60}\")"
   ]
  },
  {
   "cell_type": "markdown",
   "id": "problem-6",
   "metadata": {},
   "source": [
    "### 6. Most Common Letters\n",
    "Using `Counter`, find the 3 most common letters in this text (ignore case and spaces):\n",
    "\"Python Programming is both powerful and versatile\""
   ]
  },
  {
   "cell_type": "code",
   "execution_count": null,
   "id": "solution-6",
   "metadata": {},
   "outputs": [],
   "source": [
    "# Your solution for problem 6\n",
    "from collections import Counter\n",
    "\n",
    "text = \"Python Programming is both powerful and versatile\"\n",
    "clean_text = text.lower().replace(\" \", \"\")\n",
    "letter_counter = Counter(clean_text)\n",
    "\n",
    "print(\"Top 3 letters:\", letter_counter.most_common(3))"
   ]
  },
  {
   "cell_type": "markdown",
   "id": "problem-7",
   "metadata": {},
   "source": [
    "### 7. Nested Defaultdict\n",
    "Create a nested defaultdict where:\n",
    "- First key: Department ('IT', 'HR', 'Finance')\n",
    "- Second key: Employee ID\n",
    "- Value: Default salary of 5000\n",
    "Add sample data for two departments."
   ]
  },
  {
   "cell_type": "code",
   "execution_count": null,
   "id": "solution-7",
   "metadata": {},
   "outputs": [],
   "source": [
    "# Your solution for problem 7\n",
    "from collections import defaultdict\n",
    "\n",
    "salary_data = defaultdict(lambda: defaultdict(lambda: 5000))\n",
    "\n",
    "# Add sample data\n",
    "salary_data['IT']['E1001'] = 6500\n",
    "salary_data['HR']['E2001'] = 5300\n",
    "salary_data['Finance']['E3001']  # Will use default 5000\n",
    "\n",
    "print(dict(salary_data))"
   ]
  },
  {
   "cell_type": "markdown",
   "id": "problem-8",
   "metadata": {},
   "source": [
    "### 8. Math Library Aliasing\n",
    "Import the `math` library as `m` and calculate:\n",
    "1. Square root of 256\n",
    "2. Factorial of 5\n",
    "3. Ceiling of 7.25"
   ]
  },
  {
   "cell_type": "code",
   "execution_count": null,
   "id": "solution-8",
   "metadata": {},
   "outputs": [],
   "source": [
    "# Your solution for problem 8\n",
    "import math as m\n",
    "\n",
    "print(\"Square root:\", m.sqrt(256))\n",
    "print(\"Factorial:\", m.factorial(5))\n",
    "print(\"Ceiling:\", m.ceil(7.25))"
   ]
  },
  {
   "cell_type": "markdown",
   "id": "problem-9",
   "metadata": {},
   "source": [
    "### 9. Timezone Conversion\n",
    "Using `pytz` (install first: `!pip install pytz`):\n",
    "1. Get current UTC time\n",
    "2. Convert to New York time\n",
    "3. Convert to Tokyo time"
   ]
  },
  {
   "cell_type": "code",
   "execution_count": null,
   "id": "solution-9",
   "metadata": {},
   "outputs": [],
   "source": [
    "# Your solution for problem 9\n",
    "# First install: !pip install pytz\n",
    "import datetime\n",
    "import pytz\n",
    "\n",
    "utc_now = datetime.datetime.now(pytz.utc)\n",
    "ny_time = utc_now.astimezone(pytz.timezone('America/New_York'))\n",
    "tokyo_time = utc_now.astimezone(pytz.timezone('Asia/Tokyo'))\n",
    "\n",
    "print(\"UTC:\", utc_now.strftime(\"%Y-%m-%d %H:%M:%S\"))\n",
    "print(\"New York:\", ny_time.strftime(\"%Y-%m-%d %H:%M:%S\"))\n",
    "print(\"Tokyo:\", tokyo_time.strftime(\"%Y-%m-%d %H:%M:%S\"))"
   ]
  },
  {
   "cell_type": "markdown",
   "id": "problem-10",
   "metadata": {},
   "source": [
    "### 10. Weather Data Aggregation\n",
    "Using given temperature data:\n",
    "```python\n",
    "data = [\n",
    "    {\"city\": \"New York\", \"temp\": 68},\n",
    "    {\"city\": \"London\", \"temp\": 54},\n",
    "    {\"city\": \"New York\", \"temp\": 72},\n",
    "    {\"city\": \"Tokyo\", \"temp\": 61},\n",
    "    {\"city\": \"London\", \"temp\": 58}\n",
    "]\n",
    "```\n",
    "Use `defaultdict` to calculate average temperature per city."
   ]
  },
  {
   "cell_type": "code",
   "execution_count": null,
   "id": "solution-10",
   "metadata": {},
   "outputs": [],
   "source": [
    "# Your solution for problem 10\n",
    "from collections import defaultdict\n",
    "\n",
    "data = [\n",
    "    {\"city\": \"New York\", \"temp\": 68},\n",
    "    {\"city\": \"London\", \"temp\": 54},\n",
    "    {\"city\": \"New York\", \"temp\": 72},\n",
    "    {\"city\": \"Tokyo\", \"temp\": 61},\n",
    "    {\"city\": \"London\", \"temp\": 58}\n",
    "]\n",
    "\n",
    "city_temps = defaultdict(list)\n",
    "for record in data:\n",
    "    city_temps[record[\"city\"]].append(record[\"temp\"])\n",
    "\n",
    "avg_temps = {city: sum(temps)/len(temps) for city, temps in city_temps.items()}\n",
    "print(\"Average temperatures:\", avg_temps)"
   ]
  }
 ],
 "metadata": {
  "kernelspec": {
   "display_name": "Python 3 (ipykernel)",
   "language": "python",
   "name": "python3"
  },
  "language_info": {
   "codemirror_mode": {
    "name": "ipython",
    "version": 3
   },
   "file_extension": ".py",
   "mimetype": "text/x-python",
   "name": "python",
   "nbconvert_exporter": "python",
   "pygments_lexer": "ipython3",
   "version": "3.9.13"
  }
 },
 "nbformat": 4,
 "nbformat_minor": 5
}