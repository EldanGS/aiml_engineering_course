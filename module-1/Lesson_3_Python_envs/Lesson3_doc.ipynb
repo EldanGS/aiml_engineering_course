{
 "cells": [
  {
   "cell_type": "markdown",
   "id": "c714d313",
   "metadata": {},
   "source": [
    "# External Libraries\n",
    "We've already learned about built-in data structures (`list`, `dict`, `set`, `tuple`) and their functions.\n",
    "But Python wouldn't be so popular without its rich ecosystem of libraries :)\n",
    "\n",
    "Here we'll explore how to import libraries and experiment with several built-in Python libraries.\n",
    "\n",
    "## What is a Library?\n",
    "A library is a collection of pre-built functions and variables you can use in your code. Python includes several built-in libraries ready for use.\n",
    "\n",
    "Libraries are also called _packages_. We'll use these terms interchangeably.\n",
    "\n",
    "### Basic Import with `datetime`\n",
    "Practical example: Data analysis often involves working with dates. Let's explore date handling using the `datetime` library:"
   ]
  },
  {
   "cell_type": "code",
   "execution_count": 1,
   "id": "22a78c2e",
   "metadata": {
    "ExecuteTime": {
     "end_time": "2021-12-28T16:05:59.848071Z",
     "start_time": "2021-12-28T16:05:59.826500Z"
    }
   },
   "outputs": [],
   "source": [
    "# Import the datetime library\n",
    "import datetime\n",
    "\n",
    "# Basic syntax:\n",
    "# import library_name"
   ]
  },
  {
   "cell_type": "code",
   "execution_count": 8,
   "id": "3413c723",
   "metadata": {
    "ExecuteTime": {
     "end_time": "2021-12-28T16:07:50.826262Z",
     "start_time": "2021-12-28T16:07:50.815012Z"
    }
   },
   "outputs": [
    {
     "name": "stdout",
     "output_type": "stream",
     "text": [
      "2022-01-07\n"
     ]
    }
   ],
   "source": [
    "# Access library components using dot notation\n",
    "# Call date() from datetime\n",
    "holiday_date = datetime.date(year=2022, month=1, day=7)  \n",
    "print(holiday_date)"
   ]
  },
  {
   "cell_type": "code",
   "execution_count": 10,
   "id": "8316c9f8",
   "metadata": {},
   "outputs": [
    {
     "name": "stdout",
     "output_type": "stream",
     "text": [
      "2020-12-13\n"
     ]
    }
   ],
   "source": [
    "holday_date_check = datetime.date(day=13, month=12, year=2020)\n",
    "print(holday_date_check)\n",
    "# YYYY-MM-DD => default structure of date in datetime libs."
   ]
  },
  {
   "cell_type": "code",
   "execution_count": null,
   "id": "240f6621",
   "metadata": {
    "ExecuteTime": {
     "end_time": "2021-12-28T16:14:39.353742Z",
     "start_time": "2021-12-28T16:14:39.348353Z"
    }
   },
   "outputs": [
    {
     "name": "stdout",
     "output_type": "stream",
     "text": [
      "Year: 2022\n",
      "Month: 3\n",
      "Day: 4\n",
      "Hour: 13\n",
      "Minute: 55\n",
      "Second: 34\n",
      "\n",
      "Current time: 2025-07-10 18:48:01.336638\n"
     ]
    }
   ],
   "source": [
    "# datetime provides precise date/time handling\n",
    "# Create a datetime object\n",
    "event_time = datetime.datetime(2022, 3, 4, 13, 55, 34)\n",
    "\n",
    "print(f\"Year: {event_time.year}\")\n",
    "print(f'Month: {event_time.month}')\n",
    "print(f'Day: {event_time.day}')\n",
    "print(f'Hour: {event_time.hour}')\n",
    "print(f'Minute: {event_time.minute}')\n",
    "print(f'Second: {event_time.second}')\n",
    "\n",
    "# Extra example: Get current time\n",
    "current_time = datetime.datetime.now()\n",
    "print(f\"\\nCurrent time: {current_time}\")"
   ]
  },
  {
   "cell_type": "code",
   "execution_count": 18,
   "id": "cfe24e24",
   "metadata": {
    "ExecuteTime": {
     "end_time": "2021-12-28T16:17:19.297302Z",
     "start_time": "2021-12-28T16:17:19.292789Z"
    }
   },
   "outputs": [
    {
     "name": "stdout",
     "output_type": "stream",
     "text": [
      "60 days, 0:00:00\n",
      "2021-05-11\n",
      "2021-01-11\n",
      "Days between: 364\n"
     ]
    }
   ],
   "source": [
    "# Date arithmetic uses timedelta\n",
    "time_span = datetime.timedelta(days=60)\n",
    "print(time_span)\n",
    "\n",
    "# Add 60 days to March 12, 2021\n",
    "print(datetime.date(2021, 3, 12) + time_span)\n",
    "print(datetime.date(2021, 3, 12) - time_span)\n",
    "\n",
    "# Extra example: Calculate difference between dates\n",
    "date1 = datetime.date(2023, 1, 1)\n",
    "date2 = datetime.date(2023, 12, 31)\n",
    "difference = date2 - date1\n",
    "print(f\"Days between: {difference.days}\")"
   ]
  },
  {
   "cell_type": "markdown",
   "id": "abc33387",
   "metadata": {},
   "source": [
    "The `datetime` module (sometimes called a _package_) contains many other features.\n",
    "Learn more at [Python's official documentation](https://docs.python.org/3/library/datetime.html)."
   ]
  },
  {
   "cell_type": "markdown",
   "id": "c8b7da11",
   "metadata": {},
   "source": [
    "### Selective Import with `from` using `collections`\n",
    "`collections` - another powerful built-in library providing advanced data structures.\n",
    "Commonly used tools include `defaultdict` and `Counter`.\n",
    "\n",
    "#### `defaultdict`"
   ]
  },
  {
   "cell_type": "code",
   "execution_count": 20,
   "id": "58a578d4",
   "metadata": {
    "ExecuteTime": {
     "end_time": "2021-12-28T16:24:38.616360Z",
     "start_time": "2021-12-28T16:24:38.611864Z"
    }
   },
   "outputs": [
    {
     "name": "stdout",
     "output_type": "stream",
     "text": [
      "defaultdict(<class 'int'>, {})\n",
      "0\n",
      "defaultdict(<class 'int'>, {'missing_key': 0})\n"
     ]
    }
   ],
   "source": [
    "# Import specific components from a library\n",
    "from collections import defaultdict, Counter\n",
    "\n",
    "# Syntax:\n",
    "# from library_name import component1, component2\n",
    "\n",
    "\"\"\"\n",
    "defaultdict creates default values for missing keys\n",
    "Avoids KeyError exceptions in dictionaries\n",
    "\"\"\"\n",
    "count_dict = defaultdict(int)  # Missing keys initialize to 0 (int() returns 0)\n",
    "\"\"\"\n",
    " {\n",
    "  KEY : VALUE (int)\n",
    " }\n",
    "\"\"\"\n",
    "print(count_dict)\n",
    "print(count_dict[\"missing_key\"])  # Automatically creates key with value 0\n",
    "print(count_dict)"
   ]
  },
  {
   "cell_type": "code",
   "execution_count": 21,
   "id": "22ec4220",
   "metadata": {},
   "outputs": [
    {
     "name": "stdout",
     "output_type": "stream",
     "text": [
      "\n",
      "--- Extra Example ---\n",
      "defaultdict(<class 'list'>, {})\n",
      "defaultdict(<class 'list'>, {'colors': ['red', 'blue']})\n"
     ]
    }
   ],
   "source": [
    "# Extra example: Grouping with defaultdict\n",
    "print(\"\\n--- Extra Example ---\")\n",
    "grouped_data = defaultdict(list)\n",
    "print(grouped_data)\n",
    "grouped_data[\"colors\"].append(\"red\")\n",
    "grouped_data[\"colors\"].append(\"blue\")\n",
    "print(grouped_data)"
   ]
  },
  {
   "cell_type": "markdown",
   "id": "ba9bbe97",
   "metadata": {},
   "source": [
    "When accessing `\"missing_key\"`, it was automatically created with value `int()` (0).\n",
    "A regular `dict` would raise a `KeyError`.\n",
    "\n",
    "#### `Counter`\n",
    "`Counter` takes an iterable, counts elements, and returns a dictionary-like object."
   ]
  },
  {
   "cell_type": "code",
   "execution_count": 22,
   "id": "ac757308",
   "metadata": {
    "ExecuteTime": {
     "end_time": "2021-12-28T16:29:42.891359Z",
     "start_time": "2021-12-28T16:29:42.885611Z"
    }
   },
   "outputs": [
    {
     "data": {
      "text/plain": [
       "Counter({3: 3, 1: 2, 'a': 1, 'm': 1, None: 1, (): 1})"
      ]
     },
     "execution_count": 22,
     "metadata": {},
     "output_type": "execute_result"
    }
   ],
   "source": [
    "data = [1, 3, 'a', 'm', 1, None, 3, 3, ()]\n",
    "\n",
    "frequency = Counter(data)\n",
    "frequency"
   ]
  },
  {
   "cell_type": "markdown",
   "id": "fdac6ab1",
   "metadata": {},
   "source": [
    "Element `1` appears twice, `3` appears three times, others appear once.\n",
    "\n",
    "Note: Dictionary keys must be immutable. `Counter` requires hashable elements."
   ]
  },
  {
   "cell_type": "code",
   "execution_count": null,
   "id": "18bbdf26",
   "metadata": {
    "ExecuteTime": {
     "end_time": "2021-12-28T16:31:08.189111Z",
     "start_time": "2021-12-28T16:31:08.181794Z"
    }
   },
   "outputs": [
    {
     "name": "stdout",
     "output_type": "stream",
     "text": [
      "Counter({1: 4, 3: 3, 'a': None, 'm': 1, None: 1, (): 1})\n",
      "Counter({1: 4, 3: 3, 'm': 1, None: 1, (): 1, 'a': 0})\n",
      "\n",
      "--- Extra Example ---\n",
      "Most common: [(1, 4), (3, 3)]\n"
     ]
    }
   ],
   "source": [
    "# Counter behaves like a dictionary\n",
    "frequency[1] += 1  # Increment count\n",
    "print(frequency)\n",
    "\n",
    "frequency['a'] = 0  # Can store any value\n",
    "print(frequency)\n",
    "\n",
    "# Extra example: Most common elements\n",
    "print(\"\\n--- Extra Example ---\")\n",
    "print(f\"Most common: {frequency.most_common(2)}\")  # Top 2 elements\n",
    "# [(key, value), (key2, value2), ...]"
   ]
  },
  {
   "cell_type": "markdown",
   "id": "dabae385",
   "metadata": {},
   "source": [
    "### Import Aliasing with `as`\n",
    "The `as` keyword lets you rename libraries for concise access.\n",
    "Useful for long library names or avoiding naming conflicts.\n",
    "\n",
    "Example with `json`:"
   ]
  },
  {
   "cell_type": "code",
   "execution_count": 25,
   "id": "1506a30e",
   "metadata": {
    "ExecuteTime": {
     "end_time": "2021-12-28T16:35:47.972371Z",
     "start_time": "2021-12-28T16:35:47.966916Z"
    }
   },
   "outputs": [
    {
     "data": {
      "text/plain": [
       "'{\"name\": \"Alice\", \"age\": 30, \"city\": \"London\"}'"
      ]
     },
     "execution_count": 25,
     "metadata": {},
     "output_type": "execute_result"
    }
   ],
   "source": [
    "import json as j\n",
    "\n",
    "# Convert dictionary to JSON\n",
    "person_data = {\"name\": \"Alice\", \"age\": 30, \"city\": \"London\"}\n",
    "j.dumps(person_data)"
   ]
  },
  {
   "cell_type": "markdown",
   "id": "85389f1a",
   "metadata": {},
   "source": [
    "This is equivalent to:"
   ]
  },
  {
   "cell_type": "code",
   "execution_count": 26,
   "id": "e0d39208",
   "metadata": {
    "ExecuteTime": {
     "end_time": "2021-12-28T16:35:59.595845Z",
     "start_time": "2021-12-28T16:35:59.590598Z"
    }
   },
   "outputs": [
    {
     "data": {
      "text/plain": [
       "'{\"name\": \"Alice\", \"age\": 30, \"city\": \"London\"}'"
      ]
     },
     "execution_count": 26,
     "metadata": {},
     "output_type": "execute_result"
    }
   ],
   "source": [
    "import json\n",
    "json.dumps({\"name\": \"Alice\", \"age\": 30, \"city\": \"London\"})"
   ]
  },
  {
   "cell_type": "code",
   "execution_count": null,
   "id": "f1ad99d2",
   "metadata": {},
   "outputs": [],
   "source": []
  }
 ],
 "metadata": {
  "kernelspec": {
   "display_name": "base",
   "language": "python",
   "name": "python3"
  },
  "language_info": {
   "codemirror_mode": {
    "name": "ipython",
    "version": 3
   },
   "file_extension": ".py",
   "mimetype": "text/x-python",
   "name": "python",
   "nbconvert_exporter": "python",
   "pygments_lexer": "ipython3",
   "version": "3.12.4"
  },
  "toc": {
   "base_numbering": 1,
   "nav_menu": {},
   "number_sections": true,
   "sideBar": true,
   "skip_h1_title": false,
   "title_cell": "Table of Contents",
   "title_sidebar": "Contents",
   "toc_cell": false,
   "toc_position": {},
   "toc_section_display": true,
   "toc_window_display": false
  }
 },
 "nbformat": 4,
 "nbformat_minor": 5
}
