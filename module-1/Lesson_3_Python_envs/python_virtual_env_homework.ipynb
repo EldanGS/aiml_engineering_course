{
 "cells": [
  {
   "cell_type": "markdown",
   "id": "883755e1",
   "metadata": {},
   "source": [
    "# Python Virtual Environment Homework\n",
    "This notebook contains **10 practical, interesting exercises** to learn:\n",
    "- Virtual environment creation & management\n",
    "- Installing & freezing libraries\n",
    "- Resolving dependency conflicts\n",
    "- Linking environments with Jupyter.\n",
    "\n",
    "**⚡️ Complete these cells, test, and take screenshots for submission if needed.**"
   ]
  },
  {
   "cell_type": "markdown",
   "id": "326d5c06",
   "metadata": {},
   "source": [
    "## Exercise 1: Create a Virtual Environment\n",
    "\n",
    "Use the `venv` module to create a virtual environment named `env_homework`.\n",
    "\n",
    "```bash\n",
    "!python -m venv env_homework\n",
    "```"
   ]
  },
  {
   "cell_type": "markdown",
   "id": "572e1217",
   "metadata": {},
   "source": [
    "## Exercise 2: Activate and Print Python Executable\n",
    "\n",
    "Activate your `env_homework` environment (manually in terminal) then:\n",
    "\n",
    "```python\n",
    "import sys\n",
    "print(sys.executable)\n",
    "```"
   ]
  },
  {
   "cell_type": "markdown",
   "id": "948c88e5",
   "metadata": {},
   "source": [
    "## Exercise 3: List Installed Packages\n",
    "\n",
    "List currently installed packages inside your environment:\n",
    "\n",
    "```bash\n",
    "!pip list\n",
    "```"
   ]
  },
  {
   "cell_type": "markdown",
   "id": "442e3f2b",
   "metadata": {},
   "source": [
    "## Exercise 4: Install a Specific Package\n",
    "\n",
    "Install `requests` inside your environment and verify:\n",
    "\n",
    "```bash\n",
    "!pip install requests\n",
    "```\n",
    "```python\n",
    "import requests\n",
    "print(requests.__version__)\n",
    "```"
   ]
  },
  {
   "cell_type": "markdown",
   "id": "090f0141",
   "metadata": {},
   "source": [
    "## Exercise 5: Freeze Dependencies\n",
    "\n",
    "Generate a `requirements.txt` file:\n",
    "\n",
    "```bash\n",
    "!pip freeze > requirements.txt\n",
    "```"
   ]
  },
  {
   "cell_type": "markdown",
   "id": "43bc2045",
   "metadata": {},
   "source": [
    "## Exercise 6: Create and Resolve Dependency Conflict\n",
    "\n",
    "1) Install `numpy==1.21.0`:\n",
    "\n",
    "```bash\n",
    "!pip install numpy==1.21.0\n",
    "```\n",
    "2) Then install `pandas==2.0.0`:\n",
    "\n",
    "```bash\n",
    "!pip install pandas==2.0.0\n",
    "```\n",
    "3) If conflicts arise, resolve by updating packages."
   ]
  },
  {
   "cell_type": "markdown",
   "id": "de0966ff",
   "metadata": {},
   "source": [
    "## Exercise 7: Uninstall a Package\n",
    "\n",
    "Uninstall `requests` and confirm removal:\n",
    "\n",
    "```bash\n",
    "!pip uninstall requests -y\n",
    "```\n",
    "```python\n",
    "try:\n",
    "    import requests\n",
    "except ImportError:\n",
    "    print('requests is not installed')\n",
    "```"
   ]
  },
  {
   "cell_type": "markdown",
   "id": "8cde6231",
   "metadata": {},
   "source": [
    "## Exercise 8: Add Jupyter Kernel\n",
    "\n",
    "Install `ipykernel` and add your environment as a Jupyter kernel:\n",
    "\n",
    "```bash\n",
    "!pip install ipykernel\n",
    "!python -m ipykernel install --user --name=env_homework_kernel\n",
    "```"
   ]
  },
  {
   "cell_type": "markdown",
   "id": "ddbd4e96",
   "metadata": {},
   "source": [
    "## Exercise 9: Clone Environment with Requirements\n",
    "\n",
    "Create `env_homework_clone`, activate it, and install dependencies:\n",
    "\n",
    "```bash\n",
    "!python -m venv env_homework_clone\n",
    "# activate, then:\n",
    "!pip install -r requirements.txt\n",
    "```"
   ]
  },
  {
   "cell_type": "markdown",
   "id": "f3fc253f",
   "metadata": {},
   "source": [
    "## Exercise 10: Clean Up\n",
    "\n",
    "Deactivate and delete environments when done:\n",
    "\n",
    "```bash\n",
    "# deactivate\n",
    "!rm -rf env_homework env_homework_clone\n",
    "```"
   ]
  },
  {
   "cell_type": "markdown",
   "id": "de9fd92f",
   "metadata": {},
   "source": [
    "### ✅ Optional Advanced Tasks:\n",
    "- Use `pipdeptree` to visualize your dependency tree.\n",
    "- Create a `.env` file and use `os.environ` to handle environment variables.\n",
    "- Try `pip-tools` for managing pinned requirements.\n",
    "\n",
    "**Submit:** screenshots, your `requirements.txt`, and reflections on what you learned."
   ]
  }
 ],
 "metadata": {},
 "nbformat": 4,
 "nbformat_minor": 5
}