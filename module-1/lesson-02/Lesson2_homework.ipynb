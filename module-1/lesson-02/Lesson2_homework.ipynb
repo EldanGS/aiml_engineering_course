{
 "cells": [
  {
   "cell_type": "markdown",
   "metadata": {},
   "source": [
    "# Homework\n",
    "\n",
    "---"
   ]
  },
  {
   "cell_type": "markdown",
   "metadata": {},
   "source": [
    "### Section 1: Functions\n",
    "\n",
    "**Goal:** Solidify your understanding of function definition, arguments, default values, and return statements."
   ]
  },
  {
   "cell_type": "code",
   "execution_count": null,
   "metadata": {},
   "outputs": [],
   "source": []
  },
  {
   "cell_type": "markdown",
   "metadata": {},
   "source": [
    "**Task 1: Simple Greeter**\n",
    "* Create a function called `greet_user` that takes one argument, `name`.\n",
    "* The function should print a personalized greeting, like \"Hello, [name]! Welcome.\"\n",
    "* Call the function with your name."
   ]
  },
  {
   "cell_type": "code",
   "execution_count": null,
   "metadata": {},
   "outputs": [],
   "source": [
    "# Your code here\n",
    "def greet_user(name):\n",
    "    print(f\"Hello, {name}! Welcome.\")\n",
    "\n",
    "greet_user()"
   ]
  },
  {
   "cell_type": "markdown",
   "metadata": {},
   "source": [
    "**Task 2: Area Calculator**\n",
    "* Write a function `calculate_rectangle_area` that accepts two arguments: `width` and `height`.\n",
    "* The function should calculate the area (`width * height`) and `return` the result.\n",
    "* Call the function with some numbers and print the returned value."
   ]
  },
  {
   "cell_type": "code",
   "execution_count": null,
   "metadata": {},
   "outputs": [],
   "source": [
    "# Your code here"
   ]
  },
  {
   "cell_type": "markdown",
   "metadata": {},
   "source": [
    "**Task 3: Temperature Converter**\n",
    "* Create a function `celsius_to_fahrenheit` that takes a temperature in Celsius.\n",
    "* It should convert it to Fahrenheit using the formula $F = (C \\times \\frac{9}{5}) + 32$ and return the result.\n",
    "* Test it with a few values, like 0°C and 100°C."
   ]
  },
  {
   "cell_type": "code",
   "execution_count": null,
   "metadata": {},
   "outputs": [],
   "source": [
    "# Your code here"
   ]
  },
  {
   "cell_type": "markdown",
   "metadata": {},
   "source": [
    "**Task 4: A Function with Default Arguments**\n",
    "* Modify the `greet_user` function from Task 1.\n",
    "* Give the `name` argument a default value of \"Guest\".\n",
    "* Call the function once *without* any arguments to see the default value in action.\n",
    "* Call it again with an argument to see it override the default."
   ]
  },
  {
   "cell_type": "code",
   "execution_count": null,
   "metadata": {},
   "outputs": [],
   "source": [
    "# Your code here"
   ]
  },
  {
   "cell_type": "markdown",
   "metadata": {},
   "source": [
    "**Task 5: Full Name Formatter**\n",
    "* Write a function `format_full_name` that takes `first_name` and `last_name` as arguments.\n",
    "* It should return a single string with the full name, e.g., \"Doe, John\".\n",
    "* Call the function and print the result."
   ]
  },
  {
   "cell_type": "code",
   "execution_count": null,
   "metadata": {},
   "outputs": [],
   "source": [
    "# Your code here"
   ]
  },
  {
   "cell_type": "markdown",
   "metadata": {},
   "source": [
    "**Task 6: The Exponent-inator!**\n",
    "* Create a function `power_of` that takes two arguments, `base` and `exponent`.\n",
    "* Make the `exponent` argument have a default value of 2.\n",
    "* The function should return the `base` raised to the power of the `exponent`.\n",
    "* Call it with one argument to get the square, and with two arguments for other powers."
   ]
  },
  {
   "cell_type": "code",
   "execution_count": null,
   "metadata": {},
   "outputs": [],
   "source": [
    "# Your code here"
   ]
  },
  {
   "cell_type": "markdown",
   "metadata": {},
   "source": [
    "**Task 7: Combining Functions**\n",
    "* Use the `calculate_rectangle_area` function (Task 2) inside a new function.\n",
    "* Create a function `calculate_cost` that takes `width`, `height`, and `price_per_square_meter`.\n",
    "* This function should call `calculate_rectangle_area` to get the area and then return the total cost."
   ]
  },
  {
   "cell_type": "code",
   "execution_count": null,
   "metadata": {},
   "outputs": [],
   "source": [
    "# Your code here"
   ]
  },
  {
   "cell_type": "markdown",
   "metadata": {},
   "source": [
    "**Task 8: List Analysis**\n",
    "* Write a function `get_list_stats` that takes a list of numbers.\n",
    "* The function should return three values: the sum of the list, the average value, and the length of the list.\n",
    "* *Hint: You can return multiple values from a function like this: `return val1, val2, val3`.*\n",
    "* Call it with a sample list and print each of the returned stats."
   ]
  },
  {
   "cell_type": "code",
   "execution_count": null,
   "metadata": {},
   "outputs": [],
   "source": [
    "# Your code here"
   ]
  },
  {
   "cell_type": "markdown",
   "metadata": {},
   "source": [
    "**Task 9: Simple Login Check**\n",
    "* Create a function `is_valid_password` that takes a `password` string.\n",
    "* For now, just check if the password's length is greater than 8 characters.\n",
    "* The function should return `True` if it is, and `False` otherwise.\n",
    "* Test it with a short password and a long password."
   ]
  },
  {
   "cell_type": "code",
   "execution_count": null,
   "metadata": {},
   "outputs": [],
   "source": [
    "# Your code here"
   ]
  },
  {
   "cell_type": "markdown",
   "metadata": {},
   "source": [
    "**Task 10: The Documenter**\n",
    "* Go back to any three functions you wrote above.\n",
    "* Add a docstring (using triple quotes `\"\"\"Docstring goes here\"\"\"`) to each one.\n",
    "* The docstring should briefly explain what the function does, what its arguments are, and what it returns."
   ]
  },
  {
   "cell_type": "code",
   "execution_count": null,
   "metadata": {},
   "outputs": [],
   "source": [
    "# Your code here"
   ]
  },
  {
   "cell_type": "markdown",
   "metadata": {},
   "source": [
    "### Section 2: Error Handling\n",
    "\n",
    "**Goal:** Learn to anticipate and gracefully handle potential errors using `try...except` blocks."
   ]
  },
  {
   "cell_type": "markdown",
   "metadata": {},
   "source": [
    "**Task 1: Safe Division**\n",
    "* Create a function `safe_divide(numerator, denominator)`.\n",
    "* Inside, use a `try...except` block to handle the `ZeroDivisionError`.\n",
    "* If the denominator is zero, it should print an error message like \"Error: Cannot divide by zero.\" and return `None`.\n",
    "* Otherwise, it should return the result of the division.\n",
    "* Test it by calling it once with a zero denominator and once with a non-zero denominator."
   ]
  },
  {
   "cell_type": "code",
   "execution_count": null,
   "metadata": {},
   "outputs": [],
   "source": [
    "# Your code here"
   ]
  },
  {
   "cell_type": "markdown",
   "metadata": {},
   "source": [
    "**Task 2: Number Converter**\n",
    "* Write a program that asks the user to `input` a number.\n",
    "* Use a `try...except` block to convert the input to an integer using `int()`.\n",
    "* If the user enters something that is not a number (like \"hello\"), catch the `ValueError` and print a friendly message like \"That was not a valid number!\""
   ]
  },
  {
   "cell_type": "code",
   "execution_count": null,
   "metadata": {},
   "outputs": [],
   "source": [
    "# Your code here"
   ]
  },
  {
   "cell_type": "markdown",
   "metadata": {},
   "source": [
    "**Task 3: List Index Checker**\n",
    "* Create a function `get_element(data_list, index)`.\n",
    "* Use a `try...except` block to handle the `IndexError`.\n",
    "* If the index is out of bounds, print an error message and return `None`.\n",
    "* Otherwise, return the element at the given index.\n",
    "* Test it with a sample list and both a valid and an invalid index."
   ]
  },
  {
   "cell_type": "code",
   "execution_count": null,
   "metadata": {},
   "outputs": [],
   "source": [
    "# Your code here"
   ]
  },
  {
   "cell_type": "markdown",
   "metadata": {},
   "source": [
    "**Task 4: Handling Multiple Errors**\n",
    "* Combine the ideas from Task 1 and Task 2.\n",
    "* Write a script that attempts to divide a number by a user's input.\n",
    "* Wrap the logic in a `try` block.\n",
    "* Add *two separate* `except` blocks: one for `ZeroDivisionError` and one for `ValueError` (if the user types text).\n",
    "* Print a specific message for each type of error."
   ]
  },
  {
   "cell_type": "code",
   "execution_count": null,
   "metadata": {},
   "outputs": [],
   "source": [
    "# Your code here"
   ]
  },
  {
   "cell_type": "markdown",
   "metadata": {},
   "source": [
    "**Task 5: Generic Error Catcher**\n",
    "* Write a function that performs a potentially risky operation (e.g., `1 / 0`).\n",
    "* Use a `try...except Exception as e:` block.\n",
    "* In the `except` block, print the actual error message that Python generated by printing the variable `e`. This shows you how to capture the error details."
   ]
  },
  {
   "cell_type": "code",
   "execution_count": null,
   "metadata": {},
   "outputs": [],
   "source": [
    "# Your code here"
   ]
  },
  {
   "cell_type": "markdown",
   "metadata": {},
   "source": [
    "**Task 6: File Opener**\n",
    "* The code to open a file is `with open(\"filename.txt\", \"r\") as f:`. This can fail if the file doesn't exist, raising a `FileNotFoundError`.\n",
    "* Write a script that asks the user for a filename.\n",
    "* Use a `try...except` block to try opening the file.\n",
    "* If it fails, catch the `FileNotFoundError` and print a message like \"Sorry, that file does not exist.\""
   ]
  },
  {
   "cell_type": "code",
   "execution_count": null,
   "metadata": {},
   "outputs": [],
   "source": [
    "# Your code here"
   ]
  },
  {
   "cell_type": "markdown",
   "metadata": {},
   "source": [
    "**Task 7: Dictionary Key Access**\n",
    "* Create a dictionary, e.g., `user_data = {\"name\": \"Alice\", \"id\": 101}`.\n",
    "* Accessing a key that doesn't exist (e.g., `user_data[\"age\"]`) raises a `KeyError`.\n",
    "* Write a function `get_user_info(user_dict, key)`.\n",
    "* Use `try...except` to handle the `KeyError`. If the key is not found, return \"Key not found\".\n",
    "* Test it by looking for both an existing key and a non-existing key."
   ]
  },
  {
   "cell_type": "code",
   "execution_count": null,
   "metadata": {},
   "outputs": [],
   "source": [
    "# Your code here"
   ]
  },
  {
   "cell_type": "markdown",
   "metadata": {},
   "source": [
    "**Task 8: The `finally` Clause**\n",
    "* Create a `try` block that attempts to perform division.\n",
    "* Add an `except` block for `ZeroDivisionError`.\n",
    "* Add a `finally` block. Inside `finally`, print the message \"Execution finished.\"\n",
    "* Run the code twice: once to cause an error and once to run successfully. Notice that the `finally` block *always* executes."
   ]
  },
  {
   "cell_type": "code",
   "execution_count": null,
   "metadata": {},
   "outputs": [],
   "source": [
    "# Your code here"
   ]
  },
  {
   "cell_type": "markdown",
   "metadata": {},
   "source": [
    "**Task 9: Raising Your Own Exception**\n",
    "* In your `is_valid_password` function from the previous section, instead of returning `False`, use `raise ValueError(\"Password must be longer than 8 characters.\")` if the password is too short.\n",
    "* Now, call this function from inside a `try...except` block to catch the error you just raised."
   ]
  },
  {
   "cell_type": "code",
   "execution_count": null,
   "metadata": {},
   "outputs": [],
   "source": [
    "# Your code here"
   ]
  },
  {
   "cell_type": "markdown",
   "metadata": {},
   "source": [
    "**Task 10: Input Loop**\n",
    "* Create a loop that repeatedly asks the user for a number.\n",
    "* Inside the loop, use `try...except` to validate the input.\n",
    "* If the input is a valid number, `break` the loop.\n",
    "* If it's not, print an error message and let the loop continue, asking for input again."
   ]
  },
  {
   "cell_type": "code",
   "execution_count": null,
   "metadata": {},
   "outputs": [],
   "source": [
    "# Your code here"
   ]
  },
  {
   "cell_type": "markdown",
   "metadata": {},
   "source": [
    "### Section 3: Reference Data Model & Mutability\n",
    "\n",
    "**Goal:** Understand the difference between mutable and immutable types and how variables act as references, especially within functions."
   ]
  },
  {
   "cell_type": "markdown",
   "metadata": {},
   "source": [
    "**Task 1: The List Mystery**\n",
    "* Create a list `my_numbers = [1, 2, 3]`.\n",
    "* Create a new variable `another_list = my_numbers`.\n",
    "* Now, append a number to `another_list` using `.append(4)`.\n",
    "* Print both `my_numbers` and `another_list`. What do you observe? Explain why in a comment."
   ]
  },
  {
   "cell_type": "code",
   "execution_count": null,
   "metadata": {},
   "outputs": [],
   "source": [
    "# Your code here"
   ]
  },
  {
   "cell_type": "markdown",
   "metadata": {},
   "source": [
    "**Task 2: The Copy Solution**\n",
    "* Repeat Task 1, but this time, create the second list like this: `another_list = my_numbers.copy()`.\n",
    "* Append a number to `another_list`.\n",
    "* Print both lists again. How is the result different? Explain why."
   ]
  },
  {
   "cell_type": "code",
   "execution_count": null,
   "metadata": {},
   "outputs": [],
   "source": [
    "# Your code here"
   ]
  },
  {
   "cell_type": "markdown",
   "metadata": {},
   "source": [
    "**Task 3: Mutating in a Function**\n",
    "* Write a function `add_item_to_list(target_list, item)` that appends an `item` to the `target_list`.\n",
    "* Create a list outside the function, e.g., `groceries = [\"apple\", \"banana\"]`.\n",
    "* Call your function with this list: `add_item_to_list(groceries, \"orange\")`.\n",
    "* Print the `groceries` list. Did it change? Explain."
   ]
  },
  {
   "cell_type": "code",
   "execution_count": null,
   "metadata": {},
   "outputs": [],
   "source": [
    "# Your code here"
   ]
  },
  {
   "cell_type": "markdown",
   "metadata": {},
   "source": [
    "**Task 4: Immutable Behavior with Numbers**\n",
    "* Create a function `increment_number(num)` that takes a number, adds 1 to it, and that's it (no return).\n",
    "* Create a variable `my_score = 10`.\n",
    "* Call `increment_number(my_score)`.\n",
    "* Print `my_score`. Did it change? Explain why this is different from the list example."
   ]
  },
  {
   "cell_type": "code",
   "execution_count": null,
   "metadata": {},
   "outputs": [],
   "source": [
    "# Your code here"
   ]
  },
  {
   "cell_type": "markdown",
   "metadata": {},
   "source": [
    "**Task 5: Immutable Behavior with Strings**\n",
    "* Write a function `shout(text)` that reassigns the `text` variable inside it to be its uppercase version: `text = text.upper()`.\n",
    "* Create a string `my_message = \"hello\"`.\n",
    "* Call `shout(my_message)`.\n",
    "* Print `my_message`. Did it change? Why?"
   ]
  },
  {
   "cell_type": "code",
   "execution_count": null,
   "metadata": {},
   "outputs": [],
   "source": [
    "# Your code here"
   ]
  },
  {
   "cell_type": "markdown",
   "metadata": {},
   "source": [
    "**Task 6: The \"Return and Reassign\" Pattern**\n",
    "* Modify the `shout` function from Task 5 to `return` the uppercase string.\n",
    "* Call it like this: `my_message = shout(my_message)`.\n",
    "* Now print `my_message`. This is the correct pattern for working with immutable types."
   ]
  },
  {
   "cell_type": "code",
   "execution_count": null,
   "metadata": {},
   "outputs": [],
   "source": [
    "# Your code here"
   ]
  },
  {
   "cell_type": "markdown",
   "metadata": {},
   "source": [
    "**Task 7: Tuples are Immutable**\n",
    "* Create a tuple `my_tuple = (10, 20, 30)`.\n",
    "* Try to change the first element: `my_tuple[0] = 5`.\n",
    "* What happens? Wrap this attempt in a `try...except TypeError` block and print a message confirming that tuples cannot be changed."
   ]
  },
  {
   "cell_type": "code",
   "execution_count": null,
   "metadata": {},
   "outputs": [],
   "source": [
    "# Your code here"
   ]
  },
  {
   "cell_type": "markdown",
   "metadata": {},
   "source": [
    "**Task 8: A List Inside a Tuple**\n",
    "* This is a tricky one! Create a tuple that contains a list: `weird_tuple = (1, 2, ['a', 'b'])`.\n",
    "* Can you change the tuple itself, like `weird_tuple[0] = 5`? (No)\n",
    "* Can you change the *list inside* the tuple? Try this: `weird_tuple[2].append('c')`.\n",
    "* Print `weird_tuple`. What happened? Explain this behavior."
   ]
  },
  {
   "cell_type": "code",
   "execution_count": null,
   "metadata": {},
   "outputs": [],
   "source": [
    "# Your code here"
   ]
  },
  {
   "cell_type": "markdown",
   "metadata": {},
   "source": [
    "**Task 9: Default Argument Trap**\n",
    "* Define a function like this: `def add_to_history(item, history=[]):`.\n",
    "* Inside, append the item to the history: `history.append(item)`.\n",
    "* Then print the `history`.\n",
    "* Call the function twice, e.g., `add_to_history(\"first\")` and then `add_to_history(\"second\")`.\n",
    "* What is the output? This is a famous Python \"gotcha.\" Research why this happens."
   ]
  },
  {
   "cell_type": "code",
   "execution_count": null,
   "metadata": {},
   "outputs": [],
   "source": [
    "# Your code here"
   ]
  },
  {
   "cell_type": "markdown",
   "metadata": {},
   "source": [
    "**Task 10: The Fix for the Trap**\n",
    "* Rewrite the function from Task 9 using the correct pattern for default mutable arguments:\n",
    "    ```python\n",
    "    def add_to_history_safe(item, history=None):\n",
    "        if history is None:\n",
    "            history = []\n",
    "        history.append(item)\n",
    "        print(history)\n",
    "    ```\n",
    "* Call this new function twice and observe that it now behaves as expected."
   ]
  },
  {
   "cell_type": "code",
   "execution_count": null,
   "metadata": {},
   "outputs": [],
   "source": [
    "# Your code here"
   ]
  },
  {
   "cell_type": "markdown",
   "metadata": {},
   "source": [
    "### Section 4: Slicing\n",
    "\n",
    "**Goal:** Master the `[start:stop:step]` syntax to extract and manipulate parts of sequences like lists and strings."
   ]
  },
  {
   "cell_type": "markdown",
   "metadata": {},
   "source": [
    "**Task 1: First Three**\n",
    "* Create a list of your favorite foods (at least 5).\n",
    "* Use slicing to create a new list containing only the first three items. Print the new list."
   ]
  },
  {
   "cell_type": "code",
   "execution_count": null,
   "metadata": {},
   "outputs": [],
   "source": [
    "# Your code here"
   ]
  },
  {
   "cell_type": "markdown",
   "metadata": {},
   "source": [
    "**Task 2: All But the First**\n",
    "* Using the same list, use slicing to get a new list containing everything *except* the first item."
   ]
  },
  {
   "cell_type": "code",
   "execution_count": null,
   "metadata": {},
   "outputs": [],
   "source": [
    "# Your code here"
   ]
  },
  {
   "cell_type": "markdown",
   "metadata": {},
   "source": [
    "**Task 3: Last Two**\n",
    "* Use negative indexing in your slice to get the last two items from the list."
   ]
  },
  {
   "cell_type": "code",
   "execution_count": null,
   "metadata": {},
   "outputs": [],
   "source": [
    "# Your code here"
   ]
  },
  {
   "cell_type": "markdown",
   "metadata": {},
   "source": [
    "**Task 4: Every Other One**\n",
    "* Create a list of numbers from 0 to 10.\n",
    "* Use slicing with a `step` to create a new list that contains every other number (0, 2, 4, ...)."
   ]
  },
  {
   "cell_type": "code",
   "execution_count": null,
   "metadata": {},
   "outputs": [],
   "source": [
    "# Your code here"
   ]
  },
  {
   "cell_type": "markdown",
   "metadata": {},
   "source": [
    "**Task 5: Reverse It!**\n",
    "* Create a string: `palindrome_candidate = \"level\"`.\n",
    "* Use slicing to create a reversed version of the string.\n",
    "* Print the reversed string."
   ]
  },
  {
   "cell_type": "code",
   "execution_count": null,
   "metadata": {},
   "outputs": [],
   "source": [
    "# Your code here"
   ]
  },
  {
   "cell_type": "markdown",
   "metadata": {},
   "source": [
    "**Task 6: Extracting a Substring**\n",
    "* Given the string `sentence = \"The quick brown fox jumps over the lazy dog.\"`, use slicing to extract the word \"brown\".\n",
    "* *Hint: You will need to find the start and stop indices first.*"
   ]
  },
  {
   "cell_type": "code",
   "execution_count": null,
   "metadata": {},
   "outputs": [],
   "source": [
    "# Your code here"
   ]
  },
  {
   "cell_type": "markdown",
   "metadata": {},
   "source": [
    "**Task 7: Middle Elements**\n",
    "* Create a list of 10 items.\n",
    "* Use slicing to create a new list that excludes the first two and the last two items, giving you only the \"middle\" part of the list."
   ]
  },
  {
   "cell_type": "code",
   "execution_count": null,
   "metadata": {},
   "outputs": [],
   "source": [
    "# Your code here"
   ]
  },
  {
   "cell_type": "markdown",
   "metadata": {},
   "source": [
    "**Task 8: Reverse and Skip**\n",
    "* Using your list of numbers from 0 to 10, use slicing to reverse the list *and* get every other element from the reversed version (e.g., 10, 8, 6, ...)."
   ]
  },
  {
   "cell_type": "code",
   "execution_count": null,
   "metadata": {},
   "outputs": [],
   "source": [
    "# Your code here"
   ]
  },
  {
   "cell_type": "markdown",
   "metadata": {},
   "source": [
    "**Task 9: Slicing to Copy**\n",
    "* You've used `.copy()` before. An empty slice `[:]` does the same thing!\n",
    "* Create a list `original = [1, 2, 3]`.\n",
    "* Create a copy: `duplicate = original[:]`.\n",
    "* Modify the `duplicate` (e.g., append 4).\n",
    "* Print both lists to prove that the `original` was not changed."
   ]
  },
  {
   "cell_type": "code",
   "execution_count": null,
   "metadata": {},
   "outputs": [],
   "source": [
    "# Your code here"
   ]
  },
  {
   "cell_type": "markdown",
   "metadata": {},
   "source": [
    "**Task 10: Palindrome Checker**\n",
    "* A palindrome is a word that reads the same forwards and backward.\n",
    "* Write a function `is_palindrome(word)`.\n",
    "* Inside, compare the `word` with its reversed version, which you can get from slicing (`word[::-1]` superstars).\n",
    "* Return `True` if they are the same, `False` otherwise.\n",
    "* Test it with \"racecar\" and \"hello\"."
   ]
  },
  {
   "cell_type": "code",
   "execution_count": null,
   "metadata": {},
   "outputs": [],
   "source": [
    "# Your code here"
   ]
  },
  {
   "cell_type": "markdown",
   "metadata": {},
   "source": [
    "### Section 5: Advanced String Manipulation\n",
    "\n",
    "**Goal:** Become proficient with common and powerful string methods like `.strip()`, `.split()`, `.join()`, and `.replace()`."
   ]
  },
  {
   "cell_type": "markdown",
   "metadata": {},
   "source": [
    "**Task 1: Cleaning User Input**\n",
    "* Create a string with extra whitespace on both ends, e.g., `raw_input = \"   Hello World   \"`.\n",
    "* Use the `.strip()` method to clean it and print the result."
   ]
  },
  {
   "cell_type": "code",
   "execution_count": null,
   "metadata": {},
   "outputs": [],
   "source": [
    "# Your code here"
   ]
  },
  {
   "cell_type": "markdown",
   "metadata": {},
   "source": [
    "**Task 2: Splitting a Sentence**\n",
    "* Take the sentence: `data = \"name,age,city\"`.\n",
    "* Use the `.split(',')` method to turn this into a list of strings. Print the list."
   ]
  },
  {
   "cell_type": "code",
   "execution_count": null,
   "metadata": {},
   "outputs": [],
   "source": [
    "# Your code here"
   ]
  },
  {
   "cell_type": "markdown",
   "metadata": {},
   "source": [
    "**Task 3: Joining a List**\n",
    "* Create a list of words: `words = [\"Python\", \"is\", \"fun\"]`.\n",
    "* Use the `.join()` method to combine them into a single string, with spaces in between. The syntax is ` \" \".join(words) `.\n",
    "* Print the resulting sentence."
   ]
  },
  {
   "cell_type": "code",
   "execution_count": null,
   "metadata": {},
   "outputs": [],
   "source": [
    "# Your code here"
   ]
  },
  {
   "cell_type": "markdown",
   "metadata": {},
   "source": [
    "**Task 4: Find and Replace**\n",
    "* Create a string `story = \"I love cats. Cats are the best pets.\"`.\n",
    "* Use the `.replace()` method to change all instances of \"cats\" to \"dogs\".\n",
    "* Print the new story."
   ]
  },
  {
   "cell_type": "code",
   "execution_count": null,
   "metadata": {},
   "outputs": [],
   "source": [
    "# Your code here"
   ]
  },
  {
   "cell_type": "markdown",
   "metadata": {},
   "source": [
    "**Task 5: Case Checking**\n",
    "* Write a small script that takes a user's `input`.\n",
    "* Use `.isupper()` and `.islower()` in an `if/elif/else` structure to print whether the input is in all uppercase, all lowercase, or mixed case."
   ]
  },
  {
   "cell_type": "code",
   "execution_count": null,
   "metadata": {},
   "outputs": [],
   "source": [
    "# Your code here"
   ]
  },
  {
   "cell_type": "markdown",
   "metadata": {},
   "source": [
    "**Task 6: CSV Parser**\n",
    "* You are given a string of comma-separated values: `csv_line = \"  John Doe  , 35 , New York\"`.\n",
    "* First, `.strip()` the whole string to remove leading/trailing whitespace.\n",
    "* Then, `.split(',')` it into a list.\n",
    "* Now, loop through the resulting list and apply `.strip()` to *each item* to clean up the spaces around the commas.\n",
    "* Store the clean data in a new list and print it."
   ]
  },
  {
   "cell_type": "code",
   "execution_count": null,
   "metadata": {},
   "outputs": [],
   "source": [
    "# Your code here"
   ]
  },
  {
   "cell_type": "markdown",
   "metadata": {},
   "source": [
    "**Task 7: Creating a URL Slug**\n",
    "* A \"slug\" is the part of a URL that identifies a page, usually in lowercase with dashes instead of spaces.\n",
    "* Start with a title: `blog_title = \"My First Day Learning Python\"`.\n",
    "* First, convert the title to lowercase using `.lower()`.\n",
    "* Then, replace all spaces with dashes using `.replace(' ', '-')`.\n",
    "* Print the final slug."
   ]
  },
  {
   "cell_type": "code",
   "execution_count": null,
   "metadata": {},
   "outputs": [],
   "source": [
    "# Your code here"
   ]
  },
  {
   "cell_type": "markdown",
   "metadata": {},
   "source": [
    "**Task 8: Checking for a Substring**\n",
    "* Use the `in` keyword to check if the substring \"world\" is present in the string \"Hello, world!\".\n",
    "* To make it case-insensitive, convert the main string to lowercase first before checking: ` \"world\" in \"Hello, World!\".lower() `.\n",
    "* Print the boolean result."
   ]
  },
  {
   "cell_type": "code",
   "execution_count": null,
   "metadata": {},
   "outputs": [],
   "source": [
    "# Your code here"
   ]
  },
  {
   "cell_type": "markdown",
   "metadata": {},
   "source": [
    "**Task 9: Starts With / Ends With**\n",
    "* Write a program that checks if a filename string ends with \".txt\".\n",
    "* Use the `.endswith('.txt')` method.\n",
    "* Test it with `report.txt` and `image.jpg`.\n",
    "* Also, try using `.startswith()` to check if a URL string begins with `\"http://\"`."
   ]
  },
  {
   "cell_type": "code",
   "execution_count": null,
   "metadata": {},
   "outputs": [],
   "source": [
    "# Your code here"
   ]
  },
  {
   "cell_type": "markdown",
   "metadata": {},
   "source": [
    "**Task 10: Chain Them All Together!**\n",
    "* You have a list of messy data: `data_list = [\"  ITEM1  \", \"item2  \", \"  item3\"]`.\n",
    "* Your goal is to get a single, clean, comma-separated string in all caps: `\"ITEM1,ITEM2,ITEM3\"`.\n",
    "* You will need to:\n",
    "    1.  Loop through the list.\n",
    "    2.  In the loop, for each item, `.strip()` it and then convert it to uppercase with `.upper()`.\n",
    "    3.  Add the cleaned item to a new list.\n",
    "    4.  After the loop, `.join()` the new list with a comma.\n",
    "* Try to do this in a single, elegant line using a list comprehension (advanced) or a clear multi-line loop."
   ]
  },
  {
   "cell_type": "code",
   "execution_count": null,
   "metadata": {},
   "outputs": [],
   "source": [
    "# Your code here"
   ]
  }
 ],
 "metadata": {
  "kernelspec": {
   "display_name": "Python 3",
   "language": "python",
   "name": "python3"
  },
  "language_info": {
   "codemirror_mode": {
    "name": "ipython",
    "version": 3
   },
   "file_extension": ".py",
   "mimetype": "text/x-python",
   "name": "python",
   "nbconvert_exporter": "python",
   "pygments_lexer": "ipython3",
   "version": "3.10.9"
  }
 },
 "nbformat": 4,
 "nbformat_minor": 4
}
