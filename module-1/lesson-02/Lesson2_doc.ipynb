{
 "cells": [
  {
   "cell_type": "markdown",
   "id": "9102949e-c1ba-49fb-99d0-515c2149a898",
   "metadata": {},
   "source": [
    "## Functions, Error Handling \n",
    "## Data Mutability, Slicing \n",
    "## String Manipulation\n",
    "\n",
    "In this lesson, we will introduce a new concept in Python – functions – and discover how they simplify the lives of programmers.\n",
    "\n",
    "After learning about functions, you will see how all subsequent work becomes easier and more structured.\n",
    "\n",
    "\n",
    "Then, we will delve a little deeper into the data structures we studied in the last lesson. \n",
    "\n",
    "This knowledge is incredibly helpful, as many frustrating errors in practice are caused by a lack of understanding of certain details. \n",
    "\n",
    "Specifically, we will learn about list slicing, the reference data model, mutable and immutable data types, and finally, apply this knowledge to advanced string manipulation."
   ]
  },
  {
   "cell_type": "markdown",
   "id": "3591cb4a-eccf-4dd0-917a-e753d0977c30",
   "metadata": {
    "tags": []
   },
   "source": [
    "## Functions\n",
    "### Why Do We Need Functions?\n",
    "Functions in Python serve a similar purpose to verbal instructions.\n",
    "When we say, 'Grab the shopping list from the table and go to the store,' a person immediately understands the set of actions to be performed:\n",
    "1. Take the piece of paper from the table and put it in your pocket (the list would be an argument to the function).\n",
    "2. Go to the store.\n",
    "3. For each item on the list, find it in the store and put it in the basket.\n",
    "4. Go to the checkout and pay.\n",
    "5. Return home.\n",
    "6. Hand over the groceries (the groceries would be the _return value_ of the function).\n",
    "\n",
    "You don't have to explain how to go to the store every single time. It's enough to explain it once (usually around the age of 6-7) how to shop at a store.\n",
    "\n",
    "Saving a set of actions under a single name can be a great help in development:\n",
    "1. It reduces the number of lines of code. Once you've explained how to go to the store, you don't need to waste words on it again.\n",
    "2. It breaks down the code into logical blocks, each of which clearly states what it does. If we see a description in the text on \"how to go to the store,\" we can skip it if we already know how to, or read only that part if we want to understand it. The main thing is that we don't have to read the entire text with all the other commands and try to understand everything at once.\n",
    "\n",
    "Let's look at a simple example:"
   ]
  },
  {
   "cell_type": "code",
   "execution_count": 49,
   "id": "c863aa04-ea61-40bd-bf43-872acf0a6db2",
   "metadata": {
    "ExecuteTime": {
     "end_time": "2021-12-20T17:02:50.736832Z",
     "start_time": "2021-12-20T17:02:31.209509Z"
    }
   },
   "outputs": [
    {
     "name": "stdout",
     "output_type": "stream",
     "text": [
      "Hello, Eldan\n"
     ]
    }
   ],
   "source": [
    "def say_hello(name):\n",
    "    print(f'Hello, {name}')\n",
    "    #print(\"Hello, \", name)\n",
    "\n",
    "user_name = input('Please enter your name:')  # You can pass a string to input() - Python will display it when asking for input\n",
    "say_hello(user_name)"
   ]
  },
  {
   "cell_type": "markdown",
   "id": "686a99ea-83cc-46b9-abc4-8964e613bb86",
   "metadata": {
    "tags": []
   },
   "source": [
    "In the function, we asked it to perform exactly one action: `print Hello, {name}` with the value of the name variable substituted (we used f-strings for substitution, which we discussed in the first lecture).\n",
    "\n",
    "Important point: we haven't declared the name variable anywhere before, yet we are already using it in the function's code. \n",
    "We'll figure out why this is possible a little later, but for now, let's just take note of it.\n",
    "\n",
    "### How to Work with Functions\n",
    "The life of a function consists of two stages: declaration and calling.\n",
    "The declaration of a function is the description of the function's name, all its input values, all the actions it performs, and the value it returns (missing in the example, will be covered below).\n",
    "\n",
    "A function is declared using the def keyword. Its syntax is as follows:\n",
    "```python\n",
    "def function_name(argument_1, argument_2, ...):\n",
    "    action_1\n",
    "    action_2\n",
    "    ...\n",
    "    return value_to_return\n",
    "```"
   ]
  },
  {
   "cell_type": "code",
   "execution_count": null,
   "id": "e531dc3b-352d-4089-ac04-b454ec8f1a67",
   "metadata": {
    "ExecuteTime": {
     "end_time": "2021-12-20T17:08:46.680520Z",
     "start_time": "2021-12-20T17:08:46.674922Z"
    }
   },
   "outputs": [
    {
     "name": "stdout",
     "output_type": "stream",
     "text": [
      "True\n",
      "False\n"
     ]
    }
   ],
   "source": [
    "# Let's teach Python to determine if a number is even or not\n",
    "def is_even(number):  # we declare it using the syntax above. Note the colon at the end - it's mandatory\n",
    "    # All commands inside the function are indented - just like in loops.\n",
    "    # This is not surprising, since the commands that the function executes\n",
    "    # form a block - exactly the same kind of block that we saw in loops and if statements\n",
    "    if number % 2 == 0:\n",
    "        return True\n",
    "    else:\n",
    "        return False\n",
    "\n",
    "\n",
    "print(is_even(2))  # we call the function, passing one argument, 2\n",
    "print(is_even(9))"
   ]
  },
  {
   "cell_type": "code",
   "execution_count": 54,
   "id": "85bbedad",
   "metadata": {},
   "outputs": [
    {
     "name": "stdout",
     "output_type": "stream",
     "text": [
      "True\n",
      "False\n",
      "False\n"
     ]
    }
   ],
   "source": [
    "def is_even_both(number1, number2):  # we declare it using the syntax above. Note the colon at the end - it's mandatory\n",
    "    # All commands inside the function are indented - just like in loops.\n",
    "    # This is not surprising, since the commands that the function executes\n",
    "    # form a block - exactly the same kind of block that we saw in loops and if statements\n",
    "    if number1 % 2 == 0 and number2 % 2 == 0:\n",
    "        return True\n",
    "    else:\n",
    "        return False\n",
    "\n",
    "\n",
    "print(is_even_both(2, 4))  # we call the function, passing one argument, 2\n",
    "print(is_even_both(2, 3))\n",
    "print(is_even_both(9, 10))"
   ]
  },
  {
   "cell_type": "markdown",
   "id": "ec23b480-46da-47f0-9038-1b9be1d6e324",
   "metadata": {},
   "source": [
    "So why does the function `see` the variable under a different name?\n",
    "\n",
    "The thing is, when a function is called, arguments are passed to it, which will be visible as variables inside the function.\n",
    "In the example above, the is_even function takes one argument number (we specified this name during the function's declaration) and now, inside is_even (and only there!), you can write code assuming the number variable is defined.\n",
    "When we then call the function, the number 2 will be passed as the first argument - and then the function will `see` the number 2 as a variable named number.\n",
    "\n",
    "By the way, we've been calling the print() function using similar rules :)"
   ]
  },
  {
   "cell_type": "markdown",
   "id": "0a8c4692-915e-47e2-98f7-a37bda50acb3",
   "metadata": {
    "tags": []
   },
   "source": [
    "### How Functions Differ from Loops\n",
    "At first glance, it might seem that loops already exist for a set of repeating operations.\n",
    "But functions are about something slightly different: instead of repeating a set of operations immediately, they 'save' this set under a certain name, so that you can then execute the entire set by that name. In the store example, we would save all 6 operations under the name 'go to the store' and then periodically call this set with the phrase 'go to the store.'"
   ]
  },
  {
   "cell_type": "code",
   "execution_count": 3,
   "id": "82c2a65a-bfb4-4b0c-8800-18b11ff3dd4b",
   "metadata": {
    "ExecuteTime": {
     "end_time": "2021-12-20T17:20:13.890573Z",
     "start_time": "2021-12-20T17:20:13.885975Z"
    }
   },
   "outputs": [],
   "source": [
    "# Let's try to calculate the profit on a deposit, as we did in the first lesson, but using functions\n",
    "\n",
    "def calculate_balance_after_a_year(initial_sum, interest_rate):\n",
    "    \"\"\"\n",
    "    You can write comments for a function using triple quotes (single or double - it doesn't matter, but double are recommended),\n",
    "    which can then be used to generate documentation with third-party tools.\n",
    "    We'll talk more about documentation later, but for now, let's remember that it's best to write what the function does here.\n",
    "    \n",
    "    Calculates the balance after 1 year\n",
    "    \"\"\"\n",
    "    return initial_sum * (100 + interest_rate) / 100\n",
    "\n",
    "\n",
    "def calculate_full_profit(initial_sum, interest_rate, years):\n",
    "    \"\"\"Calculates the balance after a specified number of years\"\"\"\n",
    "    final_sum = initial_sum\n",
    "    for i in range(years):\n",
    "        final_sum = calculate_balance_after_a_year(final_sum, interest_rate)\n",
    "    return final_sum - initial_sum"
   ]
  },
  {
   "cell_type": "code",
   "execution_count": 4,
   "id": "854687dc-f1a9-45af-88f2-55d29ba2591d",
   "metadata": {
    "ExecuteTime": {
     "end_time": "2021-12-20T17:20:17.936897Z",
     "start_time": "2021-12-20T17:20:17.922393Z"
    }
   },
   "outputs": [
    {
     "data": {
      "text/plain": [
       "102.5"
      ]
     },
     "execution_count": 4,
     "metadata": {},
     "output_type": "execute_result"
    }
   ],
   "source": [
    "calculate_full_profit(1000, 5, 2)"
   ]
  },
  {
   "cell_type": "markdown",
   "id": "095f02e5-8985-4370-91b3-966dbb811448",
   "metadata": {},
   "source": [
    "### Default Arguments\n",
    "In the balance example above, we declared that the calculate_full_profit function takes three arguments.\n",
    "But this also became a burden: now this function must be called with exactly three arguments.\n",
    "\n",
    "See for yourself, we'll get an error now:"
   ]
  },
  {
   "cell_type": "code",
   "execution_count": 5,
   "id": "73cbc59e-4200-4e44-ae30-ca543210b0f5",
   "metadata": {
    "ExecuteTime": {
     "end_time": "2021-12-20T17:24:16.999041Z",
     "start_time": "2021-12-20T17:24:16.991903Z"
    }
   },
   "outputs": [
    {
     "ename": "TypeError",
     "evalue": "calculate_full_profit() missing 1 required positional argument: 'years'",
     "output_type": "error",
     "traceback": [
      "\u001b[0;31m---------------------------------------------------------------------------\u001b[0m",
      "\u001b[0;31mTypeError\u001b[0m                                 Traceback (most recent call last)",
      "Cell \u001b[0;32mIn[5], line 1\u001b[0m\n\u001b[0;32m----> 1\u001b[0m calculate_full_profit(\u001b[38;5;241m1000\u001b[39m, \u001b[38;5;241m5\u001b[39m)\n",
      "\u001b[0;31mTypeError\u001b[0m: calculate_full_profit() missing 1 required positional argument: 'years'"
     ]
    }
   ],
   "source": [
    "calculate_full_profit(1000, 5)"
   ]
  },
  {
   "cell_type": "markdown",
   "id": "542df40d-2d0e-42b1-8634-3a5eb79180ff",
   "metadata": {},
   "source": [
    "Don't be scared of the red color, it's not that bad! You've just seen your first error (or exception, as they might be called in other programming languages).\n",
    "\n",
    "The error usually states its name (in this case, TypeError in the last line, highlighted in red), followed by a colon and the error message, which should help you understand what went wrong. In our case, it's calculate_full_profit() missing 1 required positional argument: 'years' - the calculate_full_profit function is missing one argument, years (we passed 2 arguments, but 3 are expected).\n",
    "\n",
    "You'll have to get used to errors; you'll encounter them frequently in the beginning :)\n",
    "Don't be afraid to read the error messages, they often contain clues on how to fix them! Usually, the most informative part is at the end of the error message, so it's best to start from there.\n",
    "\n",
    "But what if we want to call calculate_full_profit with two arguments? We can set a default value. For example, if years is not specified, let's assume it's 1 year."
   ]
  },
  {
   "cell_type": "code",
   "execution_count": 6,
   "id": "c11df1d2-615c-49c9-9c1f-0ab4b40e9652",
   "metadata": {
    "ExecuteTime": {
     "end_time": "2021-12-20T17:24:54.703521Z",
     "start_time": "2021-12-20T17:24:54.699920Z"
    }
   },
   "outputs": [],
   "source": [
    "# Look at years=1 - this is the only change\n",
    "def calculate_full_profit(initial_sum, interest_rate, years=1):\n",
    "    'Calculates the balance after a specified number of years'\n",
    "    final_sum = initial_sum\n",
    "    for i in range(years):\n",
    "        final_sum = calculate_balance_after_a_year(final_sum, interest_rate)\n",
    "    return final_sum - initial_sum"
   ]
  },
  {
   "cell_type": "code",
   "execution_count": 7,
   "id": "507c1d52-aaef-4e59-a9b5-dd48aadecb6d",
   "metadata": {
    "ExecuteTime": {
     "end_time": "2021-12-20T17:25:13.602790Z",
     "start_time": "2021-12-20T17:25:13.598114Z"
    }
   },
   "outputs": [
    {
     "data": {
      "text/plain": [
       "50.0"
      ]
     },
     "execution_count": 7,
     "metadata": {},
     "output_type": "execute_result"
    }
   ],
   "source": [
    "calculate_full_profit(1000, 5)"
   ]
  },
  {
   "cell_type": "markdown",
   "id": "4a6dbf15-085c-411a-aff6-cd9cf219c657",
   "metadata": {},
   "source": [
    "You can set default values for all arguments. \n",
    "\n",
    "But keep in mind that if you start assigning default values to a variable, you will have to do it for all subsequent variables (this is a feature of Python)."
   ]
  },
  {
   "cell_type": "code",
   "execution_count": null,
   "id": "a3a36018-1cec-4822-9ae1-0c19b405f522",
   "metadata": {
    "ExecuteTime": {
     "end_time": "2021-12-20T17:27:47.937218Z",
     "start_time": "2021-12-20T17:27:47.932978Z"
    }
   },
   "outputs": [
    {
     "name": "stdout",
     "output_type": "stream",
     "text": [
      "Hello mr/ms, John Doe\n",
      "Hello mr/ms, Jane Smith\n"
     ]
    }
   ],
   "source": [
    "def formal_greeting(first_name='John', last_name='Doe'):\n",
    "    print(f'Hello mr/ms, {first_name} {last_name}')\n",
    "\n",
    "\n",
    "# Triple quotes denote a multi-line comment - they can be used for more than just function documentation\n",
    "# This way you can isolate \"dangerous\" code\n",
    "# Try removing the triple quotes and see how an error occurs.\n",
    "# Don't forget to put the quotes back :)\n",
    "\"\"\"\n",
    "# The code below doesn't work because last_name must have a default value since first_name before it already has one\n",
    "# It will raise a \"non-default argument follows default argument\" error\n",
    "def formal_greeting(first_name=\"John\", last_name):\n",
    "    print(\"This code does not work\")\n",
    "\"\"\"\n",
    "\n",
    "formal_greeting()\n",
    "formal_greeting(\"Jane\", \"Smith\")"
   ]
  },
  {
   "cell_type": "markdown",
   "id": "7f5b4e2a",
   "metadata": {},
   "source": [
    "### Nested Calls and the Call Stack\n",
    "One function can call another function during its execution.\n",
    "\n",
    "In this case, the execution of the `outer` function will be paused, Python will remember its state and go on to execute the `inner` function.\n",
    "\n",
    "When the inner function finishes executing, Python will return to the `outer` function and continue its execution from where it left off."
   ]
  },
  {
   "cell_type": "code",
   "execution_count": 9,
   "id": "5fcf020a",
   "metadata": {
    "ExecuteTime": {
     "end_time": "2021-12-20T17:34:58.959065Z",
     "start_time": "2021-12-20T17:34:58.954488Z"
    }
   },
   "outputs": [
    {
     "name": "stdout",
     "output_type": "stream",
     "text": [
      "22\n",
      "entering inner function\n",
      "calculating a\n",
      "returning a\n",
      "printing k\n",
      "121 22\n"
     ]
    }
   ],
   "source": [
    "def inner_func(m):\n",
    "    print('calculating a')\n",
    "    a = m // 2\n",
    "    a = a * a\n",
    "    print('returning a')\n",
    "    return a\n",
    "\n",
    "def outer_func(num):\n",
    "    num += 2\n",
    "    print(num)\n",
    "    print('entering inner function')\n",
    "    k = inner_func(num)\n",
    "    print('printing k')\n",
    "    print(k, num)\n",
    "    \n",
    "outer_func(20)\n",
    "# call stack"
   ]
  },
  {
   "cell_type": "markdown",
   "id": "05bc6968-f1bb-40a0-9118-6e2d00b80554",
   "metadata": {},
   "source": [
    "## Errors: How to Befriend Them\n",
    "We have already encountered errors, but so far we only know how to read them.\n",
    "It's important to be able to handle errors when it comes to building reliable programs - every case must be considered and the program should not crash with unhandled errors.\n",
    "\n",
    "In principle, exceptions in Python are not `errors` in the usual sense. They are more like exceptional situations - when a program doesn't know what to do in a given situation, it raises an exception and terminates its execution to avoid harming the system with further commands. Hence the name exception.\n",
    "\n",
    "So how do you work with errors in Python?\n",
    "\n",
    "### Basic Syntax\n",
    "Errors can and should be handled. For this, Python has the try/except construct:"
   ]
  },
  {
   "cell_type": "code",
   "execution_count": 10,
   "id": "7b85b5bf-e76b-45ab-9754-494b9cfa0f8d",
   "metadata": {
    "ExecuteTime": {
     "end_time": "2021-12-20T17:46:34.372047Z",
     "start_time": "2021-12-20T17:46:34.368760Z"
    }
   },
   "outputs": [
    {
     "name": "stdout",
     "output_type": "stream",
     "text": [
      "Attempted to divide by zero, I caught the error and didn't let it proceed\n",
      "Writing a line after the dangerous code, because the program didnt crash\n"
     ]
    }
   ],
   "source": [
    "try:  # colon at the end is mandatory\n",
    "    1 / 0  # indent the 'dangerous' commands\n",
    "except ZeroDivisionError:  # after except, write the name of the error. There are many built-in errors, you need to look them up in the documentation\n",
    "    print(\"Attempted to divide by zero, I caught the error and didn't let it proceed\")\n",
    "    \n",
    "print('Writing a line after the dangerous code, because the program didnt crash')"
   ]
  },
  {
   "cell_type": "markdown",
   "id": "9d6a6d6d-e83f-4052-984b-a077ae661a3d",
   "metadata": {},
   "source": [
    "Notice: again, blocks denoted by indentation. Why blocks? Let's take it step by step.\n",
    "\n",
    "`try` defines a block of 'dangerous' operations - those that can raise an error.\n",
    "\n",
    "Then comes `except` (you can't skip it), which specifies the name of the error it will 'catch' and then a block of operations begins that will be executed when exactly that same error is caught. In the example, the except block catches the ZeroDivisionError and only that one.\n",
    "\n",
    "A list of built-in Python error names can be found in the documentation.\n",
    "\n",
    "### Handling Multiple Errors\n",
    "As you can see, except catches one error. What if multiple errors can be raised? \n",
    "\n",
    "Declare multiple except blocks:"
   ]
  },
  {
   "cell_type": "code",
   "execution_count": 11,
   "id": "b679011d-eb39-42e8-b46e-346d76d3e405",
   "metadata": {
    "ExecuteTime": {
     "end_time": "2021-12-20T17:52:07.109635Z",
     "start_time": "2021-12-20T17:52:07.105394Z"
    }
   },
   "outputs": [
    {
     "name": "stdout",
     "output_type": "stream",
     "text": [
      "such an element does not exist\n"
     ]
    }
   ],
   "source": [
    "my_list = [1, 0, 3]  # an empty list has no my_list[2], my_list[1], my_list[0] - none of them\n",
    "# In try/except, the first error that is raised is caught. Uncomment the example below\n",
    "# my_list = [0, 1]  # here everything is ok with the second print, but my_list[2] doesn't exist, so we'll get an IndexError\n",
    "# And here it's not ok with ZeroDivisionError, so the first print will pass, but the second will not\n",
    "# my_list = [1, 0, 1]\n",
    "try:\n",
    "    # If the element doesn't exist, an error will be raised\n",
    "    # the error is called IndexError, it's very common in practice\n",
    "    print(my_list[10])\n",
    "    print(my_list[0] / my_list[1])\n",
    "except IndexError:\n",
    "    print('such an element does not exist')\n",
    "except ZeroDivisionError:\n",
    "    print('Somewhere is dividing by 0')"
   ]
  },
  {
   "cell_type": "markdown",
   "id": "466e90a3-2928-43c8-b46c-616f432a4e8f",
   "metadata": {
    "tags": []
   },
   "source": [
    "As you can see, if you put a lot of code in a try block, some of it may pass and some may not - and it will be unclear where exactly what failed.\n",
    "Therefore, it is recommended to wrap the minimum amount of code in try/except - only the code that can actually fail.\n",
    "\n",
    "\n",
    "### The Lazy Option (Not Recommended)\n",
    "In except, you can omit specifying the error. \n",
    "\n",
    "But doing so is highly discouraged, because it can lead to very non-obvious errors later in the program. \n",
    "If an error occurs that you did not expect during development, it will simply be 'swallowed' by such an except construct and the program will continue to execute as if nothing happened - even if the error is critical and further execution could cause harm to hardware, people, private information, etc."
   ]
  },
  {
   "cell_type": "code",
   "execution_count": null,
   "id": "21f2bb88-2e01-4d7c-bb81-b2a91ee07593",
   "metadata": {
    "ExecuteTime": {
     "end_time": "2021-12-20T17:55:14.242469Z",
     "start_time": "2021-12-20T17:55:14.239607Z"
    }
   },
   "outputs": [
    {
     "name": "stdout",
     "output_type": "stream",
     "text": [
      "Some error occurred\n"
     ]
    }
   ],
   "source": [
    "try:\n",
    "    1 / 0\n",
    "except:  # you shouldn't do this, you should always specify the error you are catching\n",
    "    print('Some error occurred')"
   ]
  },
  {
   "cell_type": "markdown",
   "id": "7e6d0246-c0af-4ebb-87fe-5c526f7422de",
   "metadata": {},
   "source": [
    "Error handling can be combined with functions, loops, and other blocks."
   ]
  },
  {
   "cell_type": "code",
   "execution_count": 13,
   "id": "70adc16f-dbcf-45b1-9e67-b30df10683f1",
   "metadata": {
    "ExecuteTime": {
     "end_time": "2021-12-20T17:59:04.928888Z",
     "start_time": "2021-12-20T17:59:04.924622Z"
    }
   },
   "outputs": [
    {
     "name": "stdout",
     "output_type": "stream",
     "text": [
      "Correct call: returned 2\n",
      "### Element not found, printing all values to investigate the reasons: ###\n",
      "### 1 ###\n",
      "Incorrect call: returned None\n"
     ]
    }
   ],
   "source": [
    "def get_second_element(array):\n",
    "    try:\n",
    "        return array[1]\n",
    "    except IndexError:\n",
    "        print('### Element not found, printing all values to investigate the reasons: ###')\n",
    "        for elem in array:\n",
    "            print(f'### {elem} ###')\n",
    "        return None\n",
    "    \n",
    "print(f'Correct call: returned {get_second_element([1, 2, 3])}')\n",
    "print(f'Incorrect call: returned {get_second_element([1])}')\n",
    "# First, the print from inside the function, then from the outside - because we have to calculate get_second_element([1]) before passing it to print()"
   ]
  },
  {
   "cell_type": "code",
   "execution_count": null,
   "id": "2347b6dd",
   "metadata": {},
   "outputs": [],
   "source": []
  },
  {
   "cell_type": "markdown",
   "id": "e3e3c866-2fba-44c8-ac5a-6119ced96ec0",
   "metadata": {},
   "source": [
    "## Reference Data Model\n",
    "Alright, functions can take values from other variables as input and perform some operations on them.\n",
    "\n",
    "Suppose we edit a variable inside a function. What will happen to our changes `outside` the function?\n",
    "\n",
    "It's very easy to make mistakes due to a lack of knowledge in this area in the initial stages. \n",
    "\n",
    "Let's look at some examples.\n",
    "\n",
    "### Example of Modifying a Variable Inside a Function\n",
    "A practical example: in the bank where we work, a client can set a monthly spending limit. \n",
    "\n",
    "Let's say we have a list of expenses already incurred for the month. \n",
    "\n",
    "We'll set up a check for each of the client's purchases: at the time of purchase, we'll mentally add its amount to the list of expenses, calculate the sum, and compare it with the limit. If it's less, we give the green light; otherwise, we decline it.\n",
    "\n",
    "Let's emphasize: the purchase has not yet been made, this is just an estimate."
   ]
  },
  {
   "cell_type": "code",
   "execution_count": 14,
   "id": "d024c205-b96e-4ea2-a739-c0d336f3ed45",
   "metadata": {
    "ExecuteTime": {
     "end_time": "2021-12-20T18:04:49.971274Z",
     "start_time": "2021-12-20T18:04:49.966868Z"
    }
   },
   "outputs": [
    {
     "name": "stdout",
     "output_type": "stream",
     "text": [
      "True\n",
      "False\n"
     ]
    }
   ],
   "source": [
    "def can_purchase(amount, history, limit):\n",
    "    # Add the purchase to the history\n",
    "    history.append(amount)\n",
    "    # Then sum all the elements in the history, compare with the limit and return True or False\n",
    "    return sum(history) <= limit\n",
    "\n",
    "\n",
    "# It seems that both functions are the same. But is that so?\n",
    "limit = 100\n",
    "history = [50, 40]\n",
    "\n",
    "# Two purchase requests come in parallel (neither has been made yet)\n",
    "# Should give the green light for the purchase, because 90 + 4 <= 100\n",
    "print(can_purchase(4, history, limit))\n",
    "# Should also give the green light, because 90 + 7 <= 100\n",
    "print(can_purchase(7, history, limit))"
   ]
  },
  {
   "cell_type": "markdown",
   "id": "06e1214a-ab96-4875-8106-8de7d0388f52",
   "metadata": {},
   "source": [
    "The second call returned False, that's not right.\n",
    "If you look closely, you can see that 90 + 4 + 7 is already greater than 100 - the error might be in that.\n",
    "\n",
    "Let's print the list:"
   ]
  },
  {
   "cell_type": "code",
   "execution_count": 16,
   "id": "c8a4f9e1-bee1-43a4-839e-8d85da4013f2",
   "metadata": {
    "ExecuteTime": {
     "end_time": "2021-12-20T18:07:55.053649Z",
     "start_time": "2021-12-20T18:07:55.048286Z"
    }
   },
   "outputs": [
    {
     "name": "stdout",
     "output_type": "stream",
     "text": [
      "[50, 40, 4]\n",
      "True\n",
      "[50, 40, 4, 7]\n",
      "False\n"
     ]
    }
   ],
   "source": [
    "def can_purchase(amount, history, limit, do_print=False):\n",
    "    history.append(amount)\n",
    "    if do_print:\n",
    "        print(history)\n",
    "    return sum(history) <= limit\n",
    "\n",
    "\n",
    "limit = 100\n",
    "client_history = [50, 40]\n",
    "\n",
    "print(can_purchase(4, client_history, limit, do_print=True))  # Arguments can be passed by name: we explicitly say that do_print will be equal to True\n",
    "print(can_purchase(7, client_history, limit, do_print=True))"
   ]
  },
  {
   "cell_type": "code",
   "execution_count": null,
   "id": "20587ca6",
   "metadata": {},
   "outputs": [],
   "source": []
  },
  {
   "cell_type": "markdown",
   "id": "92d7ee41-01ea-4da8-a0dd-a126c0004565",
   "metadata": {},
   "source": [
    "Our guess was confirmed: in the second function call, the list contained the purchase from the first.\n",
    "\n",
    "Hmm, what if we write it like this?"
   ]
  },
  {
   "cell_type": "code",
   "execution_count": 17,
   "id": "3c684cf0-4cef-4de9-851b-8fd481458e5d",
   "metadata": {
    "ExecuteTime": {
     "end_time": "2021-12-20T18:08:51.838987Z",
     "start_time": "2021-12-20T18:08:51.833854Z"
    }
   },
   "outputs": [
    {
     "name": "stdout",
     "output_type": "stream",
     "text": [
      "[50, 40, 4]\n",
      "True\n",
      "[50, 40, 7]\n",
      "True\n"
     ]
    }
   ],
   "source": [
    "def can_purchase(amount, history, limit, do_print=False):\n",
    "    local_copy = history.copy()  # work with a copy of history\n",
    "    local_copy.append(amount)\n",
    "    if do_print:\n",
    "        print(local_copy)\n",
    "    return sum(local_copy) <= limit\n",
    "\n",
    "\n",
    "limit = 100\n",
    "client_history = [50, 40]\n",
    "\n",
    "print(can_purchase(4, client_history, limit, do_print=True))\n",
    "print(can_purchase(7, client_history, limit, do_print=True))"
   ]
  },
  {
   "attachments": {},
   "cell_type": "markdown",
   "id": "4bb34716-a059-41b0-ad93-6c5b17fc5027",
   "metadata": {},
   "source": [
    "Everything is fine now! How did using .copy() help?\n",
    "\n",
    "\n",
    "### Memory Model in Python\n",
    "We'll have to refer a bit to the memory model in Python. Let's start with the fact that a computer's memory is linear - this means that the data in it lies as a long continuous list of zeros and ones. No two-dimensional matrices.\n",
    "But we already know that a variable allows us to assign a certain object to a specific name, without thinking about the structure of memory.\n",
    "So, we assigned the list [50, 40] to history. We can add elements to it, delete them - and not think about the linearity of memory and its internal structure. How is this magic achieved?\n",
    "\n",
    "In Python, to achieve this convenience, the assignment operator works in two stages (in a simplified way):\n",
    "1. A large space is reserved somewhere in the computer's memory for a list, and the list [50, 40] is created in it.\n",
    "2. Somewhere else in the computer's memory, a small space is reserved for the variable name, and two values are placed in it: the variable name and the memory address where its actual value should be located. The actual address of the list created in step 1 is placed in the memory address.\n",
    "\n",
    "As a result, our history variable is not a list itself - it is a reference to a list. \n",
    "This is similar to links on the Internet: they do not contain the website itself, but they know its address and you can open the website using them.\n",
    "\n",
    "Now let's analyze our example.\n",
    "When we accepted the history argument at the input of the function, we were actually accepting a pointer to a list that had already been created.\n",
    "\n",
    "By calling `.append()`, we were modifying the list 'in place' - adding an element to the same object. After that, the object to which history refers is changed forever - it was [50, 40], and it becomes [50, 40, 4]. And the next function call will already receive a reference pointing to the list [50, 40, 4].\n",
    "\n",
    "When we did `.copy()`, we actually created a new object in another place in memory, where all the values from history went, and made all the changes in the new object. When the can_purchase function finished, the copy of history was destroyed - at the end of the function's execution, all the variables created in it are destroyed.\n",
    "\n",
    "\n",
    "### Create and Use Immediately\n",
    "There is a third option that is free from the problems above. The + operator does not modify the list - it creates a new one, which first includes the elements from the list on the left, then the elements from the list on the right. Since we are not changing anything, there should be no error.\n",
    "This new object will be deleted as soon as we exit the function.\n",
    "\n",
    "'Create an object and immediately apply an operation to it, bypassing assignment' is a good technique in programming. Just make sure that the result of the calculation is really used only once."
   ]
  },
  {
   "cell_type": "code",
   "execution_count": 18,
   "id": "7c0300fa-6d88-44cc-8414-827e5002e808",
   "metadata": {
    "ExecuteTime": {
     "end_time": "2021-12-20T18:21:04.874232Z",
     "start_time": "2021-12-20T18:21:04.870372Z"
    }
   },
   "outputs": [
    {
     "name": "stdout",
     "output_type": "stream",
     "text": [
      "True\n",
      "True\n"
     ]
    }
   ],
   "source": [
    "def can_purchase(amount, history, limit):\n",
    "    # Add the list history to a list of 1 element [amount], sum them up and compare with the limit\n",
    "    # We don't save the result anywhere, but use it right away\n",
    "    return sum(history + [amount]) <= limit\n",
    "\n",
    "limit = 100\n",
    "client_history = [50, 40]\n",
    "\n",
    "print(can_purchase(4, client_history, limit))\n",
    "print(can_purchase(7, client_history, limit))"
   ]
  },
  {
   "cell_type": "markdown",
   "id": "95625bdf-31f0-4bee-a74d-241fdbf45441",
   "metadata": {},
   "source": [
    "## Mutable and Immutable Data Types\n",
    "In the example above, we sensed that .append() modifies the very place in memory where the list is located - it adds an element to it.\n",
    "\n",
    "Not all types of data support such an operation on their data. Some data types do not allow themselves to be changed - as you created them in memory, so they will remain until the end. \n",
    "Such data types are called immutable. Their opposite is a mutable object.\n",
    "\n",
    "To make a change to immutable objects, you need to create a new object in memory and put all the values that will remain after the proposed changes there.\n",
    "\n",
    "### Addition Through Copying\n",
    "For example, strings in Python are immutable, but they can still be added together:"
   ]
  },
  {
   "cell_type": "code",
   "execution_count": 19,
   "id": "46e1c2c0-bcd4-48a1-9b82-6db97280821e",
   "metadata": {
    "ExecuteTime": {
     "end_time": "2021-12-20T18:26:00.509922Z",
     "start_time": "2021-12-20T18:26:00.505632Z"
    }
   },
   "outputs": [
    {
     "data": {
      "text/plain": [
       "'ab'"
      ]
     },
     "execution_count": 19,
     "metadata": {},
     "output_type": "execute_result"
    }
   ],
   "source": [
    "sum_string = 'a' + 'b'\n",
    "sum_string"
   ]
  },
  {
   "cell_type": "markdown",
   "id": "bd237036-05df-459b-84cd-bb5573a31b5d",
   "metadata": {},
   "source": [
    "Under the hood, it works like this: space is allocated in memory for a new string, then the left string is copied entirely into this space, then the right string, and a reference to the result is written to sum_string.\n",
    "Therefore, adding strings is not recommended - you will be wasting extra calculations on copying within memory.\n",
    "\n",
    "Usually, immutable data types do not have any functions or operators that change values, so as not to confuse people, but there may be + operators for their addition (through copying, as described above).\n",
    "\n",
    "For example, a tuple is immutable - and it doesn't have .append(), .delete(), .pop(). But you can add them: as with strings, a copy is created, consisting of the objects on the left and right."
   ]
  },
  {
   "cell_type": "code",
   "execution_count": 20,
   "id": "d1f72bfe-9c08-4624-938d-bb4ab4d9805f",
   "metadata": {
    "ExecuteTime": {
     "end_time": "2021-12-20T18:28:01.081402Z",
     "start_time": "2021-12-20T18:28:01.076842Z"
    }
   },
   "outputs": [
    {
     "data": {
      "text/plain": [
       "(1, 3, 2, 5, 8)"
      ]
     },
     "execution_count": 20,
     "metadata": {},
     "output_type": "execute_result"
    }
   ],
   "source": [
    "(1, 3) + (2, 5, 8)"
   ]
  },
  {
   "cell_type": "markdown",
   "id": "b02c27a8-2802-4910-94c9-8c6d566e8bc1",
   "metadata": {},
   "source": [
    "At first glance, such knowledge seems like a subtlety, but in real development, ignorance of these facts can lead to a performance drop due to ill-considered copying.\n",
    "We will discuss a problem on this in the interview block.\n",
    "\n",
    "### Hash\n",
    "There is another reason why immutability is important.\n",
    "For all built-in immutable objects in Python, you can calculate a hash. This property is called hashable, i.e., the statement `tuple is hashable` is true.\n",
    "\n",
    "A hash is a function that takes an object as input and calculates a single number, and for different objects, this number is different.\n",
    "A hash function has two main properties:\n",
    "1. It is calculated quickly.\n",
    "2. With the slightest change in the object, the hash function changes avalanche-like.\n",
    "\n",
    "Hash functions allow for fast searching and fast access by element, which is why they are used `under the hood` by dictionaries and sets.\n",
    "Actually, this is why a mutable object (for example, a list) cannot be a key in a dictionary - a hash cannot be calculated for it.\n",
    "In the last lesson, we just mentioned this, but now we know the reason."
   ]
  },
  {
   "cell_type": "markdown",
   "id": "2291e6ec-a91a-4816-a425-48dac83a152d",
   "metadata": {},
   "source": [
    "## Slicing\n",
    "A slice is a piece of a list or tuple (actually, anything that has ordered indices).\n",
    "\n",
    "It's easier to show:"
   ]
  },
  {
   "cell_type": "code",
   "execution_count": null,
   "id": "9573cea8-902f-4865-8508-92ba52a4dd5a",
   "metadata": {
    "ExecuteTime": {
     "end_time": "2021-12-20T18:37:39.020318Z",
     "start_time": "2021-12-20T18:37:39.015778Z"
    }
   },
   "outputs": [
    {
     "data": {
      "text/plain": [
       "[8, 3]"
      ]
     },
     "execution_count": 21,
     "metadata": {},
     "output_type": "execute_result"
    }
   ],
   "source": [
    "#          0  1. 2  3 < 4\n",
    "my_list = [1, 5, 8, 3, 4]\n",
    "my_list[2:4]  # take elements from the third to the fifth NOT inclusive (third, fourth)\n",
    "# math exp. [2 < 4)"
   ]
  },
  {
   "cell_type": "code",
   "execution_count": 22,
   "id": "45d5d258-8dd5-4aec-80a1-c433f244312d",
   "metadata": {
    "ExecuteTime": {
     "end_time": "2021-12-20T18:38:12.960593Z",
     "start_time": "2021-12-20T18:38:12.956391Z"
    }
   },
   "outputs": [
    {
     "data": {
      "text/plain": [
       "[1, 5, 8, 3]"
      ]
     },
     "execution_count": 22,
     "metadata": {},
     "output_type": "execute_result"
    }
   ],
   "source": [
    "# if you omit the first argument, it will be from the beginning of the list\n",
    "my_list[:4]  # up to the fifth NOT inclusive"
   ]
  },
  {
   "cell_type": "code",
   "execution_count": 23,
   "id": "9fdaac31-248f-4dd3-a105-00b28736be9a",
   "metadata": {
    "ExecuteTime": {
     "end_time": "2021-12-20T18:38:29.451366Z",
     "start_time": "2021-12-20T18:38:29.446260Z"
    }
   },
   "outputs": [
    {
     "data": {
      "text/plain": [
       "[8, 3, 4]"
      ]
     },
     "execution_count": 23,
     "metadata": {},
     "output_type": "execute_result"
    }
   ],
   "source": [
    "# if you omit the second argument, it will be to the end of the list\n",
    "my_list[2:]"
   ]
  },
  {
   "cell_type": "code",
   "execution_count": null,
   "id": "0e4c2d35-af5a-4b69-818c-ec342071d216",
   "metadata": {
    "ExecuteTime": {
     "end_time": "2021-12-20T18:40:39.418994Z",
     "start_time": "2021-12-20T18:40:39.415235Z"
    }
   },
   "outputs": [
    {
     "name": "stdout",
     "output_type": "stream",
     "text": [
      "[5, 8, 3]\n"
     ]
    },
    {
     "data": {
      "text/plain": [
       "[5, 8, 3]"
      ]
     },
     "execution_count": 24,
     "metadata": {},
     "output_type": "execute_result"
    }
   ],
   "source": [
    "# you can number with negative numbers\n",
    "# below is an example of how this will be counted\n",
    "# [1, 5, 8, 3, 4]\n",
    "#  0  1  2  3  4\n",
    "# -5 -4 -3 -2 -1\n",
    "print(my_list[1:len(my_list)-1])\n",
    "my_list[1:-1]  # the right end is not included, so it will return a list from the second to the penultimate element"
   ]
  },
  {
   "cell_type": "code",
   "execution_count": 25,
   "id": "38bed538-d8f6-466b-984c-5fd384ac1fc5",
   "metadata": {
    "ExecuteTime": {
     "end_time": "2021-12-20T18:41:51.864815Z",
     "start_time": "2021-12-20T18:41:51.861281Z"
    }
   },
   "outputs": [
    {
     "data": {
      "text/plain": [
       "[]"
      ]
     },
     "execution_count": 25,
     "metadata": {},
     "output_type": "execute_result"
    }
   ],
   "source": [
    "# Nothing might get in\n",
    "my_list[-1:-2]"
   ]
  },
  {
   "cell_type": "code",
   "execution_count": 26,
   "id": "48cc9f10-8411-403b-bdf1-d442fe36114f",
   "metadata": {
    "ExecuteTime": {
     "end_time": "2021-12-20T18:42:19.695777Z",
     "start_time": "2021-12-20T18:42:19.692081Z"
    }
   },
   "outputs": [
    {
     "data": {
      "text/plain": [
       "[3]"
      ]
     },
     "execution_count": 26,
     "metadata": {},
     "output_type": "execute_result"
    }
   ],
   "source": [
    "my_list[-2:-1]"
   ]
  },
  {
   "cell_type": "code",
   "execution_count": 27,
   "id": "072bfd85-8716-4f6a-ab85-5338ed0eaa0e",
   "metadata": {
    "ExecuteTime": {
     "end_time": "2021-12-20T18:43:09.433201Z",
     "start_time": "2021-12-20T18:43:09.429538Z"
    }
   },
   "outputs": [
    {
     "data": {
      "text/plain": [
       "[5, 3]"
      ]
     },
     "execution_count": 27,
     "metadata": {},
     "output_type": "execute_result"
    }
   ],
   "source": [
    "# There is also a third argument - this is the step. You can skip it\n",
    "my_list[1:4:2]"
   ]
  },
  {
   "cell_type": "code",
   "execution_count": 28,
   "id": "2b2afd93-5ef2-4377-b47d-1964e1d5ecc3",
   "metadata": {
    "ExecuteTime": {
     "end_time": "2021-12-20T18:44:03.308416Z",
     "start_time": "2021-12-20T18:44:03.304476Z"
    }
   },
   "outputs": [
    {
     "data": {
      "text/plain": [
       "[1, 8, 4]"
      ]
     },
     "execution_count": 28,
     "metadata": {},
     "output_type": "execute_result"
    }
   ],
   "source": [
    "my_list[::2]  # will give the first, third, etc."
   ]
  },
  {
   "cell_type": "code",
   "execution_count": 29,
   "id": "ec8d7628-4603-4be4-af15-a1548dfee0d6",
   "metadata": {
    "ExecuteTime": {
     "end_time": "2021-12-20T18:44:49.963244Z",
     "start_time": "2021-12-20T18:44:49.959372Z"
    }
   },
   "outputs": [
    {
     "data": {
      "text/plain": [
       "[4, 3, 8, 5, 1]"
      ]
     },
     "execution_count": 29,
     "metadata": {},
     "output_type": "execute_result"
    }
   ],
   "source": [
    "my_list[::-1]  # every 'minus first' - this is every first, but in reverse order, i.e., it will simply reverse the list"
   ]
  },
  {
   "cell_type": "code",
   "execution_count": 30,
   "id": "29ecc8a5-601d-4c26-947d-109e06eb7d05",
   "metadata": {
    "ExecuteTime": {
     "end_time": "2021-12-20T18:45:17.552519Z",
     "start_time": "2021-12-20T18:45:17.548594Z"
    }
   },
   "outputs": [
    {
     "data": {
      "text/plain": [
       "[4, 8, 1]"
      ]
     },
     "execution_count": 30,
     "metadata": {},
     "output_type": "execute_result"
    }
   ],
   "source": [
    "# reverse and take every other one\n",
    "my_list[::-2]"
   ]
  },
  {
   "cell_type": "code",
   "execution_count": 31,
   "id": "f49d24bb-a1ca-4c19-942c-877a2b5e0743",
   "metadata": {
    "ExecuteTime": {
     "end_time": "2021-12-20T18:46:00.170165Z",
     "start_time": "2021-12-20T18:46:00.165901Z"
    }
   },
   "outputs": [
    {
     "data": {
      "text/plain": [
       "[3, 8]"
      ]
     },
     "execution_count": 31,
     "metadata": {},
     "output_type": "execute_result"
    }
   ],
   "source": [
    "my_list[3:1:-1]  # note that in square brackets, the indices are specified from the unreversed list\n",
    "# here the left end is greater than the right end - in reverse order this is normal"
   ]
  },
  {
   "cell_type": "code",
   "execution_count": 32,
   "id": "836d9563-210a-42d0-929f-602dc45670c1",
   "metadata": {
    "ExecuteTime": {
     "end_time": "2021-12-20T18:46:20.790574Z",
     "start_time": "2021-12-20T18:46:20.786948Z"
    }
   },
   "outputs": [
    {
     "data": {
      "text/plain": [
       "[]"
      ]
     },
     "execution_count": 32,
     "metadata": {},
     "output_type": "execute_result"
    }
   ],
   "source": [
    "# but in forward order, this will not work (from the fourth element to the second, when moving to the right, there is nothing)\n",
    "my_list[3:1]"
   ]
  },
  {
   "cell_type": "markdown",
   "id": "c26d138f-1708-4479-be67-970ebdb256bf",
   "metadata": {},
   "source": [
    "Slicing works on tuples and strings:"
   ]
  },
  {
   "cell_type": "code",
   "execution_count": 33,
   "id": "b3efc6ef-3967-49e5-b932-9af29f692def",
   "metadata": {
    "ExecuteTime": {
     "end_time": "2021-12-20T18:46:49.718134Z",
     "start_time": "2021-12-20T18:46:49.714242Z"
    }
   },
   "outputs": [
    {
     "data": {
      "text/plain": [
       "(5, 9)"
      ]
     },
     "execution_count": 33,
     "metadata": {},
     "output_type": "execute_result"
    }
   ],
   "source": [
    "(1, 5, 9)[1:]"
   ]
  },
  {
   "cell_type": "code",
   "execution_count": 34,
   "id": "fe3fc11a-de83-4637-a51f-8b5fbafa799c",
   "metadata": {
    "ExecuteTime": {
     "end_time": "2021-12-20T18:46:52.915610Z",
     "start_time": "2021-12-20T18:46:52.911427Z"
    }
   },
   "outputs": [
    {
     "data": {
      "text/plain": [
       "'olleh'"
      ]
     },
     "execution_count": 34,
     "metadata": {},
     "output_type": "execute_result"
    }
   ],
   "source": [
    "'hello'[::-1]"
   ]
  },
  {
   "cell_type": "markdown",
   "id": "284606bb-bbba-4874-b123-e97bc7906729",
   "metadata": {},
   "source": [
    "## Advanced String Manipulation\n",
    "In the remaining part, we will look at string manipulation techniques that are often used in practice."
   ]
  },
  {
   "cell_type": "code",
   "execution_count": 35,
   "id": "62798679-6528-4dbe-a224-decc1935b08a",
   "metadata": {
    "ExecuteTime": {
     "end_time": "2021-12-20T18:49:52.217668Z",
     "start_time": "2021-12-20T18:49:52.214040Z"
    }
   },
   "outputs": [
    {
     "data": {
      "text/plain": [
       "True"
      ]
     },
     "execution_count": 35,
     "metadata": {},
     "output_type": "execute_result"
    }
   ],
   "source": [
    "# checking for a character\n",
    "'l' in 'hello'"
   ]
  },
  {
   "cell_type": "code",
   "execution_count": 36,
   "id": "0da00f2c-0b01-4ee1-a9da-7785d7ecf72a",
   "metadata": {
    "ExecuteTime": {
     "end_time": "2021-12-20T18:50:00.158095Z",
     "start_time": "2021-12-20T18:50:00.155253Z"
    }
   },
   "outputs": [
    {
     "name": "stdout",
     "output_type": "stream",
     "text": [
      "True\n",
      "False\n"
     ]
    }
   ],
   "source": [
    "# checking for a substring\n",
    "print('ll' in 'hello')\n",
    "print('wl' in 'hello')"
   ]
  },
  {
   "cell_type": "code",
   "execution_count": 37,
   "id": "994ad14a-4fd0-4b6f-8979-5a2c816631b7",
   "metadata": {
    "ExecuteTime": {
     "end_time": "2021-12-20T18:50:42.283922Z",
     "start_time": "2021-12-20T18:50:42.281341Z"
    }
   },
   "outputs": [
    {
     "name": "stdout",
     "output_type": "stream",
     "text": [
      "hello\n",
      "HELLO\n"
     ]
    }
   ],
   "source": [
    "# case\n",
    "print('HeLlO'.lower())\n",
    "print('hello'.upper())"
   ]
  },
  {
   "cell_type": "code",
   "execution_count": 38,
   "id": "139e282a-cc37-4a43-8367-9b5c57533b42",
   "metadata": {
    "ExecuteTime": {
     "end_time": "2021-12-20T18:52:32.752934Z",
     "start_time": "2021-12-20T18:52:32.750004Z"
    }
   },
   "outputs": [
    {
     "name": "stdout",
     "output_type": "stream",
     "text": [
      "True\n",
      "False\n"
     ]
    }
   ],
   "source": [
    "# Is it in lowercase?\n",
    "print('hello'.islower())\n",
    "print('Hello'.islower())"
   ]
  },
  {
   "cell_type": "code",
   "execution_count": 39,
   "id": "73bfa9a8-2da5-4ec1-a3da-652398372ea5",
   "metadata": {
    "ExecuteTime": {
     "end_time": "2021-12-20T18:52:47.898471Z",
     "start_time": "2021-12-20T18:52:47.895203Z"
    }
   },
   "outputs": [
    {
     "name": "stdout",
     "output_type": "stream",
     "text": [
      "True\n"
     ]
    }
   ],
   "source": [
    "# Is it in uppercase?\n",
    "print('HELLO'.isupper())"
   ]
  },
  {
   "cell_type": "code",
   "execution_count": 40,
   "id": "7ab1e67e-a4af-4e26-9afe-e11d50136670",
   "metadata": {
    "ExecuteTime": {
     "end_time": "2021-12-20T18:53:36.746085Z",
     "start_time": "2021-12-20T18:53:36.742348Z"
    }
   },
   "outputs": [
    {
     "data": {
      "text/plain": [
       "'hemmo wemmo'"
      ]
     },
     "execution_count": 40,
     "metadata": {},
     "output_type": "execute_result"
    }
   ],
   "source": [
    "# Replace all found pieces\n",
    "# .replace(what, with_what)\n",
    "'hello wello'.replace('ll', 'mm')"
   ]
  },
  {
   "cell_type": "code",
   "execution_count": 41,
   "id": "5698b685-4598-4093-99f3-a467639b2d33",
   "metadata": {
    "ExecuteTime": {
     "end_time": "2021-12-20T18:54:00.897933Z",
     "start_time": "2021-12-20T18:54:00.894147Z"
    }
   },
   "outputs": [
    {
     "data": {
      "text/plain": [
       "'abra'"
      ]
     },
     "execution_count": 41,
     "metadata": {},
     "output_type": "execute_result"
    }
   ],
   "source": [
    "'abra'.replace('zz', 'ww')  # if not found, it does nothing"
   ]
  },
  {
   "cell_type": "code",
   "execution_count": 42,
   "id": "6f5da3af-304e-4c75-adf0-8afed4e535fd",
   "metadata": {
    "ExecuteTime": {
     "end_time": "2021-12-20T18:54:48.778973Z",
     "start_time": "2021-12-20T18:54:48.774890Z"
    }
   },
   "outputs": [
    {
     "data": {
      "text/plain": [
       "['Today', 'is', 'a', 'wonderful', 'day']"
      ]
     },
     "execution_count": 42,
     "metadata": {},
     "output_type": "execute_result"
    }
   ],
   "source": [
    "# Split a string by spaces\n",
    "'Today is a wonderful day'.split()"
   ]
  },
  {
   "cell_type": "code",
   "execution_count": 44,
   "id": "5bd6be61",
   "metadata": {
    "ExecuteTime": {
     "end_time": "2021-12-20T18:58:45.407452Z",
     "start_time": "2021-12-20T18:58:42.069266Z"
    }
   },
   "outputs": [],
   "source": [
    "name, surname = input().split()"
   ]
  },
  {
   "cell_type": "code",
   "execution_count": 45,
   "id": "b7ab5c94",
   "metadata": {
    "ExecuteTime": {
     "end_time": "2021-12-20T18:58:47.111355Z",
     "start_time": "2021-12-20T18:58:47.107622Z"
    }
   },
   "outputs": [
    {
     "data": {
      "text/plain": [
       "'Eldan'"
      ]
     },
     "execution_count": 45,
     "metadata": {},
     "output_type": "execute_result"
    }
   ],
   "source": [
    "name"
   ]
  },
  {
   "cell_type": "code",
   "execution_count": 46,
   "id": "53436104",
   "metadata": {
    "ExecuteTime": {
     "end_time": "2021-12-20T18:58:47.667309Z",
     "start_time": "2021-12-20T18:58:47.660736Z"
    }
   },
   "outputs": [
    {
     "data": {
      "text/plain": [
       "'Nomad'"
      ]
     },
     "execution_count": 46,
     "metadata": {},
     "output_type": "execute_result"
    }
   ],
   "source": [
    "surname"
   ]
  },
  {
   "cell_type": "code",
   "execution_count": 47,
   "id": "2b7609cb-7eee-4154-8978-5328d7809370",
   "metadata": {
    "ExecuteTime": {
     "end_time": "2021-12-20T18:59:42.087788Z",
     "start_time": "2021-12-20T18:59:42.084156Z"
    }
   },
   "outputs": [
    {
     "data": {
      "text/plain": [
       "'After text recognition, there are many    spaces'"
      ]
     },
     "execution_count": 47,
     "metadata": {},
     "output_type": "execute_result"
    }
   ],
   "source": [
    "# Remove garbage spaces around the string (but not inside!)\n",
    "'   After text recognition, there are many    spaces     '.strip()"
   ]
  },
  {
   "cell_type": "code",
   "execution_count": 48,
   "id": "ef69ea12-b210-48a5-8186-7042d41b232a",
   "metadata": {
    "ExecuteTime": {
     "end_time": "2021-12-20T19:02:01.398555Z",
     "start_time": "2021-12-20T19:02:01.393842Z"
    }
   },
   "outputs": [
    {
     "data": {
      "text/plain": [
       "['After', 'text', 'recognition,', 'there', 'are', 'many', 'spaces']"
      ]
     },
     "execution_count": 48,
     "metadata": {},
     "output_type": "execute_result"
    }
   ],
   "source": [
    "# It's good to combine split() and strip()\n",
    "bad_string = '   After text recognition, there are many    spaces     '\n",
    "result = []\n",
    "for word in (bad_string.strip()).split():\n",
    "    result.append(word)\n",
    "    \n",
    "result"
   ]
  },
  {
   "cell_type": "markdown",
   "id": "75e3b0eb",
   "metadata": {},
   "source": [
    "Remember split() and strip() - you often have to deal with them in practice."
   ]
  }
 ],
 "metadata": {
  "kernelspec": {
   "display_name": "base",
   "language": "python",
   "name": "python3"
  },
  "language_info": {
   "codemirror_mode": {
    "name": "ipython",
    "version": 3
   },
   "file_extension": ".py",
   "mimetype": "text/x-python",
   "name": "python",
   "nbconvert_exporter": "python",
   "pygments_lexer": "ipython3",
   "version": "3.12.4"
  },
  "toc": {
   "base_numbering": 1,
   "nav_menu": {},
   "number_sections": true,
   "sideBar": true,
   "skip_h1_title": false,
   "title_cell": "Table of Contents",
   "title_sidebar": "Contents",
   "toc_cell": false,
   "toc_position": {},
   "toc_section_display": true,
   "toc_window_display": false
  },
  "varInspector": {
   "cols": {
    "lenName": 16,
    "lenType": 16,
    "lenVar": 40
   },
   "kernels_config": {
    "python": {
     "delete_cmd_postfix": "",
     "delete_cmd_prefix": "del ",
     "library": "var_list.py",
     "varRefreshCmd": "print(var_dic_list())"
    },
    "r": {
     "delete_cmd_postfix": ") ",
     "delete_cmd_prefix": "rm(",
     "library": "var_list.r",
     "varRefreshCmd": "cat(var_dic_list()) "
    }
   },
   "types_to_exclude": [
    "module",
    "function",
    "builtin_function_or_method",
    "instance",
    "_Feature"
   ],
   "window_display": false
  }
 },
 "nbformat": 4,
 "nbformat_minor": 5
}
