{
 "cells": [
  {
   "cell_type": "markdown",
   "id": "homework-intro",
   "metadata": {},
   "source": [
    "# Python Homework: Lesson 1\n",
    "\n",
    "Welcome to your first Python homework assignment! \n",
    "\n",
    "These tasks are designed to help you practice the concepts learned in Lesson 1, including today: \n",
    "- basic operations, \n",
    "\n",
    "Next => different variable types (strings, booleans), and fundamental data structures (lists, tuples, sets), as well as control flow (loops and conditionals).\n",
    "\n",
    "Complete the tasks in each section by writing your code in the provided code cells. \n",
    "\n",
    "\n",
    "Good luck!"
   ]
  },
  {
   "cell_type": "markdown",
   "id": "section-1-tasks",
   "metadata": {},
   "source": [
    "## Section 1: Basic Operations Tasks\n",
    "\n",
    "These tasks focus on comments, variable assignment, basic arithmetic, and the `print()` function."
   ]
  },
  {
   "cell_type": "markdown",
   "id": "task-1-1",
   "metadata": {},
   "source": [
    "### Task 1.1: Variable Assignment and Printing\n",
    "Assign the number `15` to a variable named `x` and the string `\"Hello Python\"` to a variable named `message`. Then, print both variables on separate lines."
   ]
  },
  {
   "cell_type": "code",
   "execution_count": null,
   "id": "task-1-1-code",
   "metadata": {},
   "outputs": [],
   "source": []
  },
  {
   "cell_type": "markdown",
   "id": "task-1-2",
   "metadata": {},
   "source": [
    "### Task 1.2: Basic Arithmetic\n",
    "Given two numbers, `num1 = 25` and `num2 = 7`, calculate their sum, difference, product, and quotient. Print each result with a descriptive label (e.g., \"Sum: \")."
   ]
  },
  {
   "cell_type": "code",
   "execution_count": null,
   "id": "task-1-2-code",
   "metadata": {},
   "outputs": [],
   "source": []
  },
  {
   "cell_type": "markdown",
   "id": "task-1-3",
   "metadata": {},
   "source": [
    "### Task 1.3: Using Comments\n",
    "Write a short Python code snippet that calculates the area of a rectangle. Include comments explaining each step (variable assignment, calculation, printing)."
   ]
  },
  {
   "cell_type": "code",
   "execution_count": null,
   "id": "task-1-3-code",
   "metadata": {},
   "outputs": [],
   "source": []
  },
  {
   "cell_type": "markdown",
   "id": "task-1-4",
   "metadata": {},
   "source": [
    "### Task 1.4: Variable Reassignment\n",
    "Assign the value `100` to a variable `score`. Print its value. Then, reassign `score` to `150` and print the new value. Observe how the value changes."
   ]
  },
  {
   "cell_type": "code",
   "execution_count": null,
   "id": "task-1-4-code",
   "metadata": {},
   "outputs": [],
   "source": []
  },
  {
   "cell_type": "markdown",
   "id": "task-1-5",
   "metadata": {},
   "source": [
    "### Task 1.5: Integer Division\n",
    "Calculate the integer division of `29` by `4`. Print the result."
   ]
  },
  {
   "cell_type": "code",
   "execution_count": null,
   "id": "task-1-5-code",
   "metadata": {},
   "outputs": [],
   "source": []
  },
  {
   "cell_type": "markdown",
   "id": "task-1-6",
   "metadata": {},
   "source": [
    "### Task 1.6: Modulo Operation\n",
    "Find the remainder when `50` is divided by `7`. Print the result."
   ]
  },
  {
   "cell_type": "code",
   "execution_count": null,
   "id": "task-1-6-code",
   "metadata": {},
   "outputs": [],
   "source": []
  },
  {
   "cell_type": "markdown",
   "id": "task-1-7",
   "metadata": {},
   "source": [
    "### Task 1.7: Combining Operations\n",
    "Calculate the value of the expression `(10 + 5) * 2 - 1` using Python. Print the result."
   ]
  },
  {
   "cell_type": "code",
   "execution_count": null,
   "id": "task-1-7-code",
   "metadata": {},
   "outputs": [],
   "source": []
  },
  {
   "cell_type": "markdown",
   "id": "task-1-8",
   "metadata": {},
   "source": [
    "### Task 1.8: `print()` with Multiple Arguments\n",
    "Print the numbers `10`, `20`, `30`, and the string `\"End\"` all on a single line, separated by spaces, using a single `print()` statement."
   ]
  },
  {
   "cell_type": "code",
   "execution_count": null,
   "id": "task-1-8-code",
   "metadata": {},
   "outputs": [],
   "source": []
  },
  {
   "cell_type": "markdown",
   "id": "task-1-9",
   "metadata": {},
   "source": [
    "### Task 1.9: Applying Variable Advantages\n",
    "Calculate the simple interest on a principal amount of `$1000` at an annual interest rate of `5%` for `3` years. Use variables for principal, rate, and time to make your calculation clear and easy to modify. The formula for simple interest is `Principal * Rate * Time`."
   ]
  },
  {
   "cell_type": "code",
   "execution_count": null,
   "id": "task-1-9-code",
   "metadata": {},
   "outputs": [],
   "source": []
  },
  {
   "cell_type": "markdown",
   "id": "task-1-10",
   "metadata": {},
   "source": [
    "### Task 1.10: Exponentiation and Order of Operations\n",
    "Calculate the value of `2` raised to the power of `3`, and then add `5` to the result. Print the final value."
   ]
  },
  {
   "cell_type": "code",
   "execution_count": null,
   "id": "task-1-10-code",
   "metadata": {},
   "outputs": [],
   "source": []
  },
  {
   "cell_type": "markdown",
   "id": "homework-end",
   "metadata": {},
   "source": [
    "--- \n",
    "**End of Homework for Lesson 1.1.**\n",
    "\n",
    "Review your answers and ensure your code runs correctly. Great job!\n",
    "\n",
    "See you tomorrow!"
   ]
  },
  {
   "cell_type": "markdown",
   "metadata": {},
   "source": []
  }
 ],
 "metadata": {
  "kernelspec": {
   "display_name": "Python 3",
   "language": "python",
   "name": "python3"
  },
  "language_info": {
   "codemirror_mode": {
    "name": "ipython",
    "version": 3
   },
   "file_extension": ".py",
   "mimetype": "text/x-python",
   "name": "python",
   "nbconvert_exporter": "python",
   "pygments_lexer": "ipython3",
   "version": "3.10.9"
  }
 },
 "nbformat": 4,
 "nbformat_minor": 4
}
