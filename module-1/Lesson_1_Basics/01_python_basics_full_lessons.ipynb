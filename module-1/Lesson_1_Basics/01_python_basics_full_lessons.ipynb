{
 "cells": [
  {
   "cell_type": "markdown",
   "id": "3e795a55-67f0-42ea-ba08-191dd17c8834",
   "metadata": {},
   "source": [
    "# Python Basics\n",
    "Welcome everybody! \n",
    "\n",
    "We're starting our journey with the Python language. \n",
    "\n",
    "For simplicity, we'll initially write all Python programs in Jupyter environment. Hope it's pre-configured and accessible from your browser or IDE. \n",
    "\n",
    "The text you're reading was written in a `\"cell\"`. \n",
    "A \"cell\" is an indivisible unit of text or code that Jupyter executes as a whole.\n",
    "\n",
    "Create a new cell by clicking the `+` button in the toolbar above. \n",
    "\n",
    "Try creating a new cell, clicking inside it (cursor will appear), writing:\n",
    "```python\n",
    "1 + 5\n",
    "```\n",
    "and \"executing\" it with `Ctrl + Enter` or `Shift + Enter`. \n",
    "\n",
    "Below the cell, the number 6 will appear - this result was calculated by Python.\n",
    "\n",
    "Cells allow immediate result viewing - that's their advantage.\n",
    "\n",
    "We'll start with basic language constructs."
   ]
  },
  {
   "cell_type": "code",
   "execution_count": 5,
   "id": "6ffae4af",
   "metadata": {},
   "outputs": [
    {
     "data": {
      "text/plain": [
       "6"
      ]
     },
     "execution_count": 5,
     "metadata": {},
     "output_type": "execute_result"
    }
   ],
   "source": [
    "1 + 5"
   ]
  },
  {
   "cell_type": "markdown",
   "id": "0e565f3b-1e42-4df1-9ed4-6b6750b0998a",
   "metadata": {},
   "source": [
    "## Basic Operations\n",
    "Let's examine fundamental operations every Python programmer uses."
   ]
  },
  {
   "cell_type": "code",
   "execution_count": 6,
   "id": "b0d3526a-8035-4a0b-a42e-f74cf1401c2a",
   "metadata": {
    "ExecuteTime": {
     "end_time": "2021-12-13T17:01:41.135287Z",
     "start_time": "2021-12-13T17:01:41.121870Z"
    }
   },
   "outputs": [],
   "source": [
    "# This is a comment. Python ignores everything after # until end of line\n",
    "# The editor highlights this in gray\n",
    "\n",
    "# Empty lines are also ignored and carry no meaning\n",
    "\n",
    "# The = (equals) sign is assignment. We're asking to store value 5 in variable \"a\"\n",
    "a = 5"
   ]
  },
  {
   "cell_type": "code",
   "execution_count": 7,
   "id": "3c3a7c1b-a07a-4622-81df-dc450113ed24",
   "metadata": {
    "ExecuteTime": {
     "end_time": "2021-12-13T17:02:02.067614Z",
     "start_time": "2021-12-13T17:02:02.034233Z"
    }
   },
   "outputs": [
    {
     "data": {
      "text/plain": [
       "5"
      ]
     },
     "execution_count": 7,
     "metadata": {},
     "output_type": "execute_result"
    }
   ],
   "source": [
    "# Now we can retrieve the value by name \"a\" - currently it's 5. Jupyter will show this\n",
    "a"
   ]
  },
  {
   "cell_type": "code",
   "execution_count": 8,
   "id": "1eebc30c-13c0-49d4-829b-586a63b543be",
   "metadata": {
    "ExecuteTime": {
     "end_time": "2021-12-13T17:02:37.699522Z",
     "start_time": "2021-12-13T17:02:37.694261Z"
    }
   },
   "outputs": [
    {
     "data": {
      "text/plain": [
       "55"
      ]
     },
     "execution_count": 8,
     "metadata": {},
     "output_type": "execute_result"
    }
   ],
   "source": [
    "# Arithmetic operations work with numbers\n",
    "5 * 11"
   ]
  },
  {
   "cell_type": "code",
   "execution_count": 9,
   "id": "8c52c8e8-1e92-45d2-be87-8cc2abc89424",
   "metadata": {
    "ExecuteTime": {
     "end_time": "2021-12-13T17:02:44.126658Z",
     "start_time": "2021-12-13T17:02:44.120077Z"
    }
   },
   "outputs": [
    {
     "data": {
      "text/plain": [
       "55"
      ]
     },
     "execution_count": 9,
     "metadata": {},
     "output_type": "execute_result"
    }
   ],
   "source": [
    "# And with variables\n",
    "11 * a"
   ]
  },
  {
   "cell_type": "code",
   "execution_count": 10,
   "id": "5e75d5e1-5189-4fd1-8df6-dab293bf9d4d",
   "metadata": {
    "ExecuteTime": {
     "end_time": "2021-12-13T17:03:56.789035Z",
     "start_time": "2021-12-13T17:03:56.786264Z"
    }
   },
   "outputs": [
    {
     "name": "stdout",
     "output_type": "stream",
     "text": [
      "5\n"
     ]
    }
   ],
   "source": [
    "# We can explicitly print values using the print function\n",
    "# Like f(x) in math - function f takes argument x and performs actions\n",
    "print(a)  \n",
    "# In our case - prints it"
   ]
  },
  {
   "cell_type": "code",
   "execution_count": 11,
   "id": "c3f926bd-8be4-4d40-98c3-1ddfb1801a39",
   "metadata": {
    "ExecuteTime": {
     "end_time": "2021-12-13T17:05:43.544791Z",
     "start_time": "2021-12-13T17:05:43.541621Z"
    }
   },
   "outputs": [
    {
     "name": "stdout",
     "output_type": "stream",
     "text": [
      "4 1 hello 5\n"
     ]
    }
   ],
   "source": [
    "# print can take any number of arguments (separated by commas)\n",
    "# It will print them all separated by spaces\n",
    "print(4, 1, 'hello', a)"
   ]
  },
  {
   "cell_type": "code",
   "execution_count": 12,
   "id": "f7b4ff0d-10c2-4291-8f81-e04bea47803c",
   "metadata": {
    "ExecuteTime": {
     "end_time": "2021-12-13T17:06:46.850559Z",
     "start_time": "2021-12-13T17:06:46.841477Z"
    }
   },
   "outputs": [
    {
     "data": {
      "text/plain": [
       "2"
      ]
     },
     "execution_count": 12,
     "metadata": {},
     "output_type": "execute_result"
    }
   ],
   "source": [
    "# Integer division discards fractional part\n",
    "5 // 2"
   ]
  },
  {
   "cell_type": "code",
   "execution_count": 13,
   "id": "1509a63d-f8c4-4b63-905a-ea280b3755b5",
   "metadata": {
    "ExecuteTime": {
     "end_time": "2021-12-13T17:07:23.163200Z",
     "start_time": "2021-12-13T17:07:23.157345Z"
    }
   },
   "outputs": [
    {
     "data": {
      "text/plain": [
       "1"
      ]
     },
     "execution_count": 13,
     "metadata": {},
     "output_type": "execute_result"
    }
   ],
   "source": [
    "# Modulo operation uses % symbol\n",
    "5 % 2"
   ]
  },
  {
   "cell_type": "code",
   "execution_count": 14,
   "id": "c2ce8054-5b11-4b56-9a9a-43bd8039121e",
   "metadata": {
    "ExecuteTime": {
     "end_time": "2021-12-13T17:09:03.485664Z",
     "start_time": "2021-12-13T17:09:03.482475Z"
    }
   },
   "outputs": [
    {
     "name": "stdout",
     "output_type": "stream",
     "text": [
      "5.0\n",
      "2.0\n"
     ]
    }
   ],
   "source": [
    "# Variables can change values during execution - hence the name\n",
    "a = 10\n",
    "print(a / 2)\n",
    "a = 4\n",
    "print(a / 2)"
   ]
  },
  {
   "cell_type": "markdown",
   "id": "6c19f52e-73f0-48c8-a0ed-8fed7c71cf3e",
   "metadata": {},
   "source": [
    "From the example above, you can see multiple commands in one cell - Jupyter executes them sequentially. Python expects each command on a new line."
   ]
  },
  {
   "cell_type": "markdown",
   "id": "71631b14-3a35-4802-ae60-3fa16bd914fa",
   "metadata": {},
   "source": [
    "### Why use variables?\n",
    "Variables have two advantages:\n",
    "1. Make logic independent of specific numbers\n",
    "2. Make data transformations readable\n",
    "\n",
    "Example:\n",
    "Calculate investment returns after 5 years from different banks. We have $1000 and two banks with different rates:\n",
    "1. Bank \"Spring\" offers 3% annual interest\n",
    "2. Bank \"Autumn\" offers 2% but is more reliable\n",
    "\n",
    "Calculate final amount after 5 years:"
   ]
  },
  {
   "cell_type": "code",
   "execution_count": 15,
   "id": "81e4668c",
   "metadata": {
    "ExecuteTime": {
     "end_time": "2021-12-13T17:12:43.976458Z",
     "start_time": "2021-12-13T17:12:43.969892Z"
    }
   },
   "outputs": [
    {
     "data": {
      "text/plain": [
       "27"
      ]
     },
     "execution_count": 15,
     "metadata": {},
     "output_type": "execute_result"
    }
   ],
   "source": [
    "3 ** 3  # 3 * 3 * 3"
   ]
  },
  {
   "cell_type": "code",
   "execution_count": 16,
   "id": "8e0932ab-f07b-4e73-b8bf-28b473ec1d67",
   "metadata": {
    "ExecuteTime": {
     "end_time": "2021-12-13T17:13:07.557427Z",
     "start_time": "2021-12-13T17:13:07.551383Z"
    }
   },
   "outputs": [
    {
     "data": {
      "text/plain": [
       "1159.2740743000002"
      ]
     },
     "execution_count": 16,
     "metadata": {},
     "output_type": "execute_result"
    }
   ],
   "source": [
    "# Double asterisk is exponentiation operator\n",
    "# Note parentheses determine operation order\n",
    "1000 * ((100 + 3) / 100)**5"
   ]
  },
  {
   "cell_type": "code",
   "execution_count": 17,
   "id": "65f578cc-09d3-499d-ab2e-2571ee3c0da4",
   "metadata": {
    "ExecuteTime": {
     "end_time": "2021-12-13T17:13:09.277600Z",
     "start_time": "2021-12-13T17:13:09.271538Z"
    }
   },
   "outputs": [
    {
     "data": {
      "text/plain": [
       "1104.0808032"
      ]
     },
     "execution_count": 17,
     "metadata": {},
     "output_type": "execute_result"
    }
   ],
   "source": [
    "# Spaces between operators are ignored\n",
    "1000 * ((100 + 2) / 100) ** 5"
   ]
  },
  {
   "cell_type": "markdown",
   "id": "9dce6726-fc0f-4b0e-816f-a45485d9d0a5",
   "metadata": {},
   "source": [
    "Looking at the code, it's unclear what the first 1000 represents.\n",
    "You need to know the original problem.\n",
    "\n",
    "Let's rewrite using variables:"
   ]
  },
  {
   "cell_type": "code",
   "execution_count": 18,
   "id": "f8145aaf-281c-4b72-8532-5858f0d34eab",
   "metadata": {
    "ExecuteTime": {
     "end_time": "2021-12-13T17:15:09.893509Z",
     "start_time": "2021-12-13T17:15:09.888956Z"
    }
   },
   "outputs": [
    {
     "data": {
      "text/plain": [
       "1159.2740743000002"
      ]
     },
     "execution_count": 18,
     "metadata": {},
     "output_type": "execute_result"
    }
   ],
   "source": [
    "initial_sum = 1000\n",
    "interest_rate = 3\n",
    "years = 5\n",
    "# Now the calculation logic is clear for any input\n",
    "end_sum = initial_sum * ((100 + interest_rate) / 100)**years\n",
    "end_sum"
   ]
  },
  {
   "cell_type": "markdown",
   "id": "040bdc05-d5d7-42db-9a52-5ae7fd9ba56e",
   "metadata": {},
   "source": [
    "Recalculating for different rates is easy - just change the second line setting `interest_rate`."
   ]
  },
  {
   "cell_type": "markdown",
   "id": "0872bd6d-3688-4d25-8c39-5d1f2f956c2f",
   "metadata": {},
   "source": [
    "### Other Variable Types\n",
    "Variables can store more than numbers! There are strings, floating-point numbers (called *float*), and more.\n",
    "#### Strings"
   ]
  },
  {
   "cell_type": "code",
   "execution_count": 19,
   "id": "75a735c9-c3bf-49fa-8b6d-4f70c3d6c2be",
   "metadata": {
    "ExecuteTime": {
     "end_time": "2021-12-13T17:17:18.033429Z",
     "start_time": "2021-12-13T17:17:18.029936Z"
    }
   },
   "outputs": [
    {
     "name": "stdout",
     "output_type": "stream",
     "text": [
      "Gennadiy\n",
      "Golovkin\n"
     ]
    }
   ],
   "source": [
    "# Strings are enclosed in quotes\n",
    "# Double quotes\n",
    "name = \"Gennadiy\"\n",
    "# Or single quotes - no difference\n",
    "surname = 'Golovkin'\n",
    "print(name)\n",
    "print(surname)"
   ]
  },
  {
   "cell_type": "code",
   "execution_count": 20,
   "id": "7cdc2cf7",
   "metadata": {
    "ExecuteTime": {
     "end_time": "2021-12-13T17:19:04.896914Z",
     "start_time": "2021-12-13T17:19:04.891691Z"
    }
   },
   "outputs": [
    {
     "name": "stdout",
     "output_type": "stream",
     "text": [
      "32\n"
     ]
    }
   ],
   "source": [
    "print(2 ** 5)"
   ]
  },
  {
   "cell_type": "markdown",
   "id": "800c3b62-b3f2-44b5-a9bd-eff61d483145",
   "metadata": {},
   "source": [
    "In the cell above, 4 commands executed:\n",
    "1. We stored string `Gennadiy` in variable `name`\n",
    "2. We stored string `Golovkin` in variable `surname`\n",
    "3. We called `print` with variable `name`. Python substituted its value and executed `print(\"Gennadiy\")`\n",
    "4. Same as step 3 but with `surname`"
   ]
  },
  {
   "cell_type": "code",
   "execution_count": 21,
   "id": "305f10e8-7ec1-4c45-99f7-f9af587a3040",
   "metadata": {
    "ExecuteTime": {
     "end_time": "2021-12-13T17:21:56.963489Z",
     "start_time": "2021-12-13T17:21:56.958136Z"
    },
    "scrolled": true
   },
   "outputs": [
    {
     "name": "stdout",
     "output_type": "stream",
     "text": [
      "<class 'str'>\n",
      "hello\n",
      "<class 'int'>\n",
      "2\n"
     ]
    }
   ],
   "source": [
    "# Every variable has a type, Python determines it automatically\n",
    "greeting = 'hello'\n",
    "# Print the type\n",
    "print(type(greeting))\n",
    "print(greeting)\n",
    "\n",
    "# Python even allows changing types dynamically! Not all languages allow this\n",
    "greeting = 2\n",
    "print(type(greeting))\n",
    "print(greeting)"
   ]
  },
  {
   "cell_type": "markdown",
   "id": "0e3840b3",
   "metadata": {},
   "source": [
    "#### Boolean"
   ]
  },
  {
   "cell_type": "code",
   "execution_count": 22,
   "id": "70dc4ea5",
   "metadata": {
    "ExecuteTime": {
     "end_time": "2021-12-13T17:24:54.680152Z",
     "start_time": "2021-12-13T17:24:54.674225Z"
    }
   },
   "outputs": [
    {
     "data": {
      "text/plain": [
       "False"
      ]
     },
     "execution_count": 22,
     "metadata": {},
     "output_type": "execute_result"
    }
   ],
   "source": [
    "# Boolean type represents \"yes\" or \"no\"\n",
    "# Python uses True and False\n",
    "# Used extensively in condition checks\n",
    "my_bool = ('5' == 5)  # False, because comparison considers types\n",
    "my_bool"
   ]
  },
  {
   "cell_type": "code",
   "execution_count": 23,
   "id": "350c42e2",
   "metadata": {
    "ExecuteTime": {
     "end_time": "2021-12-13T17:26:57.942223Z",
     "start_time": "2021-12-13T17:26:57.938141Z"
    }
   },
   "outputs": [
    {
     "data": {
      "text/plain": [
       "True"
      ]
     },
     "execution_count": 23,
     "metadata": {},
     "output_type": "execute_result"
    }
   ],
   "source": [
    "my_bool_2 = ('el' in 'hello')  # True, because \"hello\" contains substring \"el\"\n",
    "my_bool_2"
   ]
  },
  {
   "cell_type": "code",
   "execution_count": 24,
   "id": "73537bd5",
   "metadata": {
    "ExecuteTime": {
     "end_time": "2021-12-13T17:28:29.969713Z",
     "start_time": "2021-12-13T17:28:29.962846Z"
    }
   },
   "outputs": [
    {
     "data": {
      "text/plain": [
       "True"
      ]
     },
     "execution_count": 24,
     "metadata": {},
     "output_type": "execute_result"
    }
   ],
   "source": [
    "# Boolean operators: and, or, not\n",
    "# and requires both values to be True\n",
    "a = 3\n",
    "# == is equality operator (different from assignment!)\n",
    "# checks if left and right values are equal\n",
    "(5 == 5) and (a == 3)"
   ]
  },
  {
   "cell_type": "code",
   "execution_count": 25,
   "id": "c56cc23e",
   "metadata": {
    "ExecuteTime": {
     "end_time": "2021-12-13T17:29:30.116545Z",
     "start_time": "2021-12-13T17:29:30.110565Z"
    }
   },
   "outputs": [
    {
     "data": {
      "text/plain": [
       "True"
      ]
     },
     "execution_count": 25,
     "metadata": {},
     "output_type": "execute_result"
    }
   ],
   "source": [
    "# or requires at least one True value\n",
    "(5 == 3) or (a == 3)"
   ]
  },
  {
   "cell_type": "code",
   "execution_count": 26,
   "id": "ca254034",
   "metadata": {
    "ExecuteTime": {
     "end_time": "2021-12-13T17:30:13.148031Z",
     "start_time": "2021-12-13T17:30:13.140768Z"
    }
   },
   "outputs": [
    {
     "data": {
      "text/plain": [
       "True"
      ]
     },
     "execution_count": 26,
     "metadata": {},
     "output_type": "execute_result"
    }
   ],
   "source": [
    "# not returns the opposite value\n",
    "not (5 == 3)"
   ]
  },
  {
   "cell_type": "code",
   "execution_count": 27,
   "id": "7e9292b3",
   "metadata": {
    "ExecuteTime": {
     "end_time": "2021-12-13T17:31:22.230144Z",
     "start_time": "2021-12-13T17:31:22.225799Z"
    }
   },
   "outputs": [
    {
     "data": {
      "text/plain": [
       "True"
      ]
     },
     "execution_count": 27,
     "metadata": {},
     "output_type": "execute_result"
    }
   ],
   "source": [
    "# Typically used for complex logic\n",
    "my_name = 'Alex'\n",
    "(a == 3) or (my_name == 'James')"
   ]
  },
  {
   "cell_type": "markdown",
   "id": "f093fe36",
   "metadata": {},
   "source": [
    "Evaluation order:\n",
    "\n",
    "1. Parentheses\n",
    "2. `not`\n",
    "3. `and`\n",
    "4. `or`"
   ]
  },
  {
   "cell_type": "code",
   "execution_count": 28,
   "id": "5c3f0ed8",
   "metadata": {
    "ExecuteTime": {
     "end_time": "2021-12-13T17:35:07.025829Z",
     "start_time": "2021-12-13T17:35:07.020450Z"
    }
   },
   "outputs": [
    {
     "name": "stdout",
     "output_type": "stream",
     "text": [
      "True\n",
      "True\n",
      "False\n"
     ]
    },
    {
     "data": {
      "text/plain": [
       "True"
      ]
     },
     "execution_count": 28,
     "metadata": {},
     "output_type": "execute_result"
    }
   ],
   "source": [
    "# Other comparison operators\n",
    "# greater than or equal\n",
    "print(5 >= 2)\n",
    "# strictly greater\n",
    "print(5 > 2)  # boolean values can be passed to functions\n",
    "# less than or equal (= always comes second)\n",
    "print(3 <= 1)\n",
    "# not equal\n",
    "'hi' != 'bye'  # equivalent to not ('hi' == 'bye')"
   ]
  },
  {
   "cell_type": "markdown",
   "id": "9c1b2003-65a2-4878-8388-a12e2f2280fe",
   "metadata": {},
   "source": [
    "## List, tuple, set\n",
    "Often we need to store multiple values in a variable. For example, if we want to analyze internet shop customers from last month, it makes sense to keep them together.\n",
    "\n",
    "Python has several types for data collections:\n",
    "- list\n",
    "- tuple\n",
    "- set\n",
    "\n",
    "Let's explore each.\n",
    "### List\n",
    "A collection that can store, retrieve, and remove objects. Remembers the order of elements."
   ]
  },
  {
   "cell_type": "code",
   "execution_count": 29,
   "id": "9c96da20-e619-43d2-a5f2-0ba8d5df210e",
   "metadata": {
    "ExecuteTime": {
     "end_time": "2021-12-13T17:38:28.935099Z",
     "start_time": "2021-12-13T17:38:28.930291Z"
    }
   },
   "outputs": [
    {
     "data": {
      "text/plain": [
       "[1, 2, 3, 5]"
      ]
     },
     "execution_count": 29,
     "metadata": {},
     "output_type": "execute_result"
    }
   ],
   "source": [
    "# Declared with square brackets, elements separated by commas\n",
    "my_list = [1, 2, 3, 5]\n",
    "my_list"
   ]
  },
  {
   "cell_type": "code",
   "execution_count": 30,
   "id": "97456a2c-dba6-4e74-8efd-b4ac9065ea29",
   "metadata": {
    "ExecuteTime": {
     "end_time": "2021-12-13T17:39:30.896400Z",
     "start_time": "2021-12-13T17:39:30.891402Z"
    }
   },
   "outputs": [
    {
     "data": {
      "text/plain": [
       "2"
      ]
     },
     "execution_count": 30,
     "metadata": {},
     "output_type": "execute_result"
    }
   ],
   "source": [
    "# Access elements by index using square brackets\n",
    "# Note: indexing starts at 0\n",
    "my_list[1]  # second element in list"
   ]
  },
  {
   "cell_type": "code",
   "execution_count": 31,
   "id": "a4d47306-5052-4a37-bf92-275ad2fa317a",
   "metadata": {
    "ExecuteTime": {
     "end_time": "2021-12-13T17:39:51.022934Z",
     "start_time": "2021-12-13T17:39:51.018704Z"
    }
   },
   "outputs": [
    {
     "data": {
      "text/plain": [
       "4"
      ]
     },
     "execution_count": 31,
     "metadata": {},
     "output_type": "execute_result"
    }
   ],
   "source": [
    "len(my_list)  # get length"
   ]
  },
  {
   "cell_type": "code",
   "execution_count": 32,
   "id": "0211e6a0-6db9-4bc9-937a-e90059e11278",
   "metadata": {
    "ExecuteTime": {
     "end_time": "2021-12-13T17:40:35.014035Z",
     "start_time": "2021-12-13T17:40:35.006033Z"
    }
   },
   "outputs": [
    {
     "name": "stdout",
     "output_type": "stream",
     "text": [
      "['a', 1, 3.14, [1, 2]]\n"
     ]
    }
   ],
   "source": [
    "# List elements can be different types\n",
    "# Can even store other lists\n",
    "my_list = ['a', 1, 3.14, [1, 2]]\n",
    "print(my_list)"
   ]
  },
  {
   "cell_type": "code",
   "execution_count": 33,
   "id": "3334055d-ae36-4ab5-bd99-2081b4604127",
   "metadata": {
    "ExecuteTime": {
     "end_time": "2021-12-13T17:41:32.398769Z",
     "start_time": "2021-12-13T17:41:32.389363Z"
    }
   },
   "outputs": [
    {
     "data": {
      "text/plain": [
       "['a', 1, 3.14, [1, 2], 'h', 'e', 'l', 'l', 'o']"
      ]
     },
     "execution_count": 33,
     "metadata": {},
     "output_type": "execute_result"
    }
   ],
   "source": [
    "# Lists can be concatenated\n",
    "new_list = my_list + ['h', 'e', 'l', 'l', 'o']\n",
    "new_list"
   ]
  },
  {
   "cell_type": "code",
   "execution_count": 34,
   "id": "4b2018e0-aa7c-43de-b216-7bd2df4e5baf",
   "metadata": {
    "ExecuteTime": {
     "end_time": "2021-12-13T17:44:40.110496Z",
     "start_time": "2021-12-13T17:44:40.105879Z"
    }
   },
   "outputs": [
    {
     "data": {
      "text/plain": [
       "['a', 1, 3.14, [1, 2], 'h', 'e', 'l', 'l', 'o', 'g']"
      ]
     },
     "execution_count": 34,
     "metadata": {},
     "output_type": "execute_result"
    }
   ],
   "source": [
    "# Add elements with append\n",
    "new_list.append('g')\n",
    "new_list\n",
    "# Execute multiple times - each time appends"
   ]
  },
  {
   "cell_type": "code",
   "execution_count": 35,
   "id": "20624b09-9b5b-4e17-9b37-7b1da6673ab1",
   "metadata": {
    "ExecuteTime": {
     "end_time": "2021-12-13T17:47:42.077190Z",
     "start_time": "2021-12-13T17:47:42.071661Z"
    }
   },
   "outputs": [
    {
     "name": "stdout",
     "output_type": "stream",
     "text": [
      "a\n",
      "g\n"
     ]
    }
   ],
   "source": [
    "# Remove elements by index\n",
    "# Removes first element (position 0)\n",
    "deleted_item = new_list.pop(0)\n",
    "print(deleted_item)\n",
    "# pop() without arguments removes last element\n",
    "print(new_list.pop())\n",
    "# Repeated execution empties the list"
   ]
  },
  {
   "cell_type": "code",
   "execution_count": 36,
   "id": "7f35b2bb",
   "metadata": {
    "ExecuteTime": {
     "end_time": "2021-12-13T17:47:54.290479Z",
     "start_time": "2021-12-13T17:47:54.286563Z"
    }
   },
   "outputs": [
    {
     "data": {
      "text/plain": [
       "[1, 3.14, [1, 2], 'h', 'e', 'l', 'l', 'o']"
      ]
     },
     "execution_count": 36,
     "metadata": {},
     "output_type": "execute_result"
    }
   ],
   "source": [
    "new_list"
   ]
  },
  {
   "cell_type": "code",
   "execution_count": 37,
   "id": "07e49f66-0c88-48c7-b4ac-de98efb10011",
   "metadata": {
    "ExecuteTime": {
     "end_time": "2021-12-13T17:49:08.861682Z",
     "start_time": "2021-12-13T17:49:08.858103Z"
    }
   },
   "outputs": [
    {
     "name": "stdout",
     "output_type": "stream",
     "text": [
      "[1, 3.14, [1, 2], 'h', 'e', 'l', 'l', 'o']\n",
      "[1, 3.14, [1, 2], 'e', 'l', 'l', 'o']\n"
     ]
    }
   ],
   "source": [
    "# Remove by value (raises error if missing)\n",
    "print(new_list)\n",
    "new_list.remove('h')\n",
    "print(new_list)"
   ]
  },
  {
   "cell_type": "markdown",
   "id": "984038ee-82f3-4a7b-961a-d8c0f78745f2",
   "metadata": {},
   "source": [
    "#### When to use\n",
    "When storing multiple data in one logical place. Example: list of a customer's orders.\n",
    "Ideal when you need to add elements, track order, and remove items."
   ]
  },
  {
   "cell_type": "markdown",
   "id": "9717c559-ebcf-46f6-8ce3-4fe712b6455e",
   "metadata": {},
   "source": [
    "### Tuple\n",
    "Similar to `list` but immutable (no `append` or `remove`). Once created, cannot be modified."
   ]
  },
  {
   "cell_type": "code",
   "execution_count": 38,
   "id": "6a93dfcf-6f18-45db-b2b6-dbdabeb61678",
   "metadata": {
    "ExecuteTime": {
     "end_time": "2021-12-13T17:52:51.624453Z",
     "start_time": "2021-12-13T17:52:51.617067Z"
    }
   },
   "outputs": [
    {
     "data": {
      "text/plain": [
       "(1, 2, 3)"
      ]
     },
     "execution_count": 38,
     "metadata": {},
     "output_type": "execute_result"
    }
   ],
   "source": [
    "my_tuple = (1, 2, 3)\n",
    "my_tuple"
   ]
  },
  {
   "cell_type": "code",
   "execution_count": 39,
   "id": "7f1d1574",
   "metadata": {
    "ExecuteTime": {
     "end_time": "2021-12-13T17:53:06.545283Z",
     "start_time": "2021-12-13T17:53:06.535873Z"
    }
   },
   "outputs": [
    {
     "data": {
      "text/plain": [
       "2"
      ]
     },
     "execution_count": 39,
     "metadata": {},
     "output_type": "execute_result"
    }
   ],
   "source": [
    "my_tuple[1]"
   ]
  },
  {
   "cell_type": "code",
   "execution_count": 40,
   "id": "ff1f0b96-e35e-4540-93dc-c3103c44a64d",
   "metadata": {
    "ExecuteTime": {
     "end_time": "2021-12-13T17:53:38.780755Z",
     "start_time": "2021-12-13T17:53:38.773865Z"
    }
   },
   "outputs": [
    {
     "data": {
      "text/plain": [
       "(1, 2, 3, 5, 5)"
      ]
     },
     "execution_count": 40,
     "metadata": {},
     "output_type": "execute_result"
    }
   ],
   "source": [
    "# Can be concatenated like lists\n",
    "# Creates a new tuple\n",
    "my_tuple + (5, 5)"
   ]
  },
  {
   "cell_type": "code",
   "execution_count": 41,
   "id": "fbc0852c-7e2d-4857-a8b0-456f5f05f0d2",
   "metadata": {
    "ExecuteTime": {
     "end_time": "2021-12-13T17:54:15.880142Z",
     "start_time": "2021-12-13T17:54:15.875703Z"
    }
   },
   "outputs": [
    {
     "data": {
      "text/plain": [
       "(5, 5, 1, 2, 3)"
      ]
     },
     "execution_count": 41,
     "metadata": {},
     "output_type": "execute_result"
    }
   ],
   "source": [
    "(5, 5) + my_tuple"
   ]
  },
  {
   "cell_type": "code",
   "execution_count": 42,
   "id": "47cc334e-c115-4223-89e8-f2f2d056b5af",
   "metadata": {
    "ExecuteTime": {
     "end_time": "2021-12-13T17:54:25.610364Z",
     "start_time": "2021-12-13T17:54:25.603220Z"
    }
   },
   "outputs": [
    {
     "data": {
      "text/plain": [
       "6"
      ]
     },
     "execution_count": 42,
     "metadata": {},
     "output_type": "execute_result"
    }
   ],
   "source": [
    "len(my_tuple + (1, 3, 'apple'))"
   ]
  },
  {
   "cell_type": "code",
   "execution_count": 43,
   "id": "080c519f",
   "metadata": {
    "ExecuteTime": {
     "end_time": "2021-12-13T17:54:36.817087Z",
     "start_time": "2021-12-13T17:54:36.812991Z"
    }
   },
   "outputs": [
    {
     "data": {
      "text/plain": [
       "2"
      ]
     },
     "execution_count": 43,
     "metadata": {},
     "output_type": "execute_result"
    }
   ],
   "source": [
    "# Otherwise similar to list\n",
    "my_tuple[1]"
   ]
  },
  {
   "cell_type": "markdown",
   "id": "f811ccea-6f75-47f3-b788-40cdd18ffff0",
   "metadata": {},
   "source": [
    "#### When to use\n",
    "When you need list-like convenience but immutability. We'll discuss this more in Lesson 2."
   ]
  },
  {
   "cell_type": "markdown",
   "id": "d3cbc776",
   "metadata": {},
   "source": [
    "Python built-in types: https://docs.python.org/3/library/stdtypes.html\n",
    "\n",
    "# General \n",
    "#### Numeric Types:\n",
    "- int: Integers (whole numbers, positive, negative, or zero).\n",
    "- float: Floating-point numbers (numbers with a decimal point).\n",
    "- complex: Complex numbers (numbers with a real and an imaginary part).\n",
    "\n",
    "#### Sequence Types:\n",
    "- str: Strings (sequences of Unicode characters).\n",
    "- list: Lists (ordered, mutable collections of items).\n",
    "- tuple: Tuples (ordered, immutable collections of items).\n",
    "- range: Represents an immutable sequence of numbers.\n",
    "\n",
    "\n",
    "#### Mapping Type:\n",
    "- dict: Dictionaries (unordered, mutable collections of key-value pairs).\n",
    "\n",
    "#### Set Types:\n",
    "- set: Sets (unordered, mutable collections of unique items).\n",
    "- frozenset: Frozen sets (unordered, immutable collections of unique items).\n",
    "\n",
    "#### Boolean Type:\n",
    "- bool: Booleans (represents truth values, True or False).\n",
    "\n",
    "\n",
    "#### Binary Types:\n",
    "- bytes: Immutable sequences of bytes.\n",
    "- bytearray: Mutable sequences of bytes.\n",
    "- memoryview: Provides a memory-efficient way to access the internal data of an object.\n",
    "\n",
    "#### None Type:\n",
    "- NoneType: Represents the absence of a value. \n",
    "The sole value of this type is None."
   ]
  },
  {
   "cell_type": "markdown",
   "id": "c6ad5714-0695-47a3-b587-561737d0d02f",
   "metadata": {},
   "source": [
    "### Set\n",
    "Similar to mathematical sets. Stores unique elements. Doesn't preserve element order."
   ]
  },
  {
   "cell_type": "code",
   "execution_count": null,
   "id": "1e06881e-0b19-4a70-ac24-fe2a16c74aa2",
   "metadata": {
    "ExecuteTime": {
     "end_time": "2021-12-13T17:56:50.829581Z",
     "start_time": "2021-12-13T17:56:50.825161Z"
    }
   },
   "outputs": [
    {
     "data": {
      "text/plain": [
       "{2, 3.14, 'a'}"
      ]
     },
     "execution_count": 1,
     "metadata": {},
     "output_type": "execute_result"
    }
   ],
   "source": [
    "a = {2, 'a', 3.14} # '{}'\n",
    "a"
   ]
  },
  {
   "cell_type": "code",
   "execution_count": 3,
   "id": "8abd0bd2",
   "metadata": {
    "ExecuteTime": {
     "end_time": "2021-12-13T17:57:25.437124Z",
     "start_time": "2021-12-13T17:57:25.432992Z"
    }
   },
   "outputs": [
    {
     "data": {
      "text/plain": [
       "set()"
      ]
     },
     "execution_count": 3,
     "metadata": {},
     "output_type": "execute_result"
    }
   ],
   "source": [
    "b = set() # {}, empty set\n",
    "b"
   ]
  },
  {
   "cell_type": "code",
   "execution_count": 4,
   "id": "9574739b",
   "metadata": {},
   "outputs": [
    {
     "data": {
      "text/plain": [
       "set"
      ]
     },
     "execution_count": 4,
     "metadata": {},
     "output_type": "execute_result"
    }
   ],
   "source": [
    "type(b)"
   ]
  },
  {
   "cell_type": "code",
   "execution_count": 5,
   "id": "455ce1f5-8ee9-4466-87be-56e81dff26b3",
   "metadata": {
    "ExecuteTime": {
     "end_time": "2021-12-13T17:58:01.547207Z",
     "start_time": "2021-12-13T17:58:01.543284Z"
    }
   },
   "outputs": [
    {
     "data": {
      "text/plain": [
       "{2, 3, 3.14, 'a'}"
      ]
     },
     "execution_count": 5,
     "metadata": {},
     "output_type": "execute_result"
    }
   ],
   "source": [
    "# Add element\n",
    "a.add(3)\n",
    "a"
   ]
  },
  {
   "cell_type": "code",
   "execution_count": 6,
   "id": "6955c09f-ea77-415c-a3c7-b2bbab02e5c6",
   "metadata": {
    "ExecuteTime": {
     "end_time": "2021-11-17T18:21:07.143573Z",
     "start_time": "2021-11-17T18:21:07.139356Z"
    }
   },
   "outputs": [
    {
     "data": {
      "text/plain": [
       "{2, 3, 3.14, 'a'}"
      ]
     },
     "execution_count": 6,
     "metadata": {},
     "output_type": "execute_result"
    }
   ],
   "source": [
    "# Adding again won't duplicate\n",
    "# Sets never contain duplicates\n",
    "a.add(3)\n",
    "a"
   ]
  },
  {
   "cell_type": "code",
   "execution_count": 7,
   "id": "d49d47e3-479d-4bc1-9a69-f2ba4a6b33a8",
   "metadata": {
    "ExecuteTime": {
     "end_time": "2021-12-13T17:59:05.974332Z",
     "start_time": "2021-12-13T17:59:05.963801Z"
    }
   },
   "outputs": [
    {
     "data": {
      "text/plain": [
       "{2, 3, 'a'}"
      ]
     },
     "execution_count": 7,
     "metadata": {},
     "output_type": "execute_result"
    }
   ],
   "source": [
    "# Remove element (raises error if missing)\n",
    "a.remove(3.14)\n",
    "a"
   ]
  },
  {
   "cell_type": "code",
   "execution_count": 8,
   "id": "3218bee3",
   "metadata": {},
   "outputs": [
    {
     "ename": "KeyError",
     "evalue": "5",
     "output_type": "error",
     "traceback": [
      "\u001b[0;31m---------------------------------------------------------------------------\u001b[0m",
      "\u001b[0;31mKeyError\u001b[0m                                  Traceback (most recent call last)",
      "Cell \u001b[0;32mIn[8], line 1\u001b[0m\n\u001b[0;32m----> 1\u001b[0m a\u001b[38;5;241m.\u001b[39mremove(\u001b[38;5;241m5\u001b[39m)\n",
      "\u001b[0;31mKeyError\u001b[0m: 5"
     ]
    }
   ],
   "source": [
    "a.remove(5)"
   ]
  },
  {
   "cell_type": "code",
   "execution_count": 9,
   "id": "1ef31282",
   "metadata": {},
   "outputs": [
    {
     "ename": "TypeError",
     "evalue": "'set' object is not subscriptable",
     "output_type": "error",
     "traceback": [
      "\u001b[0;31m---------------------------------------------------------------------------\u001b[0m",
      "\u001b[0;31mTypeError\u001b[0m                                 Traceback (most recent call last)",
      "Cell \u001b[0;32mIn[9], line 1\u001b[0m\n\u001b[0;32m----> 1\u001b[0m a[\u001b[38;5;241m0\u001b[39m]\n",
      "\u001b[0;31mTypeError\u001b[0m: 'set' object is not subscriptable"
     ]
    }
   ],
   "source": [
    "a[0]  # Not allowed"
   ]
  },
  {
   "attachments": {},
   "cell_type": "markdown",
   "id": "be4f0c80-c3e5-4921-8bd4-f3ca47ddbfc2",
   "metadata": {},
   "source": [
    "Sets can only contain **immutable** objects! This is due to their internal structure. You cannot create a set like `{2, \"hello\", []}` because the third element is a mutable list.\n",
    "\n",
    "Set operations:\n",
    "- `a.intersection(b)`\n",
    "- `a.union(b)`\n",
    "- `a.symmetric_difference(b)`"
   ]
  },
  {
   "cell_type": "code",
   "execution_count": 10,
   "id": "d5b55b3a-f679-4b41-8b66-d27d7ac464a1",
   "metadata": {
    "ExecuteTime": {
     "end_time": "2021-12-13T18:02:05.480886Z",
     "start_time": "2021-12-13T18:02:05.476402Z"
    }
   },
   "outputs": [
    {
     "data": {
      "text/plain": [
       "{(1, 2), 3}"
      ]
     },
     "execution_count": 10,
     "metadata": {},
     "output_type": "execute_result"
    }
   ],
   "source": [
    "a = {'a', (1, 2), 3}\n",
    "b = {3, (1, 2), 'unique'}\n",
    "a.intersection(b)"
   ]
  },
  {
   "cell_type": "code",
   "execution_count": 11,
   "id": "78b30172-2889-48a8-b6bc-e23330fbb5c8",
   "metadata": {
    "ExecuteTime": {
     "end_time": "2021-12-13T18:02:45.560201Z",
     "start_time": "2021-12-13T18:02:45.555876Z"
    }
   },
   "outputs": [
    {
     "data": {
      "text/plain": [
       "{(1, 2), 3, 'a', 'unique'}"
      ]
     },
     "execution_count": 11,
     "metadata": {},
     "output_type": "execute_result"
    }
   ],
   "source": [
    "a.union(b)"
   ]
  },
  {
   "cell_type": "code",
   "execution_count": 12,
   "id": "bb2665d8-5cf8-4f11-8147-8a18d6f26bde",
   "metadata": {
    "ExecuteTime": {
     "end_time": "2021-12-13T18:03:44.781909Z",
     "start_time": "2021-12-13T18:03:44.776932Z"
    }
   },
   "outputs": [
    {
     "data": {
      "text/plain": [
       "{'a', 'unique'}"
      ]
     },
     "execution_count": 12,
     "metadata": {},
     "output_type": "execute_result"
    }
   ],
   "source": [
    "a.symmetric_difference(b)"
   ]
  },
  {
   "cell_type": "code",
   "execution_count": 13,
   "id": "ab18b195",
   "metadata": {
    "ExecuteTime": {
     "end_time": "2021-12-13T18:05:25.178852Z",
     "start_time": "2021-12-13T18:05:25.174812Z"
    }
   },
   "outputs": [
    {
     "data": {
      "text/plain": [
       "{'a'}"
      ]
     },
     "execution_count": 13,
     "metadata": {},
     "output_type": "execute_result"
    }
   ],
   "source": [
    "a - b  # set difference"
   ]
  },
  {
   "cell_type": "code",
   "execution_count": 14,
   "id": "30a5957b",
   "metadata": {
    "ExecuteTime": {
     "end_time": "2021-12-13T18:05:38.896946Z",
     "start_time": "2021-12-13T18:05:38.892952Z"
    }
   },
   "outputs": [
    {
     "data": {
      "text/plain": [
       "{'unique'}"
      ]
     },
     "execution_count": 14,
     "metadata": {},
     "output_type": "execute_result"
    }
   ],
   "source": [
    "b - a"
   ]
  },
  {
   "cell_type": "markdown",
   "id": "ba949ea9-4372-4c06-a3fa-13955d742bc4",
   "metadata": {},
   "source": [
    "#### When to use\n",
    "1. When you need unique elements and order doesn't matter (most common use case)\n",
    "2. For set operations like intersections"
   ]
  },
  {
   "cell_type": "markdown",
   "id": "98cdbc88-b8e8-4ca4-8dc8-8036a6996041",
   "metadata": {},
   "source": [
    "## Dictionary\n",
    "Great, we can store customer lists in variables. But what if we want to store phone numbers for each customer? Like an address book:\n",
    "\n",
    "| Name    | Phone           |\n",
    "|---------|-----------------|\n",
    "| Alex    | +1 123 456-7890 |\n",
    "| Nick    | +44 987 654-321 |\n",
    "\n",
    "Python uses *dictionaries* (dict) for this:"
   ]
  },
  {
   "cell_type": "code",
   "execution_count": 15,
   "id": "ecc6ef24-3112-4bd1-a625-b79d43f23bd7",
   "metadata": {
    "ExecuteTime": {
     "end_time": "2021-12-13T18:09:04.246914Z",
     "start_time": "2021-12-13T18:09:04.243584Z"
    }
   },
   "outputs": [
    {
     "name": "stdout",
     "output_type": "stream",
     "text": [
      "{'Alex': '+1 123 456-7890', 'Nick': '+44 987 654-321'}\n"
     ]
    }
   ],
   "source": [
    "# Keys can be any immutable object (string, int, tuple)\n",
    "name_to_phone = {\n",
    "    'Alex': '+1 123 456-7890',\n",
    "    'Nick': '+44 987 654-321'\n",
    "}\n",
    "\n",
    "dict_struct = {\n",
    "  \"key\": \"something\"\n",
    "}\n",
    "\n",
    "print(name_to_phone)"
   ]
  },
  {
   "cell_type": "code",
   "execution_count": 17,
   "id": "c02b8a40-d663-4fbe-920c-86569bed079c",
   "metadata": {
    "ExecuteTime": {
     "end_time": "2021-12-13T18:09:54.956079Z",
     "start_time": "2021-12-13T18:09:54.948751Z"
    }
   },
   "outputs": [
    {
     "name": "stdout",
     "output_type": "stream",
     "text": [
      "+1 123 456-7890\n",
      "+44 987 654-321\n"
     ]
    }
   ],
   "source": [
    "# Access values by key\n",
    "print(name_to_phone['Alex'])\n",
    "print(name_to_phone['Nick'])"
   ]
  },
  {
   "cell_type": "code",
   "execution_count": 18,
   "id": "eb70e802",
   "metadata": {},
   "outputs": [
    {
     "ename": "KeyError",
     "evalue": "'NN'",
     "output_type": "error",
     "traceback": [
      "\u001b[0;31m---------------------------------------------------------------------------\u001b[0m",
      "\u001b[0;31mKeyError\u001b[0m                                  Traceback (most recent call last)",
      "Cell \u001b[0;32mIn[18], line 1\u001b[0m\n\u001b[0;32m----> 1\u001b[0m name_to_phone[\u001b[38;5;124m\"\u001b[39m\u001b[38;5;124mNN\u001b[39m\u001b[38;5;124m\"\u001b[39m]\n",
      "\u001b[0;31mKeyError\u001b[0m: 'NN'"
     ]
    }
   ],
   "source": [
    "name_to_phone[\"NN\"]"
   ]
  },
  {
   "cell_type": "code",
   "execution_count": 19,
   "id": "ff6be354-df67-4b19-b2de-1c380e17e605",
   "metadata": {
    "ExecuteTime": {
     "end_time": "2021-12-13T18:11:56.326604Z",
     "start_time": "2021-12-13T18:11:56.323326Z"
    }
   },
   "outputs": [
    {
     "name": "stdout",
     "output_type": "stream",
     "text": [
      "+44 987 654-321\n",
      "no info\n"
     ]
    }
   ],
   "source": [
    "# Safe access with default value\n",
    "print(name_to_phone.get('Nick', 'no info'))  # Key exists\n",
    "print(name_to_phone.get('Maria', 'no info'))  # Key missing"
   ]
  },
  {
   "cell_type": "code",
   "execution_count": 20,
   "id": "23d106f6-af97-42cf-b533-2575fa04a25a",
   "metadata": {
    "ExecuteTime": {
     "end_time": "2021-12-13T18:12:58.183143Z",
     "start_time": "2021-12-13T18:12:58.178010Z"
    }
   },
   "outputs": [
    {
     "name": "stdout",
     "output_type": "stream",
     "text": [
      "+1 555 123-4567\n"
     ]
    },
    {
     "data": {
      "text/plain": [
       "True"
      ]
     },
     "execution_count": 20,
     "metadata": {},
     "output_type": "execute_result"
    }
   ],
   "source": [
    "# Add elements with assignment\n",
    "name_to_phone['Sarah'] = '+1 555 123-4567'\n",
    "print(name_to_phone['Sarah'])\n",
    "# Check key existence\n",
    "'Sarah' in name_to_phone"
   ]
  },
  {
   "cell_type": "code",
   "execution_count": 21,
   "id": "67079117",
   "metadata": {
    "ExecuteTime": {
     "end_time": "2021-12-13T18:14:26.483369Z",
     "start_time": "2021-12-13T18:14:26.479619Z"
    }
   },
   "outputs": [
    {
     "data": {
      "text/plain": [
       "{'Alex': '+1 123 456-7890',\n",
       " 'Nick': '+44 987 654-321',\n",
       " 'Sarah': '+1 555 123-4567'}"
      ]
     },
     "execution_count": 21,
     "metadata": {},
     "output_type": "execute_result"
    }
   ],
   "source": [
    "name_to_phone"
   ]
  },
  {
   "cell_type": "code",
   "execution_count": 22,
   "id": "495edbc6-1e5d-4c82-8c5b-10a37a9fa51f",
   "metadata": {
    "ExecuteTime": {
     "end_time": "2021-12-13T18:14:14.184332Z",
     "start_time": "2021-12-13T18:14:14.176871Z"
    }
   },
   "outputs": [
    {
     "data": {
      "text/plain": [
       "'hidden'"
      ]
     },
     "execution_count": 22,
     "metadata": {},
     "output_type": "execute_result"
    }
   ],
   "source": [
    "# Edit existing values\n",
    "name_to_phone['Sarah'] = 'hidden'\n",
    "name_to_phone['Sarah']"
   ]
  },
  {
   "cell_type": "markdown",
   "id": "4a698587-54d4-4b1b-9a7e-ff14313d66f4",
   "metadata": {},
   "source": [
    "## Conditions and Loops\n",
    "We can store objects in lists and mappings in dictionaries. But how to process them? Writing code for each element is impractical.\n",
    "\n",
    "Python has *loops* to apply operations to every element in a collection.\n",
    "\n",
    "### for Loop\n",
    "Iterates through all elements and executes operations:"
   ]
  },
  {
   "cell_type": "code",
   "execution_count": null,
   "id": "66ab8be5-aaab-4b7a-8ffd-8f06eca7fa13",
   "metadata": {
    "ExecuteTime": {
     "end_time": "2021-12-13T18:27:05.364641Z",
     "start_time": "2021-12-13T18:27:05.361427Z"
    }
   },
   "outputs": [
    {
     "name": "stdout",
     "output_type": "stream",
     "text": [
      "Calculating in loop\n",
      "4.0\n",
      "Calculating in loop\n",
      "5.0\n",
      "Calculating in loop\n",
      "6.0\n",
      "Written once\n"
     ]
    }
   ],
   "source": [
    "for a in [9, 16, 25]:\n",
    "    print('Calculating in loop')\n",
    "    print(a ** 0.5 + 1) # math.sqrt() sqrt(9) = 3 + 1 = 4\n",
    "\n",
    "print('Written once')"
   ]
  },
  {
   "cell_type": "markdown",
   "id": "ac7a30d5-6858-416e-9897-3398a3d58396",
   "metadata": {},
   "source": [
    "Syntax:\n",
    "```python\n",
    "for element in list_or_tuple_or_set:\n",
    "    operation_1\n",
    "    operation_2\n",
    "```\n",
    "`element` takes each object from the collection in turn.\n",
    "\n",
    "Note the colon (:) and indentation (tabs or 4 spaces) - syntax requirements. Indentation tells Python which commands to repeat in the loop (the *loop body*).\n",
    "\n",
    "In the example above, the first two `print` statements are in the loop, the last is not.\n",
    "\n",
    "Practical application:"
   ]
  },
  {
   "cell_type": "code",
   "execution_count": 25,
   "id": "8d02f714-19c1-44f5-a192-222842504ad9",
   "metadata": {
    "ExecuteTime": {
     "end_time": "2021-12-13T18:28:10.312310Z",
     "start_time": "2021-12-13T18:28:10.308599Z"
    }
   },
   "outputs": [
    {
     "name": "stdout",
     "output_type": "stream",
     "text": [
      "0\n",
      "1\n",
      "2\n",
      "3\n",
      "4\n"
     ]
    }
   ],
   "source": [
    "# range(n) generates numbers 0 to n-1\n",
    "# Frequently used in practice\n",
    "for i in range(5): \n",
    "    print(i)"
   ]
  },
  {
   "cell_type": "code",
   "execution_count": 64,
   "id": "519bcc5e-e5e4-42f6-a0fb-656288e97c87",
   "metadata": {
    "ExecuteTime": {
     "end_time": "2021-12-13T18:30:46.848660Z",
     "start_time": "2021-12-13T18:30:46.845498Z"
    }
   },
   "outputs": [
    {
     "name": "stdout",
     "output_type": "stream",
     "text": [
      "Square of 1 is 1\n",
      "Square of 2 is 4\n",
      "Square of 3 is 9\n",
      "Square of 4 is 16\n",
      "Square of 5 is 25\n",
      "Square of 6 is 36\n"
     ]
    }
   ],
   "source": [
    "# range(start, stop) generates from start to stop-1\n",
    "for i in range(1, 7):\n",
    "    # f-strings allow embedding Python expressions\n",
    "    print(f'Square of {i} is {i * i}')"
   ]
  },
  {
   "cell_type": "code",
   "execution_count": 26,
   "id": "e28bd8b2-eb3f-4391-8875-9327c1fefd86",
   "metadata": {
    "ExecuteTime": {
     "end_time": "2021-12-13T18:33:25.046190Z",
     "start_time": "2021-12-13T18:33:25.042331Z"
    }
   },
   "outputs": [
    {
     "name": "stdout",
     "output_type": "stream",
     "text": [
      "Generating even numbers\n",
      "[0, 2, 4, 6, 8, 10, 12]\n"
     ]
    }
   ],
   "source": [
    "print('Generating even numbers')\n",
    "# range(start, stop, step) generates with step\n",
    "even_numbers = []\n",
    "for i in range(0, 14, 2):\n",
    "    even_numbers.append(i)\n",
    "print(even_numbers)"
   ]
  },
  {
   "cell_type": "markdown",
   "id": "82e54531-7eeb-4f0e-be8f-ce18d99e3262",
   "metadata": {
    "tags": []
   },
   "source": [
    "### while Loop\n",
    "Unlike `for`, `while` doesn't need a collection. It repeats code while a condition is true:"
   ]
  },
  {
   "cell_type": "code",
   "execution_count": 28,
   "id": "4f4f626c-70ba-46c3-9c3f-a8801dad7f4e",
   "metadata": {
    "ExecuteTime": {
     "end_time": "2021-12-13T18:36:39.429689Z",
     "start_time": "2021-12-13T18:36:39.424281Z"
    }
   },
   "outputs": [
    {
     "name": "stdout",
     "output_type": "stream",
     "text": [
      "Divisible by 2, dividing\n",
      "17312\n",
      "Divisible by 2, dividing\n",
      "8656\n",
      "Divisible by 2, dividing\n",
      "4328\n",
      "Divisible by 2, dividing\n",
      "2164\n",
      "Divisible by 2, dividing\n",
      "1082\n",
      "Divisible by 2, dividing\n",
      "541\n",
      "541\n"
     ]
    }
   ],
   "source": [
    "# Count how many times a number is divisible by 2\n",
    "number = 34624\n",
    "\n",
    "# while loop handles unknown iteration count\n",
    "while number % 2 == 0:  \n",
    "    print('Divisible by 2, dividing')\n",
    "    number //= 2  # equivalent to number = number // 2\n",
    "    print(number) \n",
    "print(number)"
   ]
  },
  {
   "cell_type": "markdown",
   "id": "7f6f9762-e842-44d2-8ccc-325b8ca53c7a",
   "metadata": {},
   "source": [
    "`==` is the equality operator. When `number % 2 == 0` becomes `False`, the loop exits."
   ]
  },
  {
   "cell_type": "markdown",
   "id": "150a07f6-f08c-40ce-9e51-a4c1e00803e8",
   "metadata": {
    "tags": []
   },
   "source": [
    "### Conditional: `if`\n",
    "\n",
    "Imagine we have account balances and need to print negative ones. How to implement \"if\"?\n",
    "\n",
    "The `if` operator:"
   ]
  },
  {
   "cell_type": "code",
   "execution_count": 29,
   "id": "5a70cee3-2bb2-4f67-8ddc-58e3831a1167",
   "metadata": {
    "ExecuteTime": {
     "end_time": "2021-12-13T18:42:30.841105Z",
     "start_time": "2021-12-13T18:42:30.837961Z"
    }
   },
   "outputs": [
    {
     "name": "stdout",
     "output_type": "stream",
     "text": [
      "Number is even\n"
     ]
    }
   ],
   "source": [
    "# Simple example: different messages for even/odd\n",
    "number = 4\n",
    "if number % 2 == 0:\n",
    "    print('Number is even')\n",
    "else:\n",
    "    print('Number is odd')"
   ]
  },
  {
   "cell_type": "code",
   "execution_count": 30,
   "id": "5711bab4-bd04-4543-8a65-06359d2bef5d",
   "metadata": {
    "ExecuteTime": {
     "end_time": "2021-12-13T18:44:31.808703Z",
     "start_time": "2021-12-13T18:44:31.801201Z"
    }
   },
   "outputs": [
    {
     "name": "stdout",
     "output_type": "stream",
     "text": [
      "Finished processing balance 1482.0\n",
      "Finished processing balance 28182.12\n",
      "-124.42 is negative, adding to result\n",
      "Finished processing balance -124.42\n",
      "Finished processing balance 85.3\n",
      "-23.5 is negative, adding to result\n",
      "Finished processing balance -23.5\n",
      "Finished processing balance 82\n",
      "Negative balances: [-124.42, -23.5]\n"
     ]
    }
   ],
   "source": [
    "# Find accounts with negative balance\n",
    "accounts_balance = [1482.0, 28182.12, -124.42, 85.3, -23.5, 82]\n",
    "\n",
    "negative_accounts = []\n",
    "for balance in accounts_balance:\n",
    "    if balance < 0:\n",
    "        print(f'{balance} is negative, adding to result')\n",
    "        negative_accounts.append(balance)\n",
    "    # Always executes (not controlled by if)\n",
    "    print(f'Finished processing balance {balance}')\n",
    "    \n",
    "print(f'Negative balances: {negative_accounts}')"
   ]
  },
  {
   "cell_type": "markdown",
   "id": "48ce3e26-304c-46e1-ad6d-7d841d78e5ba",
   "metadata": {},
   "source": [
    "`if` syntax resembles `while` and `for` - all are block structures. `if` handles multiple cases:"
   ]
  },
  {
   "cell_type": "code",
   "execution_count": null,
   "id": "d0415f18-75c0-452e-b45a-e5096ccd9001",
   "metadata": {
    "ExecuteTime": {
     "end_time": "2021-12-13T18:51:21.658466Z",
     "start_time": "2021-12-13T18:51:12.571897Z"
    }
   },
   "outputs": [],
   "source": [
    "# input() requests user input\n",
    "name = input()  # Try entering \"London\" or \"Oslo\"\n",
    "if name == 'London':\n",
    "    print('Capital of UK')\n",
    "elif name == 'Oslo':\n",
    "    print('Capital of Norway')\n",
    "else:\n",
    "    print('Unknown')"
   ]
  },
  {
   "cell_type": "markdown",
   "id": "8f129b45-e6c0-490a-b95f-cd34845e7d35",
   "metadata": {},
   "source": [
    "Execution order: If `if` condition fails, `elif` conditions are checked in order. First true condition executes its block. If none match, `else` executes.\n",
    "\n",
    "### break and continue\n",
    "Two important additions to loops:\n",
    "- `break`: Exit loop early\n",
    "- `continue`: Skip to next iteration"
   ]
  },
  {
   "cell_type": "code",
   "execution_count": 32,
   "id": "d3c07fbf-26b9-4b9b-9674-2230b0c07b03",
   "metadata": {
    "ExecuteTime": {
     "end_time": "2021-12-13T18:53:07.469600Z",
     "start_time": "2021-12-13T18:53:07.463309Z"
    },
    "tags": []
   },
   "outputs": [
    {
     "name": "stdout",
     "output_type": "stream",
     "text": [
      "see\n",
      "this\n",
      "long\n"
     ]
    }
   ],
   "source": [
    "words = ['see', 'this', 'long', 'sentence', 'here', 'no-show', 'no-show']\n",
    "for i in range(len(words)):\n",
    "    # Exit early after third word\n",
    "    if i > 2:\n",
    "        break\n",
    "    print(words[i])\n",
    "    "
   ]
  },
  {
   "cell_type": "code",
   "execution_count": 33,
   "id": "428672d7-24e4-4e74-976f-27aef8f826df",
   "metadata": {
    "ExecuteTime": {
     "end_time": "2021-12-13T18:59:58.622096Z",
     "start_time": "2021-12-13T18:59:58.617650Z"
    }
   },
   "outputs": [
    {
     "name": "stdout",
     "output_type": "stream",
     "text": [
      "0 0\n",
      "0 1\n",
      "0 2\n",
      "0 3\n",
      "Incrementing i\n",
      "1 0\n",
      "1 1\n",
      "1 2\n",
      "1 3\n",
      "Incrementing i\n",
      "2 0\n",
      "2 1\n",
      "2 2\n",
      "2 3\n",
      "Incrementing i\n",
      "3 0\n",
      "3 1\n",
      "3 2\n",
      "3 3\n",
      "Incrementing i\n",
      "4 0\n",
      "4 1\n",
      "4 2\n",
      "4 3\n",
      "Incrementing i\n"
     ]
    }
   ],
   "source": [
    "for i in range(5):\n",
    "    for j in range(4):  # Reduced for readability\n",
    "        print(i, j)\n",
    "        if j > 2:\n",
    "            # Only breaks inner loop\n",
    "            break\n",
    "    print('Incrementing i')"
   ]
  },
  {
   "cell_type": "markdown",
   "id": "a5b3885c-1d86-4488-8786-e53cdc37843e",
   "metadata": {},
   "source": [
    "`continue` skips to the next iteration:"
   ]
  },
  {
   "cell_type": "code",
   "execution_count": 34,
   "id": "74ee1b81-40df-473f-a71d-784dc607231f",
   "metadata": {
    "ExecuteTime": {
     "end_time": "2021-12-13T19:01:45.304141Z",
     "start_time": "2021-12-13T19:01:45.297828Z"
    }
   },
   "outputs": [
    {
     "name": "stdout",
     "output_type": "stream",
     "text": [
      "Starting action: make sandwich\n",
      "Coffee machine broken, skipping\n",
      "Starting action: watch TV\n",
      "Starting action: wash plate\n"
     ]
    }
   ],
   "source": [
    "for feature in ['make sandwich', 'make coffee', 'watch TV', 'wash plate']:\n",
    "    if feature == 'make coffee':\n",
    "        print('Coffee machine broken, skipping')\n",
    "        continue\n",
    "    print(f'Starting action: {feature}')"
   ]
  },
  {
   "cell_type": "markdown",
   "id": "760b3826-e787-48ea-b04f-6b53a74eea14",
   "metadata": {},
   "source": [
    "`continue` is useful for skipping invalid combinations. `break` is commonly used in `while` loops for early termination, like stopping gradient descent in machine learning if no improvement occurs."
   ]
  }
 ],
 "metadata": {
  "kernelspec": {
   "display_name": "base",
   "language": "python",
   "name": "python3"
  },
  "language_info": {
   "codemirror_mode": {
    "name": "ipython",
    "version": 3
   },
   "file_extension": ".py",
   "mimetype": "text/x-python",
   "name": "python",
   "nbconvert_exporter": "python",
   "pygments_lexer": "ipython3",
   "version": "3.12.4"
  },
  "toc": {
   "base_numbering": 1,
   "nav_menu": {},
   "number_sections": true,
   "sideBar": true,
   "skip_h1_title": false,
   "title_cell": "Table of Contents",
   "title_sidebar": "Contents",
   "toc_cell": false,
   "toc_position": {},
   "toc_section_display": true,
   "toc_window_display": false
  },
  "varInspector": {
   "cols": {
    "lenName": 16,
    "lenType": 16,
    "lenVar": 40
   },
   "kernels_config": {
    "python": {
     "delete_cmd_postfix": "",
     "delete_cmd_prefix": "del ",
     "library": "var_list.py",
     "varRefreshCmd": "print(var_dic_list())"
    },
    "r": {
     "delete_cmd_postfix": ") ",
     "delete_cmd_prefix": "rm(",
     "library": "var_list.r",
     "varRefreshCmd": "cat(var_dic_list()) "
    }
   },
   "types_to_exclude": [
    "module",
    "function",
    "builtin_function_or_method",
    "instance",
    "_Feature"
   ],
   "window_display": false
  }
 },
 "nbformat": 4,
 "nbformat_minor": 5
}
